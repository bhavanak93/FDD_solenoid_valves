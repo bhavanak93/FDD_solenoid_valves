{
  "nbformat": 4,
  "nbformat_minor": 0,
  "metadata": {
    "colab": {
      "name": "BinaryClassification(Good-Bad valves).ipynb",
      "provenance": [],
      "collapsed_sections": [
        "_BCoX1YbEd61",
        "XmYcDdPT7loL",
        "-hK3bwrK1an3",
        "AEkOf64UXdxR",
        "Jps_9uJSDmoE",
        "boP55T3CeAH4",
        "4BWrMl_GPmdg",
        "7FSABBE5eO0D",
        "RmMBYy7bNeFC",
        "Js-2jvd8WHLQ",
        "_-1du7P4HDMA",
        "FpEzmm5l8uSZ",
        "cI7hLk-rHL5f",
        "U--HVYv09JL0",
        "Lew_RSOTu99g"
      ],
      "toc_visible": true
    },
    "kernelspec": {
      "name": "python3",
      "display_name": "Python 3"
    },
    "accelerator": "GPU"
  },
  "cells": [
    {
      "cell_type": "markdown",
      "metadata": {
        "id": "zXJttTnBIBeN",
        "colab_type": "text"
      },
      "source": [
        "# Pre-requisites for Tensorflow 2.0 and other imports\n"
      ]
    },
    {
      "cell_type": "code",
      "metadata": {
        "id": "14MB4uxD1ann",
        "colab_type": "code",
        "colab": {
          "base_uri": "https://localhost:8080/",
          "height": 63
        },
        "outputId": "f20beb88-cab7-4167-b73a-ba4508be6f32"
      },
      "source": [
        "# prerequisites for working with Tensorflow 2.0 rc\n",
        "from __future__ import absolute_import, division, print_function, unicode_literals\n",
        "\n",
        "import tensorflow as tf\n",
        "\n",
        "from tensorflow.keras.layers import Dense, Conv1D, MaxPooling1D, Flatten\n",
        "from tensorflow.keras import Model\n",
        "from tensorflow.keras.optimizers import Adam\n",
        "from tensorflow.keras.utils import to_categorical\n",
        "from tensorflow.keras.callbacks import EarlyStopping\n",
        "\n",
        "import numpy as np\n",
        "import pandas as pd\n",
        "import seaborn as sn \n",
        "import matplotlib.pyplot as plt\n",
        "from sklearn.metrics import confusion_matrix"
      ],
      "execution_count": null,
      "outputs": [
        {
          "output_type": "display_data",
          "data": {
            "text/html": [
              "<p style=\"color: red;\">\n",
              "The default version of TensorFlow in Colab will soon switch to TensorFlow 2.x.<br>\n",
              "We recommend you <a href=\"https://www.tensorflow.org/guide/migrate\" target=\"_blank\">upgrade</a> now \n",
              "or ensure your notebook will continue to use TensorFlow 1.x via the <code>%tensorflow_version 1.x</code> magic:\n",
              "<a href=\"https://colab.research.google.com/notebooks/tensorflow_version.ipynb\" target=\"_blank\">more info</a>.</p>\n"
            ],
            "text/plain": [
              "<IPython.core.display.HTML object>"
            ]
          },
          "metadata": {
            "tags": []
          }
        }
      ]
    },
    {
      "cell_type": "code",
      "metadata": {
        "id": "cJc8LfLV1cs7",
        "colab_type": "code",
        "colab": {
          "base_uri": "https://localhost:8080/",
          "height": 306
        },
        "outputId": "aa29976f-48fc-4318-9379-7fea9bf66429"
      },
      "source": [
        "!nvidia-smi"
      ],
      "execution_count": null,
      "outputs": [
        {
          "output_type": "stream",
          "text": [
            "Thu Nov 28 14:40:30 2019       \n",
            "+-----------------------------------------------------------------------------+\n",
            "| NVIDIA-SMI 440.33.01    Driver Version: 418.67       CUDA Version: 10.1     |\n",
            "|-------------------------------+----------------------+----------------------+\n",
            "| GPU  Name        Persistence-M| Bus-Id        Disp.A | Volatile Uncorr. ECC |\n",
            "| Fan  Temp  Perf  Pwr:Usage/Cap|         Memory-Usage | GPU-Util  Compute M. |\n",
            "|===============================+======================+======================|\n",
            "|   0  Tesla K80           Off  | 00000000:00:04.0 Off |                    0 |\n",
            "| N/A   64C    P8    32W / 149W |      0MiB / 11441MiB |      0%      Default |\n",
            "+-------------------------------+----------------------+----------------------+\n",
            "                                                                               \n",
            "+-----------------------------------------------------------------------------+\n",
            "| Processes:                                                       GPU Memory |\n",
            "|  GPU       PID   Type   Process name                             Usage      |\n",
            "|=============================================================================|\n",
            "|  No running processes found                                                 |\n",
            "+-----------------------------------------------------------------------------+\n"
          ],
          "name": "stdout"
        }
      ]
    },
    {
      "cell_type": "code",
      "metadata": {
        "id": "XYUJgTbC1luI",
        "colab_type": "code",
        "colab": {
          "base_uri": "https://localhost:8080/",
          "height": 136
        },
        "outputId": "b989eae3-ace9-4b27-e0bc-8043832e6cb3"
      },
      "source": [
        "# To get data from gitlab\n",
        "#!git clone https://<username>:<password>@gitlab.com/<project>\n",
        "#!git clone https://<>:<>@gitlab.com/bhavanak93/master_thesis_dataset.git"
      ],
      "execution_count": null,
      "outputs": [
        {
          "output_type": "stream",
          "text": [
            "Cloning into 'master_thesis_dataset'...\n",
            "remote: Enumerating objects: 172, done.\u001b[K\n",
            "remote: Counting objects: 100% (172/172), done.\u001b[K\n",
            "remote: Compressing objects: 100% (30/30), done.\u001b[K\n",
            "remote: Total 172 (delta 142), reused 172 (delta 142)\u001b[K\n",
            "Receiving objects: 100% (172/172), 13.80 MiB | 6.66 MiB/s, done.\n",
            "Resolving deltas: 100% (142/142), done.\n"
          ],
          "name": "stdout"
        }
      ]
    },
    {
      "cell_type": "markdown",
      "metadata": {
        "id": "_BCoX1YbEd61",
        "colab_type": "text"
      },
      "source": [
        "# Data preparation\n"
      ]
    },
    {
      "cell_type": "code",
      "metadata": {
        "id": "XkmgYwqK1ant",
        "colab_type": "code",
        "colab": {}
      },
      "source": [
        "# Data Preparation -> Room temperature data only\n",
        "#path_rt = \"/Users/bhavana/Work/MasterThesis/Data/allValves/\"\n",
        "#path_rt = \"Z:/User/KrishnaMurthy/Work/data/exp_data/allValves/\"\n",
        "path_rt = \"master_thesis_dataset/allValves/\"\n",
        "\n",
        "# use 100 readings of RT\n",
        "rt_cols = [i for i in range(1,502)]\n",
        "\n",
        "df_2103_rt = pd.read_csv(path_rt + '1021-03_500readings_100sPause.csv', index_col=0, usecols=rt_cols) \n",
        "df_2105_rt = pd.read_csv(path_rt + '1021-05_500readings_100sPause.csv', index_col=0, usecols=rt_cols)\n",
        "df_2115_rt = pd.read_csv(path_rt + '1021-15_500readings_100sPause.csv', index_col=0, usecols=rt_cols)\n",
        "df_2117_rt = pd.read_csv(path_rt + '1021-17_500readings_100sPause.csv', index_col=0, usecols=rt_cols)\n",
        "df_2007_rt = pd.read_csv(path_rt + '1020-07_500readings_100sPause.csv', index_col=0, usecols=rt_cols)\n",
        "df_2010_rt = pd.read_csv(path_rt + '1020-10_500readings_100sPause.csv', index_col=0, usecols=rt_cols)\n",
        "df_2016_rt = pd.read_csv(path_rt + '1020-16_500readings_100sPause.csv', index_col=0, usecols=rt_cols)\n",
        "df_2017_rt = pd.read_csv(path_rt + '1020-17_500readings_100sPause.csv', index_col=0, usecols=rt_cols)\n",
        "df_2021_rt = pd.read_csv(path_rt + '1020-21_500readings_100sPause.csv', index_col=0, usecols=rt_cols)\n",
        "df_2008_rt = pd.read_csv(path_rt + '1020-08_500readings_100sPause.csv', index_col=0, usecols=rt_cols)\n",
        "df_2009_rt = pd.read_csv(path_rt + '1020-09_500readings_100sPause.csv', index_col=0, usecols=rt_cols)"
      ],
      "execution_count": null,
      "outputs": []
    },
    {
      "cell_type": "code",
      "metadata": {
        "id": "nxjv4U-E1anw",
        "colab_type": "code",
        "colab": {}
      },
      "source": [
        "# Data Preparation -> Temperature data of 5 temperature values : 5def, 15 deg, 25deg, 35deg, 45deg\n",
        "#path_temp = \"/Users/bhavana/Work/MasterThesis/Data/tempData/\"\n",
        "#path_temp = \"Z:/User/KrishnaMurthy/Work/data/exp_data/tempData/\"\n",
        "path_temp = \"master_thesis_dataset/tempData/\"\n",
        "\n",
        "# use 100 readings of each temperature \n",
        "temp_cols = [i for i in range(1,102)]\n",
        "\n",
        "# for 5degrees :\n",
        "df_2103_05deg = pd.read_csv(path_temp + '1021-03_05deg_100readings_withPause.csv', index_col=0, usecols=temp_cols) \n",
        "df_2105_05deg = pd.read_csv(path_temp + '1021-05_05deg_100readings_withPause.csv', index_col=0, usecols=temp_cols)\n",
        "df_2115_05deg = pd.read_csv(path_temp + '1021-15_05deg_100readings_withPause.csv', index_col=0, usecols=temp_cols)\n",
        "df_2117_05deg = pd.read_csv(path_temp + '1021-17_05deg_100readings_withPause.csv', index_col=0, usecols=temp_cols)\n",
        "df_2007_05deg = pd.read_csv(path_temp + '1020-07_05deg_100readings_withPause.csv', index_col=0, usecols=temp_cols)\n",
        "df_2010_05deg = pd.read_csv(path_temp + '1020-10_05deg_100readings_withPause.csv', index_col=0, usecols=temp_cols)\n",
        "df_2016_05deg = pd.read_csv(path_temp + '1020-16_05deg_100readings_withPause.csv', index_col=0, usecols=temp_cols)\n",
        "df_2017_05deg = pd.read_csv(path_temp + '1020-17_05deg_100readings_withPause.csv', index_col=0, usecols=temp_cols)\n",
        "df_2021_05deg = pd.read_csv(path_temp + '1020-21_05deg_100readings_withPause.csv', index_col=0, usecols=temp_cols)\n",
        "df_2008_05deg = pd.read_csv(path_temp + '1020-08_05deg_100readings_withPause.csv', index_col=0, usecols=temp_cols)\n",
        "df_2009_05deg = pd.read_csv(path_temp + '1020-09_05deg_100readings_withPause.csv', index_col=0, usecols=temp_cols)\n",
        "\n",
        "# for 15degrees :\n",
        "df_2103_15deg = pd.read_csv(path_temp + '1021-03_15deg_100readings_withPause.csv', index_col=0, usecols=temp_cols) \n",
        "df_2105_15deg = pd.read_csv(path_temp + '1021-05_15deg_100readings_withPause.csv', index_col=0, usecols=temp_cols)\n",
        "df_2115_15deg = pd.read_csv(path_temp + '1021-15_15deg_100readings_withPause.csv', index_col=0, usecols=temp_cols)\n",
        "df_2117_15deg = pd.read_csv(path_temp + '1021-17_15deg_100readings_withPause.csv', index_col=0, usecols=temp_cols)\n",
        "df_2007_15deg = pd.read_csv(path_temp + '1020-07_15deg_100readings_withPause.csv', index_col=0, usecols=temp_cols)\n",
        "df_2010_15deg = pd.read_csv(path_temp + '1020-10_15deg_100readings_withPause.csv', index_col=0, usecols=temp_cols)\n",
        "df_2016_15deg = pd.read_csv(path_temp + '1020-16_15deg_100readings_withPause.csv', index_col=0, usecols=temp_cols)\n",
        "df_2017_15deg = pd.read_csv(path_temp + '1020-17_15deg_100readings_withPause.csv', index_col=0, usecols=temp_cols)\n",
        "df_2021_15deg = pd.read_csv(path_temp + '1020-21_15deg_100readings_withPause.csv', index_col=0, usecols=temp_cols)\n",
        "df_2008_15deg = pd.read_csv(path_temp + '1020-08_15deg_100readings_withPause.csv', index_col=0, usecols=temp_cols)\n",
        "df_2009_15deg = pd.read_csv(path_temp + '1020-09_15deg_100readings_withPause.csv', index_col=0, usecols=temp_cols)\n",
        "\n",
        "# for 25degrees :\n",
        "df_2103_25deg = pd.read_csv(path_temp + '1021-03_25deg_100readings_withPause.csv', index_col=0, usecols=temp_cols) \n",
        "df_2105_25deg = pd.read_csv(path_temp + '1021-05_25deg_100readings_withPause.csv', index_col=0, usecols=temp_cols)\n",
        "df_2115_25deg = pd.read_csv(path_temp + '1021-15_25deg_100readings_withPause.csv', index_col=0, usecols=temp_cols)\n",
        "df_2117_25deg = pd.read_csv(path_temp + '1021-17_25deg_100readings_withPause.csv', index_col=0, usecols=temp_cols)\n",
        "df_2007_25deg = pd.read_csv(path_temp + '1020-07_25deg_100readings_withPause.csv', index_col=0, usecols=temp_cols)\n",
        "df_2010_25deg = pd.read_csv(path_temp + '1020-10_25deg_100readings_withPause.csv', index_col=0, usecols=temp_cols)\n",
        "df_2016_25deg = pd.read_csv(path_temp + '1020-16_25deg_100readings_withPause.csv', index_col=0, usecols=temp_cols)\n",
        "df_2017_25deg = pd.read_csv(path_temp + '1020-17_25deg_100readings_withPause.csv', index_col=0, usecols=temp_cols)\n",
        "df_2021_25deg = pd.read_csv(path_temp + '1020-21_25deg_100readings_withPause.csv', index_col=0, usecols=temp_cols)\n",
        "df_2008_25deg = pd.read_csv(path_temp + '1020-08_25deg_100readings_withPause.csv', index_col=0, usecols=temp_cols)\n",
        "df_2009_25deg = pd.read_csv(path_temp + '1020-09_25deg_100readings_withPause.csv', index_col=0, usecols=temp_cols)\n",
        "\n",
        "# for 35degrees :\n",
        "df_2103_35deg = pd.read_csv(path_temp + '1021-03_35deg_100readings_withPause.csv', index_col=0, usecols=temp_cols) \n",
        "df_2105_35deg = pd.read_csv(path_temp + '1021-05_35deg_100readings_withPause.csv', index_col=0, usecols=temp_cols)\n",
        "df_2115_35deg = pd.read_csv(path_temp + '1021-15_35deg_100readings_withPause.csv', index_col=0, usecols=temp_cols)\n",
        "df_2117_35deg = pd.read_csv(path_temp + '1021-17_35deg_100readings_withPause.csv', index_col=0, usecols=temp_cols)\n",
        "df_2007_35deg = pd.read_csv(path_temp + '1020-07_35deg_100readings_withPause.csv', index_col=0, usecols=temp_cols)\n",
        "df_2010_35deg = pd.read_csv(path_temp + '1020-10_35deg_100readings_withPause.csv', index_col=0, usecols=temp_cols)\n",
        "df_2016_35deg = pd.read_csv(path_temp + '1020-16_35deg_100readings_withPause.csv', index_col=0, usecols=temp_cols)\n",
        "df_2017_35deg = pd.read_csv(path_temp + '1020-17_35deg_100readings_withPause.csv', index_col=0, usecols=temp_cols)\n",
        "df_2021_35deg = pd.read_csv(path_temp + '1020-21_35deg_100readings_withPause.csv', index_col=0, usecols=temp_cols)\n",
        "df_2008_35deg = pd.read_csv(path_temp + '1020-08_35deg_100readings_withPause.csv', index_col=0, usecols=temp_cols)\n",
        "df_2009_35deg = pd.read_csv(path_temp + '1020-09_35deg_100readings_withPause.csv', index_col=0, usecols=temp_cols)\n",
        "\n",
        "# for 45degrees :\n",
        "df_2103_45deg = pd.read_csv(path_temp + '1021-03_45deg_100readings_withPause.csv', index_col=0, usecols=temp_cols) \n",
        "df_2105_45deg = pd.read_csv(path_temp + '1021-05_45deg_100readings_withPause.csv', index_col=0, usecols=temp_cols)\n",
        "df_2115_45deg = pd.read_csv(path_temp + '1021-15_45deg_100readings_withPause.csv', index_col=0, usecols=temp_cols)\n",
        "df_2117_45deg = pd.read_csv(path_temp + '1021-17_45deg_100readings_withPause.csv', index_col=0, usecols=temp_cols)\n",
        "df_2007_45deg = pd.read_csv(path_temp + '1020-07_45deg_100readings_withPause.csv', index_col=0, usecols=temp_cols)\n",
        "df_2010_45deg = pd.read_csv(path_temp + '1020-10_45deg_100readings_withPause.csv', index_col=0, usecols=temp_cols)\n",
        "df_2016_45deg = pd.read_csv(path_temp + '1020-16_45deg_100readings_withPause.csv', index_col=0, usecols=temp_cols)\n",
        "df_2017_45deg = pd.read_csv(path_temp + '1020-17_45deg_100readings_withPause.csv', index_col=0, usecols=temp_cols)\n",
        "df_2021_45deg = pd.read_csv(path_temp + '1020-21_45deg_100readings_withPause.csv', index_col=0, usecols=temp_cols)\n",
        "df_2008_45deg = pd.read_csv(path_temp + '1020-08_45deg_100readings_withPause.csv', index_col=0, usecols=temp_cols)\n",
        "df_2009_45deg = pd.read_csv(path_temp + '1020-09_45deg_100readings_withPause.csv', index_col=0, usecols=temp_cols)"
      ],
      "execution_count": null,
      "outputs": []
    },
    {
      "cell_type": "code",
      "metadata": {
        "id": "GBlXmjTk1an0",
        "colab_type": "code",
        "colab": {}
      },
      "source": [
        "# Data Preparation -> Pressure data of 4 Pressure values : \n",
        "# 1bar, 2bar, 3bar, 4bar for upto 4bar valbves and \n",
        "# 1bar, 2bar, 4bar, 6bar for upto 8bar valves \n",
        "\n",
        "#path_pressure = \"/Users/bhavana/Work/MasterThesis/Data/pressureData/\"\n",
        "#path_pressure = \"Z:/User/KrishnaMurthy/Work/data/exp_data/pressureData/\"\n",
        "path_pressure = \"master_thesis_dataset/pressureData/\" \n",
        "\n",
        "# use 100 readings of each pressure \n",
        "temp_cols = [i for i in range(1,102)]\n",
        "\n",
        "# for 1bar :\n",
        "df_2103_1bar = pd.read_csv(path_pressure + '1021-03_1bar_100readings.csv', index_col=0, usecols=temp_cols) \n",
        "df_2105_1bar = pd.read_csv(path_pressure + '1021-05_1bar_100readings.csv', index_col=0, usecols=temp_cols)\n",
        "df_2115_1bar = pd.read_csv(path_pressure + '1021-15_1bar_100readings.csv', index_col=0, usecols=temp_cols)\n",
        "df_2117_1bar = pd.read_csv(path_pressure + '1021-17_1bar_100readings.csv', index_col=0, usecols=temp_cols)\n",
        "df_2007_1bar = pd.read_csv(path_pressure + '1020-07_1bar_100readings.csv', index_col=0, usecols=temp_cols)\n",
        "df_2010_1bar = pd.read_csv(path_pressure + '1020-10_1bar_100readings.csv', index_col=0, usecols=temp_cols)\n",
        "df_2016_1bar = pd.read_csv(path_pressure + '1020-16_1bar_100readings.csv', index_col=0, usecols=temp_cols)\n",
        "df_2017_1bar = pd.read_csv(path_pressure + '1020-17_1bar_100readings.csv', index_col=0, usecols=temp_cols)\n",
        "df_2021_1bar = pd.read_csv(path_pressure + '1020-21_1bar_100readings.csv', index_col=0, usecols=temp_cols)\n",
        "df_2008_1bar = pd.read_csv(path_pressure + '1020-08_1bar_100readings.csv', index_col=0, usecols=temp_cols)\n",
        "df_2009_1bar = pd.read_csv(path_pressure + '1020-09_1bar_100readings.csv', index_col=0, usecols=temp_cols)\n",
        "\n",
        "# for 2 bar :\n",
        "df_2103_2bar = pd.read_csv(path_pressure + '1021-03_2bar_100readings.csv', index_col=0, usecols=temp_cols) \n",
        "df_2105_2bar = pd.read_csv(path_pressure + '1021-05_2bar_100readings.csv', index_col=0, usecols=temp_cols)\n",
        "df_2115_2bar = pd.read_csv(path_pressure + '1021-15_2bar_100readings.csv', index_col=0, usecols=temp_cols)\n",
        "df_2117_2bar = pd.read_csv(path_pressure + '1021-17_2bar_100readings.csv', index_col=0, usecols=temp_cols)\n",
        "df_2007_2bar = pd.read_csv(path_pressure + '1020-07_2bar_100readings.csv', index_col=0, usecols=temp_cols)\n",
        "df_2010_2bar = pd.read_csv(path_pressure + '1020-10_2bar_100readings.csv', index_col=0, usecols=temp_cols)\n",
        "df_2016_2bar = pd.read_csv(path_pressure + '1020-16_2bar_100readings.csv', index_col=0, usecols=temp_cols)\n",
        "df_2017_2bar = pd.read_csv(path_pressure + '1020-17_2bar_100readings.csv', index_col=0, usecols=temp_cols)\n",
        "df_2021_2bar = pd.read_csv(path_pressure + '1020-21_2bar_100readings.csv', index_col=0, usecols=temp_cols)\n",
        "df_2008_2bar = pd.read_csv(path_pressure + '1020-08_2bar_100readings.csv', index_col=0, usecols=temp_cols)\n",
        "df_2009_2bar = pd.read_csv(path_pressure + '1020-09_2bar_100readings.csv', index_col=0, usecols=temp_cols)\n",
        "\n",
        "# for 3 bar :\n",
        "df_2007_3bar = pd.read_csv(path_pressure + '1020-07_3bar_100readings.csv', index_col=0, usecols=temp_cols)\n",
        "df_2010_3bar = pd.read_csv(path_pressure + '1020-10_3bar_100readings.csv', index_col=0, usecols=temp_cols)\n",
        "df_2016_3bar = pd.read_csv(path_pressure + '1020-16_3bar_100readings.csv', index_col=0, usecols=temp_cols)\n",
        "df_2017_3bar = pd.read_csv(path_pressure + '1020-17_3bar_100readings.csv', index_col=0, usecols=temp_cols)\n",
        "df_2021_3bar = pd.read_csv(path_pressure + '1020-21_3bar_100readings.csv', index_col=0, usecols=temp_cols)\n",
        "df_2008_3bar = pd.read_csv(path_pressure + '1020-08_3bar_100readings.csv', index_col=0, usecols=temp_cols)\n",
        "df_2009_3bar = pd.read_csv(path_pressure + '1020-09_3bar_100readings.csv', index_col=0, usecols=temp_cols)\n",
        "\n",
        "# for 4 bar :\n",
        "df_2103_4bar = pd.read_csv(path_pressure + '1021-03_4bar_100readings.csv', index_col=0, usecols=temp_cols) \n",
        "df_2105_4bar = pd.read_csv(path_pressure + '1021-05_4bar_100readings.csv', index_col=0, usecols=temp_cols)\n",
        "df_2115_4bar = pd.read_csv(path_pressure + '1021-15_4bar_100readings.csv', index_col=0, usecols=temp_cols)\n",
        "df_2117_4bar = pd.read_csv(path_pressure + '1021-17_4bar_100readings.csv', index_col=0, usecols=temp_cols)\n",
        "df_2007_4bar = pd.read_csv(path_pressure + '1020-07_4bar_100readings.csv', index_col=0, usecols=temp_cols)\n",
        "df_2010_4bar = pd.read_csv(path_pressure + '1020-10_4bar_100readings.csv', index_col=0, usecols=temp_cols)\n",
        "df_2016_4bar = pd.read_csv(path_pressure + '1020-16_4bar_100readings.csv', index_col=0, usecols=temp_cols)\n",
        "df_2017_4bar = pd.read_csv(path_pressure + '1020-17_4bar_100readings.csv', index_col=0, usecols=temp_cols)\n",
        "df_2021_4bar = pd.read_csv(path_pressure + '1020-21_4bar_100readings.csv', index_col=0, usecols=temp_cols)\n",
        "df_2008_4bar = pd.read_csv(path_pressure + '1020-08_4bar_100readings.csv', index_col=0, usecols=temp_cols)\n",
        "df_2009_4bar = pd.read_csv(path_pressure + '1020-09_4bar_100readings.csv', index_col=0, usecols=temp_cols)\n",
        "\n",
        "# for 6 bar :\n",
        "df_2103_6bar = pd.read_csv(path_pressure + '1021-03_6bar_100readings.csv', index_col=0, usecols=temp_cols) \n",
        "df_2105_6bar = pd.read_csv(path_pressure + '1021-05_6bar_100readings.csv', index_col=0, usecols=temp_cols)\n",
        "df_2115_6bar = pd.read_csv(path_pressure + '1021-15_6bar_100readings.csv', index_col=0, usecols=temp_cols)\n",
        "df_2117_6bar = pd.read_csv(path_pressure + '1021-17_6bar_100readings.csv', index_col=0, usecols=temp_cols)"
      ],
      "execution_count": null,
      "outputs": []
    },
    {
      "cell_type": "markdown",
      "metadata": {
        "id": "XmYcDdPT7loL",
        "colab_type": "text"
      },
      "source": [
        "PREPARE TRAINING DATA DICTIONARY\n",
        "\n",
        "# Without window of inflection concept"
      ]
    },
    {
      "cell_type": "code",
      "metadata": {
        "id": "9tC-xR9Z7o5h",
        "colab_type": "code",
        "colab": {}
      },
      "source": [
        "# consolidate all current readings into 1 main dictionary\n",
        "\n",
        "dataDict = {'2103': {'rt': df_2103_rt.values/15, \n",
        "                     '1bar': df_2103_1bar.values/15, \n",
        "                     '2bar': df_2103_2bar.values/15, \n",
        "                     '4bar': df_2103_4bar.values/15, \n",
        "                     '6bar': df_2103_6bar.values/15, \n",
        "                     '05deg': (df_2103_05deg.values/15)[:, :80], \n",
        "                     '15deg': (df_2103_15deg.values/15)[:, :80], \n",
        "                     '25deg': (df_2103_25deg.values/15)[:, :80], \n",
        "                     '35deg': (df_2103_35deg.values/15)[:, :80], \n",
        "                     '45deg': (df_2103_45deg.values/15)[:, :80]}, \n",
        "           '2105': { 'rt': (df_2105_rt.values/15)[:, :13], \n",
        "                     '1bar': (df_2105_1bar.values/15)[:, :13], \n",
        "                     '2bar': (df_2105_2bar.values/15)[:, :13], \n",
        "                     '4bar': (df_2105_4bar.values/15)[:, :13], \n",
        "                     '6bar': (df_2105_6bar.values/15)[:, :13], \n",
        "                     '05deg': (df_2105_05deg.values/15)[:, :13], \n",
        "                     '15deg': (df_2105_15deg.values/15)[:, :13], \n",
        "                     '25deg': (df_2105_25deg.values/15)[:, :13], \n",
        "                     '35deg': (df_2105_35deg.values/15)[:, :13], \n",
        "                     '45deg': (df_2105_45deg.values/15)[:, :13]},\n",
        "            '2115': {'rt': (df_2115_rt.values/15)[:, :13], \n",
        "                     '1bar': (df_2115_1bar.values/15)[:, :13], \n",
        "                     '2bar': (df_2115_2bar.values/15)[:, :13], \n",
        "                     '4bar': (df_2115_4bar.values/15)[:, :13], \n",
        "                     '6bar': (df_2115_6bar.values/15)[:, :13], \n",
        "                     '05deg': (df_2115_05deg.values/15)[:, :13], \n",
        "                     '15deg': (df_2115_15deg.values/15)[:, :13], \n",
        "                     '25deg': (df_2115_25deg.values/15)[:, :13], \n",
        "                     '35deg': (df_2115_35deg.values/15)[:, :13], \n",
        "                     '45deg': (df_2115_45deg.values/15)[:, :13]}, \n",
        "            '2117': {'rt': (df_2117_rt.values/15)[:, :13], \n",
        "                     '1bar': (df_2117_1bar.values/15)[:, :13], \n",
        "                     '2bar': (df_2117_2bar.values/15)[:, :13], \n",
        "                     '4bar': (df_2117_4bar.values/15)[:, :13], \n",
        "                     '6bar': (df_2117_6bar.values/15)[:, :13], \n",
        "                     '05deg': (df_2117_05deg.values/15)[:, :13], \n",
        "                     '15deg': (df_2117_15deg.values/15)[:, :13], \n",
        "                     '25deg': (df_2117_25deg.values/15)[:, :13], \n",
        "                     '35deg': (df_2117_35deg.values/15)[:, :13], \n",
        "                     '45deg': (df_2117_45deg.values/15)[:, :13]},\n",
        "            '2007': {'rt': (df_2007_rt.values/15)[:, :13], \n",
        "                     '1bar': (df_2007_1bar.values/15)[:, :13], \n",
        "                     '2bar': (df_2007_2bar.values/15)[:, :13], \n",
        "                     '3bar': (df_2007_3bar.values/15)[:, :13], \n",
        "                     '4bar': (df_2007_4bar.values/15)[:, :13], \n",
        "                     '05deg': (df_2007_05deg.values/15)[:, :13], \n",
        "                     '15deg': (df_2007_15deg.values/15)[:, :13], \n",
        "                     '25deg': (df_2007_25deg.values/15)[:, :13], \n",
        "                     '35deg': (df_2007_35deg.values/15)[:, :13], \n",
        "                     '45deg': (df_2007_45deg.values/15)[:, :13]},\n",
        "            '2010': {'rt': (df_2010_rt.values/15)[:, :13], \n",
        "                     '1bar': (df_2010_1bar.values/15)[:, :13], \n",
        "                     '2bar': (df_2010_2bar.values/15)[:, :13], \n",
        "                     '3bar': (df_2010_3bar.values/15)[:, :13], \n",
        "                     '4bar': (df_2010_4bar.values/15)[:, :13], \n",
        "                     '05deg': (df_2010_05deg.values/15)[:, :13], \n",
        "                     '15deg': (df_2010_15deg.values/15)[:, :13], \n",
        "                     '25deg': (df_2010_25deg.values/15)[:, :13], \n",
        "                     '35deg': (df_2010_35deg.values/15)[:, :13], \n",
        "                     '45deg': (df_2010_45deg.values/15)[:, :13]},\n",
        "            '2016': {'rt': (df_2016_rt.values/15)[:, :13], \n",
        "                     '1bar': (df_2016_1bar.values/15)[:, :13], \n",
        "                     '2bar': (df_2016_2bar.values/15)[:, :13], \n",
        "                     '3bar': (df_2016_3bar.values/15)[:, :13], \n",
        "                     '4bar': (df_2016_4bar.values/15)[:, :13], \n",
        "                     '05deg': (df_2016_05deg.values/15)[:, :13], \n",
        "                     '15deg': (df_2016_15deg.values/15)[:, :13], \n",
        "                     '25deg': (df_2016_25deg.values/15)[:, :13], \n",
        "                     '35deg': (df_2016_35deg.values/15)[:, :13], \n",
        "                     '45deg': (df_2016_45deg.values/15)[:, :13]},\n",
        "            '2017': {'rt': (df_2017_rt.values/15)[:, :13], \n",
        "                     '1bar': (df_2017_1bar.values/15)[:, :13], \n",
        "                     '2bar': (df_2017_2bar.values/15)[:, :13], \n",
        "                     '3bar': (df_2017_3bar.values/15)[:, :13], \n",
        "                     '4bar': (df_2017_4bar.values/15)[:, :13], \n",
        "                     '05deg': (df_2017_05deg.values/15)[:, :13], \n",
        "                     '15deg': (df_2017_15deg.values/15)[:, :13], \n",
        "                     '25deg': (df_2017_25deg.values/15)[:, :13], \n",
        "                     '35deg': (df_2017_35deg.values/15)[:, :13], \n",
        "                     '45deg': (df_2017_45deg.values/15)[:, :13]},\n",
        "            '2021': {'rt': (df_2021_rt.values/15)[:, :13], \n",
        "                     '1bar': (df_2021_1bar.values/15)[:, :13], \n",
        "                     '2bar': (df_2021_2bar.values/15)[:, :13], \n",
        "                     '3bar': (df_2021_3bar.values/15)[:, :13], \n",
        "                     '4bar': (df_2021_4bar.values/15)[:, :13], \n",
        "                     '05deg': (df_2021_05deg.values/15)[:, :13], \n",
        "                     '15deg': (df_2021_15deg.values/15)[:, :13], \n",
        "                     '25deg': (df_2021_25deg.values/15)[:, :13], \n",
        "                     '35deg': (df_2021_35deg.values/15)[:, :13], \n",
        "                     '45deg': (df_2021_45deg.values/15)[:, :13]},\n",
        "            '2008': {'rt': (df_2008_rt.values/4)[:, :13], \n",
        "                     '1bar': (df_2008_1bar.values/4)[:, :13], \n",
        "                     '2bar': (df_2008_2bar.values/4)[:, :13], \n",
        "                     '3bar': (df_2008_3bar.values/4)[:, :13], \n",
        "                     '4bar': (df_2008_4bar.values/4)[:, :13], \n",
        "                     '05deg': (df_2008_05deg.values/4)[:, :13], \n",
        "                     '15deg': (df_2008_15deg.values/4)[:, :13], \n",
        "                     '25deg': (df_2008_25deg.values/4)[:, :13], \n",
        "                     '35deg': (df_2008_35deg.values/4)[:, :13], \n",
        "                     '45deg': (df_2008_45deg.values/4)[:, :13]},\n",
        "            '2009': {'rt': (df_2009_rt.values/4)[:, :13], \n",
        "                     '1bar': (df_2009_1bar.values/4)[:, :13], \n",
        "                     '2bar': (df_2009_2bar.values/4)[:, :13], \n",
        "                     '3bar': (df_2009_3bar.values/4)[:, :13], \n",
        "                     '4bar': (df_2009_4bar.values/4)[:, :13], \n",
        "                     '05deg': (df_2009_05deg.values/4)[:, :13], \n",
        "                     '15deg': (df_2009_15deg.values/4)[:, :13], \n",
        "                     '25deg': (df_2009_25deg.values/4)[:, :13], \n",
        "                     '35deg': (df_2009_35deg.values/4)[:, :13], \n",
        "                     '45deg': (df_2009_45deg.values/4)[:, :13]}\n",
        "           }"
      ],
      "execution_count": null,
      "outputs": []
    },
    {
      "cell_type": "markdown",
      "metadata": {
        "id": "-hK3bwrK1an3",
        "colab_type": "text"
      },
      "source": [
        "PREPARE TRAINING DATA DICTIONARY\n",
        "\n",
        "\n",
        "# With window of inflection concept"
      ]
    },
    {
      "cell_type": "code",
      "metadata": {
        "id": "dNKBrAg11an4",
        "colab_type": "code",
        "colab": {}
      },
      "source": [
        "# consolidate all current readings into 1 main dictionary\n",
        "\n",
        "dataDict = {'2103': {'rt': df_2103_rt.values[790:1790]/15, \n",
        "                     '1bar': df_2103_1bar.values[790:1790]/15, \n",
        "                     '2bar': df_2103_2bar.values[790:1790]/15, \n",
        "                     '4bar': df_2103_4bar.values[790:1790]/15, \n",
        "                     '6bar': df_2103_6bar.values[790:1790]/15, \n",
        "                     '05deg': (df_2103_05deg.values[790:1790]/15)[:, :80], \n",
        "                     '15deg': (df_2103_15deg.values[790:1790]/15)[:, :80], \n",
        "                     '25deg': (df_2103_25deg.values[790:1790]/15)[:, :80], \n",
        "                     '35deg': (df_2103_35deg.values[790:1790]/15)[:, :80], \n",
        "                     '45deg': (df_2103_45deg.values[790:1790]/15)[:, :80]}, \n",
        "           '2105': { 'rt': (df_2105_rt.values[790:1790]/15)[:, :13], \n",
        "                     '1bar': (df_2105_1bar.values[790:1790]/15)[:, :13], \n",
        "                     '2bar': (df_2105_2bar.values[790:1790]/15)[:, :13], \n",
        "                     '4bar': (df_2105_4bar.values[790:1790]/15)[:, :13], \n",
        "                     '6bar': (df_2105_6bar.values[790:1790]/15)[:, :13], \n",
        "                     '05deg': (df_2105_05deg.values[790:1790]/15)[:, :13], \n",
        "                     '15deg': (df_2105_15deg.values[790:1790]/15)[:, :13], \n",
        "                     '25deg': (df_2105_25deg.values[790:1790]/15)[:, :13], \n",
        "                     '35deg': (df_2105_35deg.values[790:1790]/15)[:, :13], \n",
        "                     '45deg': (df_2105_45deg.values[790:1790]/15)[:, :13]},\n",
        "            '2115': {'rt': (df_2115_rt.values[790:1790]/15)[:, :13], \n",
        "                     '1bar': (df_2115_1bar.values[790:1790]/15)[:, :13], \n",
        "                     '2bar': (df_2115_2bar.values[790:1790]/15)[:, :13], \n",
        "                     '4bar': (df_2115_4bar.values[790:1790]/15)[:, :13], \n",
        "                     '6bar': (df_2115_6bar.values[790:1790]/15)[:, :13], \n",
        "                     '05deg': (df_2115_05deg.values[790:1790]/15)[:, :13], \n",
        "                     '15deg': (df_2115_15deg.values[790:1790]/15)[:, :13], \n",
        "                     '25deg': (df_2115_25deg.values[790:1790]/15)[:, :13], \n",
        "                     '35deg': (df_2115_35deg.values[790:1790]/15)[:, :13], \n",
        "                     '45deg': (df_2115_45deg.values[790:1790]/15)[:, :13]}, \n",
        "            '2117': {'rt': (df_2117_rt.values[790:1790]/15)[:, :13], \n",
        "                     '1bar': (df_2117_1bar.values[790:1790]/15)[:, :13], \n",
        "                     '2bar': (df_2117_2bar.values[790:1790]/15)[:, :13], \n",
        "                     '4bar': (df_2117_4bar.values[790:1790]/15)[:, :13], \n",
        "                     '6bar': (df_2117_6bar.values[790:1790]/15)[:, :13], \n",
        "                     '05deg': (df_2117_05deg.values[790:1790]/15)[:, :13], \n",
        "                     '15deg': (df_2117_15deg.values[790:1790]/15)[:, :13], \n",
        "                     '25deg': (df_2117_25deg.values[790:1790]/15)[:, :13], \n",
        "                     '35deg': (df_2117_35deg.values[790:1790]/15)[:, :13], \n",
        "                     '45deg': (df_2117_45deg.values[790:1790]/15)[:, :13]},\n",
        "            '2007': {'rt': (df_2007_rt.values[790:1790]/15)[:, :13], \n",
        "                     '1bar': (df_2007_1bar.values[790:1790]/15)[:, :13], \n",
        "                     '2bar': (df_2007_2bar.values[790:1790]/15)[:, :13], \n",
        "                     '3bar': (df_2007_3bar.values[790:1790]/15)[:, :13], \n",
        "                     '4bar': (df_2007_4bar.values[790:1790]/15)[:, :13], \n",
        "                     '05deg': (df_2007_05deg.values[790:1790]/15)[:, :13], \n",
        "                     '15deg': (df_2007_15deg.values[790:1790]/15)[:, :13], \n",
        "                     '25deg': (df_2007_25deg.values[790:1790]/15)[:, :13], \n",
        "                     '35deg': (df_2007_35deg.values[790:1790]/15)[:, :13], \n",
        "                     '45deg': (df_2007_45deg.values[790:1790]/15)[:, :13]},\n",
        "            '2010': {'rt': (df_2010_rt.values[790:1790]/15)[:, :13], \n",
        "                     '1bar': (df_2010_1bar.values[790:1790]/15)[:, :13], \n",
        "                     '2bar': (df_2010_2bar.values[790:1790]/15)[:, :13], \n",
        "                     '3bar': (df_2010_3bar.values[790:1790]/15)[:, :13], \n",
        "                     '4bar': (df_2010_4bar.values[790:1790]/15)[:, :13], \n",
        "                     '05deg': (df_2010_05deg.values[790:1790]/15)[:, :13], \n",
        "                     '15deg': (df_2010_15deg.values[790:1790]/15)[:, :13], \n",
        "                     '25deg': (df_2010_25deg.values[790:1790]/15)[:, :13], \n",
        "                     '35deg': (df_2010_35deg.values[790:1790]/15)[:, :13], \n",
        "                     '45deg': (df_2010_45deg.values[790:1790]/15)[:, :13]},\n",
        "            '2016': {'rt': (df_2016_rt.values[790:1790]/15)[:, :13], \n",
        "                     '1bar': (df_2016_1bar.values[790:1790]/15)[:, :13], \n",
        "                     '2bar': (df_2016_2bar.values[790:1790]/15)[:, :13], \n",
        "                     '3bar': (df_2016_3bar.values[790:1790]/15)[:, :13], \n",
        "                     '4bar': (df_2016_4bar.values[790:1790]/15)[:, :13], \n",
        "                     '05deg': (df_2016_05deg.values[790:1790]/15)[:, :13], \n",
        "                     '15deg': (df_2016_15deg.values[790:1790]/15)[:, :13], \n",
        "                     '25deg': (df_2016_25deg.values[790:1790]/15)[:, :13], \n",
        "                     '35deg': (df_2016_35deg.values[790:1790]/15)[:, :13], \n",
        "                     '45deg': (df_2016_45deg.values[790:1790]/15)[:, :13]},\n",
        "            '2017': {'rt': (df_2017_rt.values[790:1790]/15)[:, :13], \n",
        "                     '1bar': (df_2017_1bar.values[790:1790]/15)[:, :13], \n",
        "                     '2bar': (df_2017_2bar.values[790:1790]/15)[:, :13], \n",
        "                     '3bar': (df_2017_3bar.values[790:1790]/15)[:, :13], \n",
        "                     '4bar': (df_2017_4bar.values[790:1790]/15)[:, :13], \n",
        "                     '05deg': (df_2017_05deg.values[790:1790]/15)[:, :13], \n",
        "                     '15deg': (df_2017_15deg.values[790:1790]/15)[:, :13], \n",
        "                     '25deg': (df_2017_25deg.values[790:1790]/15)[:, :13], \n",
        "                     '35deg': (df_2017_35deg.values[790:1790]/15)[:, :13], \n",
        "                     '45deg': (df_2017_45deg.values[790:1790]/15)[:, :13]},\n",
        "            '2021': {'rt': (df_2021_rt.values[790:1790]/15)[:, :13], \n",
        "                     '1bar': (df_2021_1bar.values[790:1790]/15)[:, :13], \n",
        "                     '2bar': (df_2021_2bar.values[790:1790]/15)[:, :13], \n",
        "                     '3bar': (df_2021_3bar.values[790:1790]/15)[:, :13], \n",
        "                     '4bar': (df_2021_4bar.values[790:1790]/15)[:, :13], \n",
        "                     '05deg': (df_2021_05deg.values[790:1790]/15)[:, :13], \n",
        "                     '15deg': (df_2021_15deg.values[790:1790]/15)[:, :13], \n",
        "                     '25deg': (df_2021_25deg.values[790:1790]/15)[:, :13], \n",
        "                     '35deg': (df_2021_35deg.values[790:1790]/15)[:, :13], \n",
        "                     '45deg': (df_2021_45deg.values[790:1790]/15)[:, :13]},\n",
        "            '2008': {'rt': (df_2008_rt.values[790:1790]/4)[:, :13], \n",
        "                     '1bar': (df_2008_1bar.values[790:1790]/4)[:, :13], \n",
        "                     '2bar': (df_2008_2bar.values[790:1790]/4)[:, :13], \n",
        "                     '3bar': (df_2008_3bar.values[790:1790]/4)[:, :13], \n",
        "                     '4bar': (df_2008_4bar.values[790:1790]/4)[:, :13], \n",
        "                     '05deg': (df_2008_05deg.values[790:1790]/4)[:, :13], \n",
        "                     '15deg': (df_2008_15deg.values[790:1790]/4)[:, :13], \n",
        "                     '25deg': (df_2008_25deg.values[790:1790]/4)[:, :13], \n",
        "                     '35deg': (df_2008_35deg.values[790:1790]/4)[:, :13], \n",
        "                     '45deg': (df_2008_45deg.values[790:1790]/4)[:, :13]},\n",
        "            '2009': {'rt': (df_2009_rt.values[790:1790]/4)[:, :13], \n",
        "                     '1bar': (df_2009_1bar.values[790:1790]/4)[:, :13], \n",
        "                     '2bar': (df_2009_2bar.values[790:1790]/4)[:, :13], \n",
        "                     '3bar': (df_2009_3bar.values[790:1790]/4)[:, :13], \n",
        "                     '4bar': (df_2009_4bar.values[790:1790]/4)[:, :13], \n",
        "                     '05deg': (df_2009_05deg.values[790:1790]/4)[:, :13], \n",
        "                     '15deg': (df_2009_15deg.values[790:1790]/4)[:, :13], \n",
        "                     '25deg': (df_2009_25deg.values[790:1790]/4)[:, :13], \n",
        "                     '35deg': (df_2009_35deg.values[790:1790]/4)[:, :13], \n",
        "                     '45deg': (df_2009_45deg.values[790:1790]/4)[:, :13]}\n",
        "           }"
      ],
      "execution_count": null,
      "outputs": []
    },
    {
      "cell_type": "markdown",
      "metadata": {
        "id": "AEkOf64UXdxR",
        "colab_type": "text"
      },
      "source": [
        "# Define labels for binary classification"
      ]
    },
    {
      "cell_type": "code",
      "metadata": {
        "id": "dEg9Hnah1an7",
        "colab_type": "code",
        "colab": {}
      },
      "source": [
        "# dict for valve labels \n",
        "label_dict = {'2103': 0, # only one good valve\n",
        "              '2105': 1, \n",
        "              '2115': 1, \n",
        "              '2117': 1, \n",
        "              '2007': 1, \n",
        "              '2010': 1, \n",
        "              '2016': 1, \n",
        "              '2017': 1, \n",
        "              '2021': 1, \n",
        "              '2008': 1, \n",
        "              '2009': 1}"
      ],
      "execution_count": null,
      "outputs": []
    },
    {
      "cell_type": "markdown",
      "metadata": {
        "id": "Jps_9uJSDmoE",
        "colab_type": "text"
      },
      "source": [
        "ORGANIZE TRAINING AND VALIDATION DATA \n",
        "\n",
        "# Without added Gaussian noise"
      ]
    },
    {
      "cell_type": "code",
      "metadata": {
        "id": "cZ8qdkT61an_",
        "colab_type": "code",
        "colab": {}
      },
      "source": [
        "# Preparing the training and validation sets\n",
        "training_data = []\n",
        "training_labels = []\n",
        "les50count = 0\n",
        "les80count = 0\n",
        "validation_data = []\n",
        "validation_labels = []\n",
        "for i in range(0, 100):\n",
        "    for valve in dataDict.keys():\n",
        "        for param in dataDict[valve].keys():\n",
        "            if 'deg' in param:\n",
        "                t_str = param.split('d')[0]\n",
        "                if (i<50):\n",
        "                    training_data.append(dataDict[valve][param][:,i])\n",
        "                    training_labels.append(label_dict[valve])\n",
        "                    les50count+=1\n",
        "                    #if (valve=='2103'):\n",
        "                    #    training_data.append(dataDict[valve][param][:,i])\n",
        "                    #    training_labels.append(label_dict[valve])\n",
        "                elif (i<80):\n",
        "                    validation_data.append(dataDict[valve][param][:,i])\n",
        "                    validation_labels.append(label_dict[valve])\n",
        "                    les80count+=1\n",
        "                else: \n",
        "                    pass\n",
        "            else:\n",
        "                if 'bar' in param:\n",
        "                    p_str = param.split('b')[0]\n",
        "                elif 'rt' in param:\n",
        "                    p_str = '1.01'\n",
        "                else:\n",
        "                    pass\n",
        "                if (i<70):\n",
        "                    training_data.append(dataDict[valve][param][:,i])\n",
        "                    training_labels.append(label_dict[valve])\n",
        "                else:\n",
        "                    validation_data.append(dataDict[valve][param][:,i])\n",
        "                    validation_labels.append(label_dict[valve])"
      ],
      "execution_count": null,
      "outputs": []
    },
    {
      "cell_type": "code",
      "metadata": {
        "id": "djKgqNI41aoC",
        "colab_type": "code",
        "colab": {}
      },
      "source": [
        "X_train = np.array(training_data, dtype='float')\n",
        "y_train = np.array(training_labels)\n",
        "\n",
        "X_val = np.array(validation_data, dtype='float')\n",
        "y_val = np.array(validation_labels)"
      ],
      "execution_count": null,
      "outputs": []
    },
    {
      "cell_type": "code",
      "metadata": {
        "id": "QIzhoU7GNGnb",
        "colab_type": "code",
        "colab": {
          "base_uri": "https://localhost:8080/",
          "height": 51
        },
        "outputId": "cd537195-c1aa-4470-dbec-42d4c66c01d0"
      },
      "source": [
        "print(les50count)\n",
        "print(les80count)"
      ],
      "execution_count": null,
      "outputs": [
        {
          "output_type": "stream",
          "text": [
            "2750\n",
            "1650\n"
          ],
          "name": "stdout"
        }
      ]
    },
    {
      "cell_type": "code",
      "metadata": {
        "id": "50wlMYdnJ4ne",
        "colab_type": "code",
        "colab": {
          "base_uri": "https://localhost:8080/",
          "height": 51
        },
        "outputId": "44943792-a576-42a9-9d68-75ca8d95f51c"
      },
      "source": [
        "print(X_train.shape)\n",
        "print(X_val.shape)"
      ],
      "execution_count": null,
      "outputs": [
        {
          "output_type": "stream",
          "text": [
            "(6600, 2000)\n",
            "(3300, 2000)\n"
          ],
          "name": "stdout"
        }
      ]
    },
    {
      "cell_type": "markdown",
      "metadata": {
        "id": "boP55T3CeAH4",
        "colab_type": "text"
      },
      "source": [
        "# With added Gaussian noise"
      ]
    },
    {
      "cell_type": "code",
      "metadata": {
        "id": "c7Hl0o0qeJMk",
        "colab_type": "code",
        "colab": {}
      },
      "source": [
        "def add_noise():\n",
        "    mul_factor= 0.004\n",
        "    noise = mul_factor * np.random.normal(0, 1, 1000)\n",
        "    return noise\n",
        "\n",
        "# Preparing the training and validation sets\n",
        "training_data = []\n",
        "training_labels = []\n",
        "validation_data = []\n",
        "validation_labels = []\n",
        "for valve in dataDict.keys():\n",
        "    for param in dataDict[valve].keys():\n",
        "        if dataDict[valve][param].shape[1] == 500:\n",
        "            for i in range (0,500):\n",
        "                if (i<350):\n",
        "                    training_data.append(dataDict[valve][param][:, i] + add_noise())\n",
        "                    #param=rt\n",
        "                    #print(\"valve is %s param is %s \"%(valve,param))\n",
        "                    training_labels.append(0)\n",
        "                else:\n",
        "                    validation_data.append(dataDict[valve][param][:, i] + add_noise())\n",
        "                    validation_labels.append(0)\n",
        "        elif dataDict[valve][param].shape[1] == 80:\n",
        "            for i in range(0,80):\n",
        "                if (i<56):\n",
        "                    training_data.append(dataDict[valve][param][:, i] + add_noise())\n",
        "                    #param=temp\n",
        "                    #print(\"valve is %s param is %s \"%(valve,param))\n",
        "                    training_labels.append(0)\n",
        "                else:\n",
        "                    validation_data.append(dataDict[valve][param][:, i] + add_noise())\n",
        "                    validation_labels.append(0)\n",
        "        elif dataDict[valve][param].shape[1] == 100:\n",
        "            for i in range(0, 100):\n",
        "                if (i<70):\n",
        "                    training_data.append(dataDict[valve][param][:, i] + add_noise())\n",
        "                    #param=press\n",
        "                    #print(\"valve is %s param is %s \"%(valve,param))\n",
        "                    training_labels.append(0)\n",
        "                else:\n",
        "                    validation_data.append(dataDict[valve][param][:, i] + add_noise())\n",
        "                    validation_labels.append(0)\n",
        "        elif (dataDict[valve][param].shape[1] == 13) and ('rt' in param):\n",
        "            for i in range(0, 13):\n",
        "                if (i<10):\n",
        "                    training_data.append(dataDict[valve][param][:, i] + add_noise())\n",
        "                    #print(\"valve is %s \"%valve)\n",
        "                    training_labels.append(1)\n",
        "                else:\n",
        "                    validation_data.append(dataDict[valve][param][:, i] + add_noise())\n",
        "                    validation_labels.append(1)\n",
        "        elif dataDict[valve][param].shape[1] == 13 and ('deg' in param or 'bar' in param):\n",
        "            for i in range(0, 13):\n",
        "                if (i<9):\n",
        "                    training_data.append(dataDict[valve][param][:, i] + add_noise())\n",
        "                    #print(\"valve is %s \"%valve)\n",
        "                    training_labels.append(1)\n",
        "                else:\n",
        "                    validation_data.append(dataDict[valve][param][:, i] + add_noise())\n",
        "                    validation_labels.append(1)\n",
        "        else:\n",
        "            pass"
      ],
      "execution_count": null,
      "outputs": []
    },
    {
      "cell_type": "markdown",
      "metadata": {
        "id": "4BWrMl_GPmdg",
        "colab_type": "text"
      },
      "source": [
        "# Balanced dataset for binary classification"
      ]
    },
    {
      "cell_type": "code",
      "metadata": {
        "id": "AhZe6sCLPsR1",
        "colab_type": "code",
        "colab": {}
      },
      "source": [
        "# Preparing the training and validation sets\n",
        "training_data = []\n",
        "training_labels = []\n",
        "validation_data = []\n",
        "validation_labels = []\n",
        "for valve in dataDict.keys():\n",
        "    for param in dataDict[valve].keys():\n",
        "        if dataDict[valve][param].shape[1] == 500:\n",
        "            for i in range (0,500):\n",
        "                if (i<350):\n",
        "                    training_data.append(dataDict[valve][param][:, i])\n",
        "                    #param=rt\n",
        "                    #print(\"valve is %s param is %s \"%(valve,param))\n",
        "                    training_labels.append(0)\n",
        "                else:\n",
        "                    validation_data.append(dataDict[valve][param][:, i])\n",
        "                    validation_labels.append(0)\n",
        "        elif dataDict[valve][param].shape[1] == 80:\n",
        "            for i in range(0,80):\n",
        "                if (i<56):\n",
        "                    training_data.append(dataDict[valve][param][:, i])\n",
        "                    #param=temp\n",
        "                    #print(\"valve is %s param is %s \"%(valve,param))\n",
        "                    training_labels.append(0)\n",
        "                else:\n",
        "                    validation_data.append(dataDict[valve][param][:, i])\n",
        "                    validation_labels.append(0)\n",
        "        elif dataDict[valve][param].shape[1] == 100:\n",
        "            for i in range(0, 100):\n",
        "                if (i<70):\n",
        "                    training_data.append(dataDict[valve][param][:, i])\n",
        "                    #param=press\n",
        "                    #print(\"valve is %s param is %s \"%(valve,param))\n",
        "                    training_labels.append(0)\n",
        "                else:\n",
        "                    validation_data.append(dataDict[valve][param][:, i])\n",
        "                    validation_labels.append(0)\n",
        "        elif (dataDict[valve][param].shape[1] == 13) and ('rt' in param):\n",
        "            for i in range(0, 13):\n",
        "                if (i<10):\n",
        "                    training_data.append(dataDict[valve][param][:, i])\n",
        "                    #print(\"valve is %s \"%valve)\n",
        "                    training_labels.append(1)\n",
        "                else:\n",
        "                    validation_data.append(dataDict[valve][param][:, i])\n",
        "                    validation_labels.append(1)\n",
        "        elif dataDict[valve][param].shape[1] == 13 and ('deg' in param or 'bar' in param):\n",
        "            for i in range(0, 13):\n",
        "                if (i<9):\n",
        "                    training_data.append(dataDict[valve][param][:, i])\n",
        "                    #print(\"valve is %s \"%valve)\n",
        "                    training_labels.append(1)\n",
        "                else:\n",
        "                    validation_data.append(dataDict[valve][param][:, i])\n",
        "                    validation_labels.append(1)\n",
        "        else:\n",
        "            pass"
      ],
      "execution_count": null,
      "outputs": []
    },
    {
      "cell_type": "code",
      "metadata": {
        "colab_type": "code",
        "id": "_XbuJTfQRCgZ",
        "colab": {}
      },
      "source": [
        "X_train = np.array(training_data, dtype='float')\n",
        "y_train = np.array(training_labels)\n",
        "\n",
        "X_val = np.array(validation_data, dtype='float')\n",
        "y_val = np.array(validation_labels)"
      ],
      "execution_count": null,
      "outputs": []
    },
    {
      "cell_type": "code",
      "metadata": {
        "id": "-lAzmO4gg41V",
        "colab_type": "code",
        "colab": {}
      },
      "source": [
        "#shuffle randomly\n",
        "train_indices = np.arange(X_train.shape[0])\n",
        "np.random.shuffle(train_indices)\n",
        "X_train = X_train[train_indices]\n",
        "y_train = y_train[train_indices]\n",
        "\n",
        "valid_indices = np.arange(X_val.shape[0])\n",
        "np.random.shuffle(valid_indices)\n",
        "X_val = X_val[valid_indices]\n",
        "y_val = y_val[valid_indices]"
      ],
      "execution_count": null,
      "outputs": []
    },
    {
      "cell_type": "markdown",
      "metadata": {
        "id": "RmMBYy7bNeFC",
        "colab_type": "text"
      },
      "source": [
        "# Define model and start training"
      ]
    },
    {
      "cell_type": "code",
      "metadata": {
        "id": "EdxEl74Xk7rY",
        "colab_type": "code",
        "colab": {}
      },
      "source": [
        "X_train = np.reshape(X_train, (X_train.shape[0], X_train.shape[1],1))\n",
        "X_val = np.reshape(X_val, (X_val.shape[0], X_val.shape[1],1))"
      ],
      "execution_count": null,
      "outputs": []
    },
    {
      "cell_type": "code",
      "metadata": {
        "id": "KAXp4K7dNskA",
        "colab_type": "code",
        "colab": {
          "base_uri": "https://localhost:8080/",
          "height": 1000
        },
        "outputId": "4e13e680-76b7-4f46-fa6f-d9cacb657f99"
      },
      "source": [
        "# Defining the model with Functional API\n",
        "opt = Adam(learning_rate=0.0008, decay=1e-3)\n",
        "\n",
        "cnn_input = tf.keras.Input(shape=(1000,1))\n",
        "x = Conv1D(filters=32, kernel_size=8, activation='relu', input_shape=(1000, 1))(cnn_input)\n",
        "x = MaxPooling1D(pool_size=2)(x)\n",
        "x = Conv1D(filters=32, kernel_size=4, activation='relu')(x)\n",
        "x = MaxPooling1D(pool_size=2)(x)\n",
        "x = Flatten()(x)\n",
        "\n",
        "x = Dense(128, activation='relu')(x)\n",
        "x = Dense(64, activation='relu')(x)\n",
        "\n",
        "output = Dense(1, activation='sigmoid')(x)\n",
        "\n",
        "model = tf.keras.Model(cnn_input, output)\n",
        "\n",
        "model.compile(optimizer=opt, \n",
        "              loss='binary_crossentropy',\n",
        "              metrics=['accuracy'])\n",
        "model.summary()\n",
        "\n",
        "history = model.fit(x=X_train, y=y_train, epochs=150, \n",
        "                    validation_data=(X_val, y_val), batch_size = 128, \n",
        "                    verbose = 2)"
      ],
      "execution_count": null,
      "outputs": [
        {
          "output_type": "stream",
          "text": [
            "WARNING:tensorflow:From /usr/local/lib/python3.6/dist-packages/tensorflow_core/python/ops/resource_variable_ops.py:1630: calling BaseResourceVariable.__init__ (from tensorflow.python.ops.resource_variable_ops) with constraint is deprecated and will be removed in a future version.\n",
            "Instructions for updating:\n",
            "If using Keras pass *_constraint arguments to layers.\n",
            "WARNING:tensorflow:From /usr/local/lib/python3.6/dist-packages/tensorflow_core/python/ops/nn_impl.py:183: where (from tensorflow.python.ops.array_ops) is deprecated and will be removed in a future version.\n",
            "Instructions for updating:\n",
            "Use tf.where in 2.0, which has the same broadcast rule as np.where\n",
            "Model: \"model\"\n",
            "_________________________________________________________________\n",
            "Layer (type)                 Output Shape              Param #   \n",
            "=================================================================\n",
            "input_1 (InputLayer)         [(None, 1000, 1)]         0         \n",
            "_________________________________________________________________\n",
            "conv1d (Conv1D)              (None, 993, 32)           288       \n",
            "_________________________________________________________________\n",
            "max_pooling1d (MaxPooling1D) (None, 496, 32)           0         \n",
            "_________________________________________________________________\n",
            "conv1d_1 (Conv1D)            (None, 493, 64)           8256      \n",
            "_________________________________________________________________\n",
            "max_pooling1d_1 (MaxPooling1 (None, 246, 64)           0         \n",
            "_________________________________________________________________\n",
            "flatten (Flatten)            (None, 15744)             0         \n",
            "_________________________________________________________________\n",
            "dense (Dense)                (None, 128)               2015360   \n",
            "_________________________________________________________________\n",
            "dense_1 (Dense)              (None, 64)                8256      \n",
            "_________________________________________________________________\n",
            "dense_2 (Dense)              (None, 1)                 65        \n",
            "=================================================================\n",
            "Total params: 2,032,225\n",
            "Trainable params: 2,032,225\n",
            "Non-trainable params: 0\n",
            "_________________________________________________________________\n",
            "Train on 1820 samples, validate on 780 samples\n",
            "Epoch 1/150\n",
            "1820/1820 - 2s - loss: 0.6966 - acc: 0.5132 - val_loss: 0.6900 - val_acc: 0.5000\n",
            "Epoch 2/150\n",
            "1820/1820 - 0s - loss: 0.6874 - acc: 0.5835 - val_loss: 0.6787 - val_acc: 0.6000\n",
            "Epoch 3/150\n",
            "1820/1820 - 0s - loss: 0.6613 - acc: 0.5731 - val_loss: 0.6379 - val_acc: 0.4615\n",
            "Epoch 4/150\n",
            "1820/1820 - 0s - loss: 0.6316 - acc: 0.5709 - val_loss: 0.6070 - val_acc: 0.6410\n",
            "Epoch 5/150\n",
            "1820/1820 - 0s - loss: 0.6138 - acc: 0.6170 - val_loss: 0.5929 - val_acc: 0.7615\n",
            "Epoch 6/150\n",
            "1820/1820 - 0s - loss: 0.5874 - acc: 0.6698 - val_loss: 0.5753 - val_acc: 0.7641\n",
            "Epoch 7/150\n",
            "1820/1820 - 0s - loss: 0.5751 - acc: 0.6813 - val_loss: 0.5639 - val_acc: 0.7667\n",
            "Epoch 8/150\n",
            "1820/1820 - 0s - loss: 0.5625 - acc: 0.7165 - val_loss: 0.5512 - val_acc: 0.6897\n",
            "Epoch 9/150\n",
            "1820/1820 - 0s - loss: 0.5593 - acc: 0.7104 - val_loss: 0.5686 - val_acc: 0.6333\n",
            "Epoch 10/150\n",
            "1820/1820 - 0s - loss: 0.5296 - acc: 0.7396 - val_loss: 0.5088 - val_acc: 0.7231\n",
            "Epoch 11/150\n",
            "1820/1820 - 0s - loss: 0.4888 - acc: 0.7698 - val_loss: 0.4655 - val_acc: 0.7833\n",
            "Epoch 12/150\n",
            "1820/1820 - 0s - loss: 0.4559 - acc: 0.7907 - val_loss: 0.4749 - val_acc: 0.7372\n",
            "Epoch 13/150\n",
            "1820/1820 - 0s - loss: 0.5038 - acc: 0.7319 - val_loss: 0.4831 - val_acc: 0.8897\n",
            "Epoch 14/150\n",
            "1820/1820 - 0s - loss: 0.5194 - acc: 0.7516 - val_loss: 0.4628 - val_acc: 0.7372\n",
            "Epoch 15/150\n",
            "1820/1820 - 0s - loss: 0.4466 - acc: 0.7989 - val_loss: 0.4483 - val_acc: 0.7436\n",
            "Epoch 16/150\n",
            "1820/1820 - 0s - loss: 0.4282 - acc: 0.7989 - val_loss: 0.4231 - val_acc: 0.8538\n",
            "Epoch 17/150\n",
            "1820/1820 - 0s - loss: 0.4012 - acc: 0.8203 - val_loss: 0.3826 - val_acc: 0.8103\n",
            "Epoch 18/150\n",
            "1820/1820 - 0s - loss: 0.3772 - acc: 0.8242 - val_loss: 0.3630 - val_acc: 0.8436\n",
            "Epoch 19/150\n",
            "1820/1820 - 0s - loss: 0.3545 - acc: 0.8527 - val_loss: 0.3664 - val_acc: 0.8872\n",
            "Epoch 20/150\n",
            "1820/1820 - 0s - loss: 0.3436 - acc: 0.8588 - val_loss: 0.3321 - val_acc: 0.8372\n",
            "Epoch 21/150\n",
            "1820/1820 - 0s - loss: 0.3227 - acc: 0.8665 - val_loss: 0.3143 - val_acc: 0.8718\n",
            "Epoch 22/150\n",
            "1820/1820 - 0s - loss: 0.3105 - acc: 0.8604 - val_loss: 0.2979 - val_acc: 0.8718\n",
            "Epoch 23/150\n",
            "1820/1820 - 0s - loss: 0.2968 - acc: 0.8703 - val_loss: 0.2809 - val_acc: 0.8590\n",
            "Epoch 24/150\n",
            "1820/1820 - 0s - loss: 0.2728 - acc: 0.8742 - val_loss: 0.2679 - val_acc: 0.8859\n",
            "Epoch 25/150\n",
            "1820/1820 - 0s - loss: 0.2499 - acc: 0.8758 - val_loss: 0.2450 - val_acc: 0.8846\n",
            "Epoch 26/150\n",
            "1820/1820 - 0s - loss: 0.2338 - acc: 0.8841 - val_loss: 0.2250 - val_acc: 0.9090\n",
            "Epoch 27/150\n",
            "1820/1820 - 0s - loss: 0.2084 - acc: 0.9066 - val_loss: 0.2090 - val_acc: 0.9103\n",
            "Epoch 28/150\n",
            "1820/1820 - 0s - loss: 0.1957 - acc: 0.9236 - val_loss: 0.1973 - val_acc: 0.9218\n",
            "Epoch 29/150\n",
            "1820/1820 - 0s - loss: 0.1742 - acc: 0.9412 - val_loss: 0.1748 - val_acc: 0.9487\n",
            "Epoch 30/150\n",
            "1820/1820 - 0s - loss: 0.1618 - acc: 0.9418 - val_loss: 0.1541 - val_acc: 0.9744\n",
            "Epoch 31/150\n",
            "1820/1820 - 0s - loss: 0.1586 - acc: 0.9407 - val_loss: 0.1475 - val_acc: 0.9397\n",
            "Epoch 32/150\n",
            "1820/1820 - 0s - loss: 0.1402 - acc: 0.9538 - val_loss: 0.1404 - val_acc: 0.9397\n",
            "Epoch 33/150\n",
            "1820/1820 - 0s - loss: 0.1352 - acc: 0.9538 - val_loss: 0.1306 - val_acc: 0.9667\n",
            "Epoch 34/150\n",
            "1820/1820 - 0s - loss: 0.1242 - acc: 0.9637 - val_loss: 0.1321 - val_acc: 0.9513\n",
            "Epoch 35/150\n",
            "1820/1820 - 0s - loss: 0.1105 - acc: 0.9720 - val_loss: 0.1184 - val_acc: 0.9551\n",
            "Epoch 36/150\n",
            "1820/1820 - 0s - loss: 0.1076 - acc: 0.9654 - val_loss: 0.0967 - val_acc: 0.9731\n",
            "Epoch 37/150\n",
            "1820/1820 - 0s - loss: 0.0968 - acc: 0.9709 - val_loss: 0.0914 - val_acc: 0.9833\n",
            "Epoch 38/150\n",
            "1820/1820 - 0s - loss: 0.0894 - acc: 0.9769 - val_loss: 0.1136 - val_acc: 0.9577\n",
            "Epoch 39/150\n",
            "1820/1820 - 0s - loss: 0.0987 - acc: 0.9654 - val_loss: 0.0854 - val_acc: 0.9744\n",
            "Epoch 40/150\n",
            "1820/1820 - 0s - loss: 0.0869 - acc: 0.9742 - val_loss: 0.0794 - val_acc: 0.9859\n",
            "Epoch 41/150\n",
            "1820/1820 - 0s - loss: 0.0795 - acc: 0.9797 - val_loss: 0.0720 - val_acc: 0.9795\n",
            "Epoch 42/150\n",
            "1820/1820 - 0s - loss: 0.0753 - acc: 0.9797 - val_loss: 0.1024 - val_acc: 0.9551\n",
            "Epoch 43/150\n",
            "1820/1820 - 0s - loss: 0.0837 - acc: 0.9681 - val_loss: 0.0855 - val_acc: 0.9667\n",
            "Epoch 44/150\n",
            "1820/1820 - 0s - loss: 0.0710 - acc: 0.9802 - val_loss: 0.0637 - val_acc: 0.9795\n",
            "Epoch 45/150\n",
            "1820/1820 - 0s - loss: 0.0587 - acc: 0.9846 - val_loss: 0.0774 - val_acc: 0.9731\n",
            "Epoch 46/150\n",
            "1820/1820 - 0s - loss: 0.0641 - acc: 0.9813 - val_loss: 0.0573 - val_acc: 0.9846\n",
            "Epoch 47/150\n",
            "1820/1820 - 0s - loss: 0.0578 - acc: 0.9852 - val_loss: 0.0549 - val_acc: 0.9859\n",
            "Epoch 48/150\n",
            "1820/1820 - 0s - loss: 0.0612 - acc: 0.9852 - val_loss: 0.1183 - val_acc: 0.9244\n",
            "Epoch 49/150\n",
            "1820/1820 - 0s - loss: 0.0834 - acc: 0.9659 - val_loss: 0.0787 - val_acc: 0.9859\n",
            "Epoch 50/150\n",
            "1820/1820 - 0s - loss: 0.0678 - acc: 0.9780 - val_loss: 0.0891 - val_acc: 0.9705\n",
            "Epoch 51/150\n",
            "1820/1820 - 0s - loss: 0.0556 - acc: 0.9791 - val_loss: 0.0455 - val_acc: 0.9846\n",
            "Epoch 52/150\n",
            "1820/1820 - 0s - loss: 0.0535 - acc: 0.9835 - val_loss: 0.0584 - val_acc: 0.9987\n",
            "Epoch 53/150\n",
            "1820/1820 - 0s - loss: 0.0518 - acc: 0.9841 - val_loss: 0.0520 - val_acc: 0.9987\n",
            "Epoch 54/150\n",
            "1820/1820 - 0s - loss: 0.0536 - acc: 0.9874 - val_loss: 0.0433 - val_acc: 0.9936\n",
            "Epoch 55/150\n",
            "1820/1820 - 0s - loss: 0.0453 - acc: 0.9896 - val_loss: 0.0510 - val_acc: 0.9846\n",
            "Epoch 56/150\n",
            "1820/1820 - 0s - loss: 0.0443 - acc: 0.9863 - val_loss: 0.0376 - val_acc: 0.9859\n",
            "Epoch 57/150\n",
            "1820/1820 - 0s - loss: 0.0392 - acc: 0.9852 - val_loss: 0.0455 - val_acc: 0.9987\n",
            "Epoch 58/150\n",
            "1820/1820 - 0s - loss: 0.0413 - acc: 0.9901 - val_loss: 0.0363 - val_acc: 0.9846\n",
            "Epoch 59/150\n",
            "1820/1820 - 0s - loss: 0.0357 - acc: 0.9879 - val_loss: 0.0332 - val_acc: 0.9859\n",
            "Epoch 60/150\n",
            "1820/1820 - 0s - loss: 0.0352 - acc: 0.9868 - val_loss: 0.0354 - val_acc: 0.9846\n",
            "Epoch 61/150\n",
            "1820/1820 - 0s - loss: 0.0396 - acc: 0.9868 - val_loss: 0.0328 - val_acc: 0.9949\n",
            "Epoch 62/150\n",
            "1820/1820 - 0s - loss: 0.0337 - acc: 0.9912 - val_loss: 0.0350 - val_acc: 0.9846\n",
            "Epoch 63/150\n",
            "1820/1820 - 0s - loss: 0.0320 - acc: 0.9912 - val_loss: 0.0343 - val_acc: 0.9846\n",
            "Epoch 64/150\n",
            "1820/1820 - 0s - loss: 0.0475 - acc: 0.9868 - val_loss: 0.0391 - val_acc: 0.9987\n",
            "Epoch 65/150\n",
            "1820/1820 - 0s - loss: 0.0347 - acc: 0.9907 - val_loss: 0.0289 - val_acc: 0.9974\n",
            "Epoch 66/150\n",
            "1820/1820 - 0s - loss: 0.0322 - acc: 0.9896 - val_loss: 0.0272 - val_acc: 0.9949\n",
            "Epoch 67/150\n",
            "1820/1820 - 0s - loss: 0.0280 - acc: 0.9929 - val_loss: 0.0268 - val_acc: 0.9859\n",
            "Epoch 68/150\n",
            "1820/1820 - 0s - loss: 0.0264 - acc: 0.9929 - val_loss: 0.0251 - val_acc: 0.9974\n",
            "Epoch 69/150\n",
            "1820/1820 - 0s - loss: 0.0256 - acc: 0.9945 - val_loss: 0.0281 - val_acc: 0.9859\n",
            "Epoch 70/150\n",
            "1820/1820 - 0s - loss: 0.0264 - acc: 0.9918 - val_loss: 0.0246 - val_acc: 1.0000\n",
            "Epoch 71/150\n",
            "1820/1820 - 0s - loss: 0.0281 - acc: 0.9929 - val_loss: 0.0237 - val_acc: 0.9987\n",
            "Epoch 72/150\n",
            "1820/1820 - 0s - loss: 0.0284 - acc: 0.9945 - val_loss: 0.0369 - val_acc: 0.9846\n",
            "Epoch 73/150\n",
            "1820/1820 - 0s - loss: 0.0252 - acc: 0.9956 - val_loss: 0.0204 - val_acc: 1.0000\n",
            "Epoch 74/150\n",
            "1820/1820 - 0s - loss: 0.0220 - acc: 0.9956 - val_loss: 0.0214 - val_acc: 0.9859\n",
            "Epoch 75/150\n",
            "1820/1820 - 0s - loss: 0.0224 - acc: 0.9951 - val_loss: 0.0240 - val_acc: 1.0000\n",
            "Epoch 76/150\n",
            "1820/1820 - 0s - loss: 0.0212 - acc: 0.9967 - val_loss: 0.0191 - val_acc: 0.9987\n",
            "Epoch 77/150\n",
            "1820/1820 - 0s - loss: 0.0237 - acc: 0.9951 - val_loss: 0.0255 - val_acc: 0.9859\n",
            "Epoch 78/150\n",
            "1820/1820 - 0s - loss: 0.0221 - acc: 0.9940 - val_loss: 0.0174 - val_acc: 1.0000\n",
            "Epoch 79/150\n",
            "1820/1820 - 0s - loss: 0.0180 - acc: 0.9962 - val_loss: 0.0171 - val_acc: 1.0000\n",
            "Epoch 80/150\n",
            "1820/1820 - 0s - loss: 0.0198 - acc: 0.9956 - val_loss: 0.0159 - val_acc: 0.9987\n",
            "Epoch 81/150\n",
            "1820/1820 - 0s - loss: 0.0160 - acc: 0.9984 - val_loss: 0.0164 - val_acc: 1.0000\n",
            "Epoch 82/150\n",
            "1820/1820 - 0s - loss: 0.0169 - acc: 0.9989 - val_loss: 0.0175 - val_acc: 0.9949\n",
            "Epoch 83/150\n",
            "1820/1820 - 0s - loss: 0.0164 - acc: 0.9967 - val_loss: 0.0164 - val_acc: 1.0000\n",
            "Epoch 84/150\n",
            "1820/1820 - 0s - loss: 0.0202 - acc: 0.9956 - val_loss: 0.0163 - val_acc: 0.9962\n",
            "Epoch 85/150\n",
            "1820/1820 - 0s - loss: 0.0188 - acc: 0.9967 - val_loss: 0.0151 - val_acc: 1.0000\n",
            "Epoch 86/150\n",
            "1820/1820 - 0s - loss: 0.0171 - acc: 0.9967 - val_loss: 0.0158 - val_acc: 1.0000\n",
            "Epoch 87/150\n",
            "1820/1820 - 0s - loss: 0.0180 - acc: 0.9995 - val_loss: 0.0135 - val_acc: 1.0000\n",
            "Epoch 88/150\n",
            "1820/1820 - 0s - loss: 0.0142 - acc: 0.9984 - val_loss: 0.0133 - val_acc: 1.0000\n",
            "Epoch 89/150\n",
            "1820/1820 - 0s - loss: 0.0139 - acc: 0.9989 - val_loss: 0.0136 - val_acc: 0.9987\n",
            "Epoch 90/150\n",
            "1820/1820 - 0s - loss: 0.0139 - acc: 0.9989 - val_loss: 0.0127 - val_acc: 1.0000\n",
            "Epoch 91/150\n",
            "1820/1820 - 0s - loss: 0.0143 - acc: 0.9984 - val_loss: 0.0183 - val_acc: 0.9923\n",
            "Epoch 92/150\n",
            "1820/1820 - 0s - loss: 0.0162 - acc: 0.9967 - val_loss: 0.0132 - val_acc: 0.9987\n",
            "Epoch 93/150\n",
            "1820/1820 - 0s - loss: 0.0120 - acc: 0.9995 - val_loss: 0.0111 - val_acc: 1.0000\n",
            "Epoch 94/150\n",
            "1820/1820 - 0s - loss: 0.0136 - acc: 0.9978 - val_loss: 0.0116 - val_acc: 1.0000\n",
            "Epoch 95/150\n",
            "1820/1820 - 0s - loss: 0.0123 - acc: 0.9989 - val_loss: 0.0260 - val_acc: 0.9846\n",
            "Epoch 96/150\n",
            "1820/1820 - 0s - loss: 0.0178 - acc: 0.9934 - val_loss: 0.0099 - val_acc: 1.0000\n",
            "Epoch 97/150\n",
            "1820/1820 - 0s - loss: 0.0115 - acc: 0.9989 - val_loss: 0.0092 - val_acc: 1.0000\n",
            "Epoch 98/150\n",
            "1820/1820 - 0s - loss: 0.0113 - acc: 0.9989 - val_loss: 0.0095 - val_acc: 1.0000\n",
            "Epoch 99/150\n",
            "1820/1820 - 0s - loss: 0.0099 - acc: 0.9995 - val_loss: 0.0087 - val_acc: 1.0000\n",
            "Epoch 100/150\n",
            "1820/1820 - 0s - loss: 0.0100 - acc: 0.9995 - val_loss: 0.0083 - val_acc: 1.0000\n",
            "Epoch 101/150\n",
            "1820/1820 - 0s - loss: 0.0089 - acc: 1.0000 - val_loss: 0.0084 - val_acc: 1.0000\n",
            "Epoch 102/150\n",
            "1820/1820 - 0s - loss: 0.0089 - acc: 1.0000 - val_loss: 0.0093 - val_acc: 1.0000\n",
            "Epoch 103/150\n",
            "1820/1820 - 0s - loss: 0.0105 - acc: 0.9984 - val_loss: 0.0090 - val_acc: 1.0000\n",
            "Epoch 104/150\n",
            "1820/1820 - 0s - loss: 0.0103 - acc: 1.0000 - val_loss: 0.0087 - val_acc: 1.0000\n",
            "Epoch 105/150\n",
            "1820/1820 - 0s - loss: 0.0098 - acc: 0.9995 - val_loss: 0.0081 - val_acc: 1.0000\n",
            "Epoch 106/150\n",
            "1820/1820 - 0s - loss: 0.0078 - acc: 1.0000 - val_loss: 0.0075 - val_acc: 1.0000\n",
            "Epoch 107/150\n",
            "1820/1820 - 0s - loss: 0.0082 - acc: 1.0000 - val_loss: 0.0152 - val_acc: 0.9923\n",
            "Epoch 108/150\n",
            "1820/1820 - 0s - loss: 0.0088 - acc: 0.9995 - val_loss: 0.0071 - val_acc: 1.0000\n",
            "Epoch 109/150\n",
            "1820/1820 - 0s - loss: 0.0071 - acc: 1.0000 - val_loss: 0.0065 - val_acc: 1.0000\n",
            "Epoch 110/150\n",
            "1820/1820 - 0s - loss: 0.0075 - acc: 0.9995 - val_loss: 0.0064 - val_acc: 1.0000\n",
            "Epoch 111/150\n",
            "1820/1820 - 0s - loss: 0.0067 - acc: 1.0000 - val_loss: 0.0062 - val_acc: 1.0000\n",
            "Epoch 112/150\n",
            "1820/1820 - 0s - loss: 0.0068 - acc: 0.9995 - val_loss: 0.0065 - val_acc: 1.0000\n",
            "Epoch 113/150\n",
            "1820/1820 - 0s - loss: 0.0064 - acc: 1.0000 - val_loss: 0.0060 - val_acc: 1.0000\n",
            "Epoch 114/150\n",
            "1820/1820 - 0s - loss: 0.0064 - acc: 0.9995 - val_loss: 0.0063 - val_acc: 1.0000\n",
            "Epoch 115/150\n",
            "1820/1820 - 0s - loss: 0.0062 - acc: 1.0000 - val_loss: 0.0061 - val_acc: 1.0000\n",
            "Epoch 116/150\n",
            "1820/1820 - 0s - loss: 0.0061 - acc: 1.0000 - val_loss: 0.0055 - val_acc: 1.0000\n",
            "Epoch 117/150\n",
            "1820/1820 - 0s - loss: 0.0060 - acc: 1.0000 - val_loss: 0.0054 - val_acc: 1.0000\n",
            "Epoch 118/150\n",
            "1820/1820 - 0s - loss: 0.0059 - acc: 1.0000 - val_loss: 0.0052 - val_acc: 1.0000\n",
            "Epoch 119/150\n",
            "1820/1820 - 0s - loss: 0.0062 - acc: 0.9995 - val_loss: 0.0075 - val_acc: 1.0000\n",
            "Epoch 120/150\n",
            "1820/1820 - 0s - loss: 0.0057 - acc: 1.0000 - val_loss: 0.0050 - val_acc: 1.0000\n",
            "Epoch 121/150\n",
            "1820/1820 - 0s - loss: 0.0056 - acc: 1.0000 - val_loss: 0.0063 - val_acc: 1.0000\n",
            "Epoch 122/150\n",
            "1820/1820 - 0s - loss: 0.0061 - acc: 1.0000 - val_loss: 0.0059 - val_acc: 1.0000\n",
            "Epoch 123/150\n",
            "1820/1820 - 0s - loss: 0.0056 - acc: 1.0000 - val_loss: 0.0056 - val_acc: 1.0000\n",
            "Epoch 124/150\n",
            "1820/1820 - 0s - loss: 0.0052 - acc: 1.0000 - val_loss: 0.0053 - val_acc: 1.0000\n",
            "Epoch 125/150\n",
            "1820/1820 - 0s - loss: 0.0053 - acc: 1.0000 - val_loss: 0.0044 - val_acc: 1.0000\n",
            "Epoch 126/150\n",
            "1820/1820 - 0s - loss: 0.0050 - acc: 0.9995 - val_loss: 0.0043 - val_acc: 1.0000\n",
            "Epoch 127/150\n",
            "1820/1820 - 0s - loss: 0.0048 - acc: 1.0000 - val_loss: 0.0042 - val_acc: 1.0000\n",
            "Epoch 128/150\n",
            "1820/1820 - 0s - loss: 0.0047 - acc: 1.0000 - val_loss: 0.0044 - val_acc: 1.0000\n",
            "Epoch 129/150\n",
            "1820/1820 - 0s - loss: 0.0044 - acc: 1.0000 - val_loss: 0.0042 - val_acc: 1.0000\n",
            "Epoch 130/150\n",
            "1820/1820 - 0s - loss: 0.0044 - acc: 1.0000 - val_loss: 0.0047 - val_acc: 1.0000\n",
            "Epoch 131/150\n",
            "1820/1820 - 0s - loss: 0.0044 - acc: 1.0000 - val_loss: 0.0039 - val_acc: 1.0000\n",
            "Epoch 132/150\n",
            "1820/1820 - 0s - loss: 0.0044 - acc: 0.9995 - val_loss: 0.0042 - val_acc: 1.0000\n",
            "Epoch 133/150\n",
            "1820/1820 - 0s - loss: 0.0043 - acc: 1.0000 - val_loss: 0.0038 - val_acc: 1.0000\n",
            "Epoch 134/150\n",
            "1820/1820 - 0s - loss: 0.0040 - acc: 1.0000 - val_loss: 0.0037 - val_acc: 1.0000\n",
            "Epoch 135/150\n",
            "1820/1820 - 0s - loss: 0.0041 - acc: 1.0000 - val_loss: 0.0036 - val_acc: 1.0000\n",
            "Epoch 136/150\n",
            "1820/1820 - 0s - loss: 0.0039 - acc: 1.0000 - val_loss: 0.0041 - val_acc: 1.0000\n",
            "Epoch 137/150\n",
            "1820/1820 - 0s - loss: 0.0040 - acc: 1.0000 - val_loss: 0.0035 - val_acc: 1.0000\n",
            "Epoch 138/150\n",
            "1820/1820 - 0s - loss: 0.0037 - acc: 1.0000 - val_loss: 0.0034 - val_acc: 1.0000\n",
            "Epoch 139/150\n",
            "1820/1820 - 0s - loss: 0.0037 - acc: 1.0000 - val_loss: 0.0034 - val_acc: 1.0000\n",
            "Epoch 140/150\n",
            "1820/1820 - 0s - loss: 0.0039 - acc: 1.0000 - val_loss: 0.0033 - val_acc: 1.0000\n",
            "Epoch 141/150\n",
            "1820/1820 - 0s - loss: 0.0040 - acc: 1.0000 - val_loss: 0.0043 - val_acc: 1.0000\n",
            "Epoch 142/150\n",
            "1820/1820 - 0s - loss: 0.0038 - acc: 1.0000 - val_loss: 0.0031 - val_acc: 1.0000\n",
            "Epoch 143/150\n",
            "1820/1820 - 0s - loss: 0.0036 - acc: 1.0000 - val_loss: 0.0031 - val_acc: 1.0000\n",
            "Epoch 144/150\n",
            "1820/1820 - 0s - loss: 0.0037 - acc: 1.0000 - val_loss: 0.0031 - val_acc: 1.0000\n",
            "Epoch 145/150\n",
            "1820/1820 - 0s - loss: 0.0034 - acc: 1.0000 - val_loss: 0.0040 - val_acc: 1.0000\n",
            "Epoch 146/150\n",
            "1820/1820 - 0s - loss: 0.0039 - acc: 1.0000 - val_loss: 0.0039 - val_acc: 1.0000\n",
            "Epoch 147/150\n",
            "1820/1820 - 0s - loss: 0.0034 - acc: 1.0000 - val_loss: 0.0028 - val_acc: 1.0000\n",
            "Epoch 148/150\n",
            "1820/1820 - 0s - loss: 0.0034 - acc: 1.0000 - val_loss: 0.0027 - val_acc: 1.0000\n",
            "Epoch 149/150\n",
            "1820/1820 - 0s - loss: 0.0034 - acc: 1.0000 - val_loss: 0.0032 - val_acc: 1.0000\n",
            "Epoch 150/150\n",
            "1820/1820 - 0s - loss: 0.0031 - acc: 1.0000 - val_loss: 0.0027 - val_acc: 1.0000\n"
          ],
          "name": "stdout"
        }
      ]
    },
    {
      "cell_type": "markdown",
      "metadata": {
        "id": "Js-2jvd8WHLQ",
        "colab_type": "text"
      },
      "source": [
        "# Plot metrics"
      ]
    },
    {
      "cell_type": "code",
      "metadata": {
        "id": "I32cwdl0A0xd",
        "colab_type": "code",
        "colab": {
          "base_uri": "https://localhost:8080/",
          "height": 901
        },
        "outputId": "79b359cf-b6c8-4e74-a459-d203c525beda"
      },
      "source": [
        "# Plot Metrics \n",
        "\n",
        "plt.figure(figsize = (20,15))\n",
        "plt.subplot(2,1,1)\n",
        "plt.plot(history.history['acc'])\n",
        "plt.plot(history.history['val_acc'])\n",
        "plt.title('model accuracy')\n",
        "plt.ylabel('accuracy')\n",
        "plt.xlabel('epochs')\n",
        "plt.legend(['training', 'validation'], loc='upper left')\n",
        "plt.show()\n",
        "\n",
        "plt.figure(figsize = (20,15))\n",
        "plt.subplot(2,1,2)\n",
        "plt.plot(history.history['loss'])\n",
        "plt.plot(history.history['val_loss'])\n",
        "plt.title('model loss')\n",
        "plt.ylabel('loss')\n",
        "plt.xlabel('epochs')\n",
        "plt.legend(['training', 'validation'], loc='lower left')\n",
        "plt.show()"
      ],
      "execution_count": null,
      "outputs": [
        {
          "output_type": "display_data",
          "data": {
            "image/png": "[encoded data removed]",
            "text/plain": [
              "<Figure size 1440x1080 with 1 Axes>"
            ]
          },
          "metadata": {
            "tags": []
          }
        },
        {
          "output_type": "display_data",
          "data": {
            "image/png": "[encoded data removed]",
            "text/plain": [
              "<Figure size 1440x1080 with 1 Axes>"
            ]
          },
          "metadata": {
            "tags": []
          }
        }
      ]
    },
    {
      "cell_type": "markdown",
      "metadata": {
        "id": "_-1du7P4HDMA",
        "colab_type": "text"
      },
      "source": [
        "# Prepare test data"
      ]
    },
    {
      "cell_type": "code",
      "metadata": {
        "id": "FC8ABJMU1aoQ",
        "colab_type": "code",
        "colab": {}
      },
      "source": [
        "# to predict: \n",
        "base_test_path = \"master_thesis_dataset/testData/\"\n",
        "\n",
        "t_cols = [i for i in range(1, 12)]\n",
        "tdf_2007_rt = pd.read_csv(base_test_path + '1020-07_10readings.csv', index_col=0, usecols=t_cols)\n",
        "tdf_2010_rt = pd.read_csv(base_test_path + '1020-10_10readings.csv', index_col=0, usecols=t_cols)\n",
        "tdf_2016_rt = pd.read_csv(base_test_path + '1020-16_10readings.csv', index_col=0, usecols=t_cols)\n",
        "tdf_2017_rt = pd.read_csv(base_test_path + '1020-17_10readings.csv', index_col=0, usecols=t_cols)\n",
        "tdf_2021_rt = pd.read_csv(base_test_path + '1020-21_10readings.csv', index_col=0, usecols=t_cols)\n",
        "tdf_2103_rt = pd.read_csv(base_test_path + '1021-03_10readings.csv', index_col=0, usecols=t_cols)\n",
        "tdf_2105_rt = pd.read_csv(base_test_path + '1021-05_10readings.csv', index_col=0, usecols=t_cols)\n",
        "tdf_2115_rt = pd.read_csv(base_test_path + '1021-15_10readings.csv', index_col=0, usecols=t_cols)\n",
        "tdf_2117_rt = pd.read_csv(base_test_path + '1021-17_10readings.csv', index_col=0, usecols=t_cols)\n",
        "tdf_2008_rt = pd.read_csv(base_test_path + '1020-08_10readings.csv', index_col=0, usecols=t_cols)\n",
        "tdf_2009_rt = pd.read_csv(base_test_path + '1020-09_10readings.csv', index_col=0, usecols=t_cols)\n",
        "\n",
        "test_path_pressure = \"master_thesis_dataset/pressureData/testData_pressure/\"\n",
        "p_cols = [i for i in range(1,22)]\n",
        "\n",
        "# for 1bar :\n",
        "tdf_2103_1bar = pd.read_csv(test_path_pressure + '1021-03_1bar_20readings.csv', index_col=0, usecols=p_cols) \n",
        "tdf_2105_1bar = pd.read_csv(test_path_pressure + '1021-05_1bar_20readings.csv', index_col=0, usecols=p_cols)\n",
        "tdf_2115_1bar = pd.read_csv(test_path_pressure + '1021-15_1bar_20readings.csv', index_col=0, usecols=p_cols)\n",
        "tdf_2117_1bar = pd.read_csv(test_path_pressure + '1021-17_1bar_20readings.csv', index_col=0, usecols=p_cols)\n",
        "tdf_2007_1bar = pd.read_csv(test_path_pressure + '1020-07_1bar_20readings.csv', index_col=0, usecols=p_cols)\n",
        "tdf_2010_1bar = pd.read_csv(test_path_pressure + '1020-10_1bar_20readings.csv', index_col=0, usecols=p_cols)\n",
        "tdf_2016_1bar = pd.read_csv(test_path_pressure + '1020-16_1bar_20readings.csv', index_col=0, usecols=p_cols)\n",
        "tdf_2017_1bar = pd.read_csv(test_path_pressure + '1020-17_1bar_20readings.csv', index_col=0, usecols=p_cols)\n",
        "tdf_2021_1bar = pd.read_csv(test_path_pressure + '1020-21_1bar_20readings.csv', index_col=0, usecols=p_cols)\n",
        "tdf_2008_1bar = pd.read_csv(test_path_pressure + '1020-08_1bar_20readings.csv', index_col=0, usecols=p_cols)\n",
        "tdf_2009_1bar = pd.read_csv(test_path_pressure + '1020-09_1bar_20readings.csv', index_col=0, usecols=p_cols)\n",
        "\n",
        "# for 2 bar :\n",
        "tdf_2103_2bar = pd.read_csv(test_path_pressure + '1021-03_2bar_20readings.csv', index_col=0, usecols=p_cols) \n",
        "tdf_2105_2bar = pd.read_csv(test_path_pressure + '1021-05_2bar_20readings.csv', index_col=0, usecols=p_cols)\n",
        "tdf_2115_2bar = pd.read_csv(test_path_pressure + '1021-15_2bar_20readings.csv', index_col=0, usecols=p_cols)\n",
        "tdf_2117_2bar = pd.read_csv(test_path_pressure + '1021-17_2bar_20readings.csv', index_col=0, usecols=p_cols)\n",
        "tdf_2007_2bar = pd.read_csv(test_path_pressure + '1020-07_2bar_20readings.csv', index_col=0, usecols=p_cols)\n",
        "tdf_2010_2bar = pd.read_csv(test_path_pressure + '1020-10_2bar_20readings.csv', index_col=0, usecols=p_cols)\n",
        "tdf_2016_2bar = pd.read_csv(test_path_pressure + '1020-16_2bar_20readings.csv', index_col=0, usecols=p_cols)\n",
        "tdf_2017_2bar = pd.read_csv(test_path_pressure + '1020-17_2bar_20readings.csv', index_col=0, usecols=p_cols)\n",
        "tdf_2021_2bar = pd.read_csv(test_path_pressure + '1020-21_2bar_20readings.csv', index_col=0, usecols=p_cols)\n",
        "tdf_2008_2bar = pd.read_csv(test_path_pressure + '1020-08_2bar_20readings.csv', index_col=0, usecols=p_cols)\n",
        "tdf_2009_2bar = pd.read_csv(test_path_pressure + '1020-09_2bar_20readings.csv', index_col=0, usecols=p_cols)\n",
        "\n",
        "# for 3 bar :\n",
        "tdf_2007_3bar = pd.read_csv(test_path_pressure + '1020-07_3bar_20readings.csv', index_col=0, usecols=p_cols)\n",
        "tdf_2010_3bar = pd.read_csv(test_path_pressure + '1020-10_3bar_20readings.csv', index_col=0, usecols=p_cols)\n",
        "tdf_2016_3bar = pd.read_csv(test_path_pressure + '1020-16_3bar_20readings.csv', index_col=0, usecols=p_cols)\n",
        "tdf_2017_3bar = pd.read_csv(test_path_pressure + '1020-17_3bar_20readings.csv', index_col=0, usecols=p_cols)\n",
        "tdf_2021_3bar = pd.read_csv(test_path_pressure + '1020-21_3bar_20readings.csv', index_col=0, usecols=p_cols)\n",
        "tdf_2008_3bar = pd.read_csv(test_path_pressure + '1020-08_3bar_20readings.csv', index_col=0, usecols=p_cols)\n",
        "tdf_2009_3bar = pd.read_csv(test_path_pressure + '1020-09_3bar_20readings.csv', index_col=0, usecols=p_cols)\n",
        "\n",
        "# for 4 bar :\n",
        "tdf_2103_4bar = pd.read_csv(test_path_pressure + '1021-03_4bar_20readings.csv', index_col=0, usecols=p_cols)\n",
        "tdf_2105_4bar = pd.read_csv(test_path_pressure + '1021-05_4bar_20readings.csv', index_col=0, usecols=p_cols)\n",
        "tdf_2115_4bar = pd.read_csv(test_path_pressure + '1021-15_4bar_20readings.csv', index_col=0, usecols=p_cols)\n",
        "tdf_2117_4bar = pd.read_csv(test_path_pressure + '1021-17_4bar_20readings.csv', index_col=0, usecols=p_cols)\n",
        "tdf_2007_4bar = pd.read_csv(test_path_pressure + '1020-07_4bar_20readings.csv', index_col=0, usecols=p_cols)\n",
        "tdf_2010_4bar = pd.read_csv(test_path_pressure + '1020-10_4bar_20readings.csv', index_col=0, usecols=p_cols)\n",
        "tdf_2016_4bar = pd.read_csv(test_path_pressure + '1020-16_4bar_20readings.csv', index_col=0, usecols=p_cols)\n",
        "tdf_2017_4bar = pd.read_csv(test_path_pressure + '1020-17_4bar_20readings.csv', index_col=0, usecols=p_cols)\n",
        "tdf_2021_4bar = pd.read_csv(test_path_pressure + '1020-21_4bar_20readings.csv', index_col=0, usecols=p_cols)\n",
        "tdf_2008_4bar = pd.read_csv(test_path_pressure + '1020-08_4bar_20readings.csv', index_col=0, usecols=p_cols)\n",
        "tdf_2009_4bar = pd.read_csv(test_path_pressure + '1020-09_4bar_20readings.csv', index_col=0, usecols=p_cols)\n",
        "\n",
        "# for 6 bar :\n",
        "tdf_2103_6bar = pd.read_csv(test_path_pressure + '1021-03_6bar_20readings.csv', index_col=0, usecols=p_cols) \n",
        "tdf_2105_6bar = pd.read_csv(test_path_pressure + '1021-05_6bar_20readings.csv', index_col=0, usecols=p_cols)\n",
        "tdf_2115_6bar = pd.read_csv(test_path_pressure + '1021-15_6bar_20readings.csv', index_col=0, usecols=p_cols)\n",
        "tdf_2117_6bar = pd.read_csv(test_path_pressure + '1021-17_6bar_20readings.csv', index_col=0, usecols=p_cols)"
      ],
      "execution_count": null,
      "outputs": []
    },
    {
      "cell_type": "markdown",
      "metadata": {
        "id": "FpEzmm5l8uSZ",
        "colab_type": "text"
      },
      "source": [
        "# Test data without window of inflection concept"
      ]
    },
    {
      "cell_type": "code",
      "metadata": {
        "id": "q9BEcyDs8iOb",
        "colab_type": "code",
        "colab": {}
      },
      "source": [
        "# preparing test data dictionary\n",
        "testData_dict = {'2103': {'rt': tdf_2103_rt.values/15, \n",
        "                          '1bar': tdf_2103_1bar.values/15, \n",
        "                          '2bar': tdf_2103_2bar.values/15, \n",
        "                          '4bar': tdf_2103_4bar.values/15, \n",
        "                          '6bar': tdf_2103_6bar.values/15,\n",
        "                          '05deg': (df_2103_05deg.values/15)[:, 80:],\n",
        "                          '15deg': (df_2103_15deg.values/15)[:, 80:], \n",
        "                          '25deg': (df_2103_25deg.values/15)[:, 80:], \n",
        "                          '35deg': (df_2103_35deg.values/15)[:, 80:], \n",
        "                          '45deg': (df_2103_45deg.values/15)[:, 80:]},\n",
        "                 '2105': {'rt': (tdf_2105_rt.values/15)[:, 0:1], \n",
        "                          '1bar': (tdf_2105_1bar.values/15)[:, 0:2], \n",
        "                          '2bar': (tdf_2105_2bar.values/15)[:, 0:2], \n",
        "                          '4bar': (tdf_2105_4bar.values/15)[:, 0:2], \n",
        "                          '6bar': (tdf_2105_6bar.values/15)[:, 0:2],\n",
        "                          '05deg': (df_2105_05deg.values/15)[:, 80:82],\n",
        "                          '15deg': (df_2105_15deg.values/15)[:, 80:82], \n",
        "                          '25deg': (df_2105_25deg.values/15)[:, 80:82], \n",
        "                          '35deg': (df_2105_35deg.values/15)[:, 80:82], \n",
        "                          '45deg': (df_2105_45deg.values/15)[:, 80:82]},\n",
        "                 '2115': {'rt': (tdf_2115_rt.values/15)[:, 0:1], \n",
        "                          '1bar': (tdf_2115_1bar.values/15)[:, 0:2], \n",
        "                          '2bar': (tdf_2115_2bar.values/15)[:, 0:2], \n",
        "                          '4bar': (tdf_2115_4bar.values/15)[:, 0:2], \n",
        "                          '6bar': (tdf_2115_6bar.values/15)[:, 0:2],\n",
        "                          '05deg': (df_2115_05deg.values/15)[:, 80:82],\n",
        "                          '15deg': (df_2115_15deg.values/15)[:, 80:82], \n",
        "                          '25deg': (df_2115_25deg.values/15)[:, 80:82], \n",
        "                          '35deg': (df_2115_35deg.values/15)[:, 80:82], \n",
        "                          '45deg': (df_2115_45deg.values/15)[:, 80:82]},\n",
        "                 '2117': {'rt': (tdf_2117_rt.values/15)[:, 0:1], \n",
        "                          '1bar': (tdf_2117_1bar.values/15)[:, 0:2], \n",
        "                          '2bar': (tdf_2117_2bar.values/15)[:, 0:2], \n",
        "                          '4bar': (tdf_2117_4bar.values/15)[:, 0:2], \n",
        "                          '6bar': (tdf_2117_6bar.values/15)[:, 0:2],\n",
        "                          '05deg': (df_2117_05deg.values/15)[:, 80:82],\n",
        "                          '15deg': (df_2117_15deg.values/15)[:, 80:82], \n",
        "                          '25deg': (df_2117_25deg.values/15)[:, 80:82], \n",
        "                          '35deg': (df_2117_35deg.values/15)[:, 80:82], \n",
        "                          '45deg': (df_2117_45deg.values/15)[:, 80:82]},\n",
        "                 '2007': {'rt': (tdf_2007_rt.values/15)[:, 0:1], \n",
        "                          '1bar': (tdf_2007_1bar.values/15)[:, 0:2], \n",
        "                          '2bar': (tdf_2007_2bar.values/15)[:, 0:2], \n",
        "                          '3bar': (tdf_2007_3bar.values/15)[:, 0:2], \n",
        "                          '4bar': (tdf_2007_4bar.values/15)[:, 0:2],\n",
        "                          '05deg': (df_2007_05deg.values/15)[:, 80:82],\n",
        "                          '15deg': (df_2007_15deg.values/15)[:, 80:82], \n",
        "                          '25deg': (df_2007_25deg.values/15)[:, 80:82], \n",
        "                          '35deg': (df_2007_35deg.values/15)[:, 80:82], \n",
        "                          '45deg': (df_2007_45deg.values/15)[:, 80:82]},\n",
        "                 '2010': {'rt': (tdf_2010_rt.values/15)[:, 0:1], \n",
        "                          '1bar': (tdf_2010_1bar.values/15)[:, 0:2], \n",
        "                          '2bar': (tdf_2010_2bar.values/15)[:, 0:2], \n",
        "                          '3bar': (tdf_2010_3bar.values/15)[:, 0:2], \n",
        "                          '4bar': (tdf_2010_4bar.values/15)[:, 0:2],\n",
        "                          '05deg': (df_2010_05deg.values/15)[:, 80:82],\n",
        "                          '15deg': (df_2010_15deg.values/15)[:, 80:82], \n",
        "                          '25deg': (df_2010_25deg.values/15)[:, 80:82], \n",
        "                          '35deg': (df_2010_35deg.values/15)[:, 80:82], \n",
        "                          '45deg': (df_2010_45deg.values/15)[:, 80:82]},\n",
        "                 '2016': {'rt': (tdf_2016_rt.values/15)[:, 0:1], \n",
        "                          '1bar': (tdf_2016_1bar.values/15)[:, 0:2], \n",
        "                          '2bar': (tdf_2016_2bar.values/15)[:, 0:2], \n",
        "                          '3bar': (tdf_2016_3bar.values/15)[:, 0:2], \n",
        "                          '4bar': (tdf_2016_4bar.values/15)[:, 0:2],\n",
        "                          '05deg': (df_2016_05deg.values/15)[:, 80:82],\n",
        "                          '15deg': (df_2016_15deg.values/15)[:, 80:82], \n",
        "                          '25deg': (df_2016_25deg.values/15)[:, 80:82], \n",
        "                          '35deg': (df_2016_35deg.values/15)[:, 80:82], \n",
        "                          '45deg': (df_2016_45deg.values/15)[:, 80:82]},\n",
        "                 '2017': {'rt': (tdf_2017_rt.values/15)[:, 0:1], \n",
        "                          '1bar': (tdf_2017_1bar.values/15)[:, 0:2], \n",
        "                          '2bar': (tdf_2017_2bar.values/15)[:, 0:2], \n",
        "                          '3bar': (tdf_2017_3bar.values/15)[:, 0:2], \n",
        "                          '4bar': (tdf_2017_4bar.values/15)[:, 0:2],\n",
        "                          '05deg': (df_2017_05deg.values/15)[:, 80:82],\n",
        "                          '15deg': (df_2017_15deg.values/15)[:, 80:82], \n",
        "                          '25deg': (df_2017_25deg.values/15)[:, 80:82], \n",
        "                          '35deg': (df_2017_35deg.values/15)[:, 80:82], \n",
        "                          '45deg': (df_2017_45deg.values/15)[:, 80:82]},\n",
        "                 '2021': {'rt': (tdf_2021_rt.values/15)[:, 0:1], \n",
        "                          '1bar': (tdf_2021_1bar.values/15)[:, 0:2], \n",
        "                          '2bar': (tdf_2021_2bar.values/15)[:, 0:2], \n",
        "                          '3bar': (tdf_2021_3bar.values/15)[:, 0:2], \n",
        "                          '4bar': (tdf_2021_4bar.values/15)[:, 0:2],\n",
        "                          '05deg': (df_2021_05deg.values/15)[:, 80:82],\n",
        "                          '15deg': (df_2021_15deg.values/15)[:, 80:82], \n",
        "                          '25deg': (df_2021_25deg.values/15)[:, 80:82], \n",
        "                          '35deg': (df_2021_35deg.values/15)[:, 80:82], \n",
        "                          '45deg': (df_2021_45deg.values/15)[:, 80:82]},\n",
        "                 '2008': {'rt': (tdf_2008_rt.values/4)[:, 0:1], \n",
        "                          '1bar': (tdf_2008_1bar.values/4)[:, 0:2], \n",
        "                          '2bar': (tdf_2008_2bar.values/4)[:, 0:2], \n",
        "                          '3bar': (tdf_2008_3bar.values/4)[:, 0:2],\n",
        "                          '4bar': (tdf_2008_4bar.values/4)[:, 0:2],\n",
        "                          '05deg': (df_2008_05deg.values/4)[:, 80:82],\n",
        "                          '15deg': (df_2008_15deg.values/4)[:, 80:82], \n",
        "                          '25deg': (df_2008_25deg.values/4)[:, 80:82], \n",
        "                          '35deg': (df_2008_35deg.values/4)[:, 80:82], \n",
        "                          '45deg': (df_2008_45deg.values/4)[:, 80:82]},\n",
        "                 '2009': {'rt': (tdf_2009_rt.values/4)[:, 0:1], \n",
        "                          '1bar': (tdf_2009_1bar.values/4)[:, 0:2], \n",
        "                          '2bar': (tdf_2009_2bar.values/4)[:, 0:2], \n",
        "                          '3bar': (tdf_2009_3bar.values/4)[:, 0:2], \n",
        "                          '4bar': (tdf_2009_4bar.values/4)[:, 0:2],\n",
        "                          '05deg': (df_2009_05deg.values/4)[:, 80:82],\n",
        "                          '15deg': (df_2009_15deg.values/4)[:, 80:82], \n",
        "                          '25deg': (df_2009_25deg.values/4)[:, 80:82], \n",
        "                          '35deg': (df_2009_35deg.values/4)[:, 80:82], \n",
        "                          '45deg': (df_2009_45deg.values/4)[:, 80:82]}\n",
        "                }"
      ],
      "execution_count": null,
      "outputs": []
    },
    {
      "cell_type": "markdown",
      "metadata": {
        "id": "cI7hLk-rHL5f",
        "colab_type": "text"
      },
      "source": [
        "# Test data with window of inflection concept"
      ]
    },
    {
      "cell_type": "code",
      "metadata": {
        "id": "blz3xrAm1aoT",
        "colab_type": "code",
        "colab": {}
      },
      "source": [
        "# preparing test data dictionary\n",
        "testData_dict = {'2103': {'rt': tdf_2103_rt.values[790:1790]/15, \n",
        "                          '1bar': tdf_2103_1bar.values[790:1790]/15, \n",
        "                          '2bar': tdf_2103_2bar.values[790:1790]/15, \n",
        "                          '4bar': tdf_2103_4bar.values[790:1790]/15, \n",
        "                          '6bar': tdf_2103_6bar.values[790:1790]/15,\n",
        "                          '05deg': (df_2103_05deg.values[790:1790]/15)[:, 80:],\n",
        "                          '15deg': (df_2103_15deg.values[790:1790]/15)[:, 80:], \n",
        "                          '25deg': (df_2103_25deg.values[790:1790]/15)[:, 80:], \n",
        "                          '35deg': (df_2103_35deg.values[790:1790]/15)[:, 80:], \n",
        "                          '45deg': (df_2103_45deg.values[790:1790]/15)[:, 80:]},\n",
        "                 '2105': {'rt': (tdf_2105_rt.values[790:1790]/15)[:, 0:1], \n",
        "                          '1bar': (tdf_2105_1bar.values[790:1790]/15)[:, 0:2], \n",
        "                          '2bar': (tdf_2105_2bar.values[790:1790]/15)[:, 0:2], \n",
        "                          '4bar': (tdf_2105_4bar.values[790:1790]/15)[:, 0:2], \n",
        "                          '6bar': (tdf_2105_6bar.values[790:1790]/15)[:, 0:2],\n",
        "                          '05deg': (df_2105_05deg.values[790:1790]/15)[:, 80:82],\n",
        "                          '15deg': (df_2105_15deg.values[790:1790]/15)[:, 80:82], \n",
        "                          '25deg': (df_2105_25deg.values[790:1790]/15)[:, 80:82], \n",
        "                          '35deg': (df_2105_35deg.values[790:1790]/15)[:, 80:82], \n",
        "                          '45deg': (df_2105_45deg.values[790:1790]/15)[:, 80:82]},\n",
        "                 '2115': {'rt': (tdf_2115_rt.values[790:1790]/15)[:, 0:1], \n",
        "                          '1bar': (tdf_2115_1bar.values[790:1790]/15)[:, 0:2], \n",
        "                          '2bar': (tdf_2115_2bar.values[790:1790]/15)[:, 0:2], \n",
        "                          '4bar': (tdf_2115_4bar.values[790:1790]/15)[:, 0:2], \n",
        "                          '6bar': (tdf_2115_6bar.values[790:1790]/15)[:, 0:2],\n",
        "                          '05deg': (df_2115_05deg.values[790:1790]/15)[:, 80:82],\n",
        "                          '15deg': (df_2115_15deg.values[790:1790]/15)[:, 80:82], \n",
        "                          '25deg': (df_2115_25deg.values[790:1790]/15)[:, 80:82], \n",
        "                          '35deg': (df_2115_35deg.values[790:1790]/15)[:, 80:82], \n",
        "                          '45deg': (df_2115_45deg.values[790:1790]/15)[:, 80:82]},\n",
        "                 '2117': {'rt': (tdf_2117_rt.values[790:1790]/15)[:, 0:1], \n",
        "                          '1bar': (tdf_2117_1bar.values[790:1790]/15)[:, 0:2], \n",
        "                          '2bar': (tdf_2117_2bar.values[790:1790]/15)[:, 0:2], \n",
        "                          '4bar': (tdf_2117_4bar.values[790:1790]/15)[:, 0:2], \n",
        "                          '6bar': (tdf_2117_6bar.values[790:1790]/15)[:, 0:2],\n",
        "                          '05deg': (df_2117_05deg.values[790:1790]/15)[:, 80:82],\n",
        "                          '15deg': (df_2117_15deg.values[790:1790]/15)[:, 80:82], \n",
        "                          '25deg': (df_2117_25deg.values[790:1790]/15)[:, 80:82], \n",
        "                          '35deg': (df_2117_35deg.values[790:1790]/15)[:, 80:82], \n",
        "                          '45deg': (df_2117_45deg.values[790:1790]/15)[:, 80:82]},\n",
        "                 '2007': {'rt': (tdf_2007_rt.values[790:1790]/15)[:, 0:1], \n",
        "                          '1bar': (tdf_2007_1bar.values[790:1790]/15)[:, 0:2], \n",
        "                          '2bar': (tdf_2007_2bar.values[790:1790]/15)[:, 0:2], \n",
        "                          '3bar': (tdf_2007_3bar.values[790:1790]/15)[:, 0:2], \n",
        "                          '4bar': (tdf_2007_4bar.values[790:1790]/15)[:, 0:2],\n",
        "                          '05deg': (df_2007_05deg.values[790:1790]/15)[:, 80:82],\n",
        "                          '15deg': (df_2007_15deg.values[790:1790]/15)[:, 80:82], \n",
        "                          '25deg': (df_2007_25deg.values[790:1790]/15)[:, 80:82], \n",
        "                          '35deg': (df_2007_35deg.values[790:1790]/15)[:, 80:82], \n",
        "                          '45deg': (df_2007_45deg.values[790:1790]/15)[:, 80:82]},\n",
        "                 '2010': {'rt': (tdf_2010_rt.values[790:1790]/15)[:, 0:1], \n",
        "                          '1bar': (tdf_2010_1bar.values[790:1790]/15)[:, 0:2], \n",
        "                          '2bar': (tdf_2010_2bar.values[790:1790]/15)[:, 0:2], \n",
        "                          '3bar': (tdf_2010_3bar.values[790:1790]/15)[:, 0:2], \n",
        "                          '4bar': (tdf_2010_4bar.values[790:1790]/15)[:, 0:2],\n",
        "                          '05deg': (df_2010_05deg.values[790:1790]/15)[:, 80:82],\n",
        "                          '15deg': (df_2010_15deg.values[790:1790]/15)[:, 80:82], \n",
        "                          '25deg': (df_2010_25deg.values[790:1790]/15)[:, 80:82], \n",
        "                          '35deg': (df_2010_35deg.values[790:1790]/15)[:, 80:82], \n",
        "                          '45deg': (df_2010_45deg.values[790:1790]/15)[:, 80:82]},\n",
        "                 '2016': {'rt': (tdf_2016_rt.values[790:1790]/15)[:, 0:1], \n",
        "                          '1bar': (tdf_2016_1bar.values[790:1790]/15)[:, 0:2], \n",
        "                          '2bar': (tdf_2016_2bar.values[790:1790]/15)[:, 0:2], \n",
        "                          '3bar': (tdf_2016_3bar.values[790:1790]/15)[:, 0:2], \n",
        "                          '4bar': (tdf_2016_4bar.values[790:1790]/15)[:, 0:2],\n",
        "                          '05deg': (df_2016_05deg.values[790:1790]/15)[:, 80:82],\n",
        "                          '15deg': (df_2016_15deg.values[790:1790]/15)[:, 80:82], \n",
        "                          '25deg': (df_2016_25deg.values[790:1790]/15)[:, 80:82], \n",
        "                          '35deg': (df_2016_35deg.values[790:1790]/15)[:, 80:82], \n",
        "                          '45deg': (df_2016_45deg.values[790:1790]/15)[:, 80:82]},\n",
        "                 '2017': {'rt': (tdf_2017_rt.values[790:1790]/15)[:, 0:1], \n",
        "                          '1bar': (tdf_2017_1bar.values[790:1790]/15)[:, 0:2], \n",
        "                          '2bar': (tdf_2017_2bar.values[790:1790]/15)[:, 0:2], \n",
        "                          '3bar': (tdf_2017_3bar.values[790:1790]/15)[:, 0:2], \n",
        "                          '4bar': (tdf_2017_4bar.values[790:1790]/15)[:, 0:2],\n",
        "                          '05deg': (df_2017_05deg.values[790:1790]/15)[:, 80:82],\n",
        "                          '15deg': (df_2017_15deg.values[790:1790]/15)[:, 80:82], \n",
        "                          '25deg': (df_2017_25deg.values[790:1790]/15)[:, 80:82], \n",
        "                          '35deg': (df_2017_35deg.values[790:1790]/15)[:, 80:82], \n",
        "                          '45deg': (df_2017_45deg.values[790:1790]/15)[:, 80:82]},\n",
        "                 '2021': {'rt': (tdf_2021_rt.values[790:1790]/15)[:, 0:1], \n",
        "                          '1bar': (tdf_2021_1bar.values[790:1790]/15)[:, 0:2], \n",
        "                          '2bar': (tdf_2021_2bar.values[790:1790]/15)[:, 0:2], \n",
        "                          '3bar': (tdf_2021_3bar.values[790:1790]/15)[:, 0:2], \n",
        "                          '4bar': (tdf_2021_4bar.values[790:1790]/15)[:, 0:2],\n",
        "                          '05deg': (df_2021_05deg.values[790:1790]/15)[:, 80:82],\n",
        "                          '15deg': (df_2021_15deg.values[790:1790]/15)[:, 80:82], \n",
        "                          '25deg': (df_2021_25deg.values[790:1790]/15)[:, 80:82], \n",
        "                          '35deg': (df_2021_35deg.values[790:1790]/15)[:, 80:82], \n",
        "                          '45deg': (df_2021_45deg.values[790:1790]/15)[:, 80:82]},\n",
        "                 '2008': {'rt': (tdf_2008_rt.values[790:1790]/4)[:, 0:1], \n",
        "                          '1bar': (tdf_2008_1bar.values[790:1790]/4)[:, 0:2], \n",
        "                          '2bar': (tdf_2008_2bar.values[790:1790]/4)[:, 0:2], \n",
        "                          '3bar': (tdf_2008_3bar.values[790:1790]/4)[:, 0:2],\n",
        "                          '4bar': (tdf_2008_4bar.values[790:1790]/4)[:, 0:2],\n",
        "                          '05deg': (df_2008_05deg.values[790:1790]/4)[:, 80:82],\n",
        "                          '15deg': (df_2008_15deg.values[790:1790]/4)[:, 80:82], \n",
        "                          '25deg': (df_2008_25deg.values[790:1790]/4)[:, 80:82], \n",
        "                          '35deg': (df_2008_35deg.values[790:1790]/4)[:, 80:82], \n",
        "                          '45deg': (df_2008_45deg.values[790:1790]/4)[:, 80:82]},\n",
        "                 '2009': {'rt': (tdf_2009_rt.values[790:1790]/4)[:, 0:1], \n",
        "                          '1bar': (tdf_2009_1bar.values[790:1790]/4)[:, 0:2], \n",
        "                          '2bar': (tdf_2009_2bar.values[790:1790]/4)[:, 0:2], \n",
        "                          '3bar': (tdf_2009_3bar.values[790:1790]/4)[:, 0:2], \n",
        "                          '4bar': (tdf_2009_4bar.values[790:1790]/4)[:, 0:2],\n",
        "                          '05deg': (df_2009_05deg.values[790:1790]/4)[:, 80:82],\n",
        "                          '15deg': (df_2009_15deg.values[790:1790]/4)[:, 80:82], \n",
        "                          '25deg': (df_2009_25deg.values[790:1790]/4)[:, 80:82], \n",
        "                          '35deg': (df_2009_35deg.values[790:1790]/4)[:, 80:82], \n",
        "                          '45deg': (df_2009_45deg.values[790:1790]/4)[:, 80:82]}\n",
        "                }"
      ],
      "execution_count": null,
      "outputs": []
    },
    {
      "cell_type": "code",
      "metadata": {
        "id": "1D9OWhQ4HkG1",
        "colab_type": "code",
        "colab": {}
      },
      "source": [
        "# Preparing the test set\n",
        "test_data = []\n",
        "test_labels = []\n",
        "params =[]\n",
        "\n",
        "for valve in testData_dict.keys():\n",
        "    for param in testData_dict[valve].keys():\n",
        "        if testData_dict[valve][param].shape[1] == 1:\n",
        "            for i in range(0,1):\n",
        "                test_data.append(testData_dict[valve][param][:, i])\n",
        "                #print(\"valve is %s \"%valve)\n",
        "                test_labels.append(1)\n",
        "                params.append((valve, param))\n",
        "        elif testData_dict[valve][param].shape[1] == 2:\n",
        "            for i in range(0,2):\n",
        "                test_data.append(testData_dict[valve][param][:, i])\n",
        "                #print(\"valve is %s \"%valve)\n",
        "                test_labels.append(1)\n",
        "                params.append((valve, param))\n",
        "        elif testData_dict[valve][param].shape[1] == 10:\n",
        "            for i in range (0,10):\n",
        "                test_data.append(testData_dict[valve][param][:, i])\n",
        "                #print(\"valve is %s \"%valve)\n",
        "                test_labels.append(0)\n",
        "                params.append((valve, param))\n",
        "        elif testData_dict[valve][param].shape[1] == 20:\n",
        "            for i in range(0,20):\n",
        "                test_data.append(testData_dict[valve][param][:, i])\n",
        "                #print(\"valve is %s \"%valve)\n",
        "                test_labels.append(0)\n",
        "                params.append((valve, param))\n",
        "        else:\n",
        "            pass"
      ],
      "execution_count": null,
      "outputs": []
    },
    {
      "cell_type": "code",
      "metadata": {
        "id": "ozAu71A3Kfi0",
        "colab_type": "code",
        "colab": {
          "base_uri": "https://localhost:8080/",
          "height": 34
        },
        "outputId": "a4ea8379-ea1e-415b-8cab-e4833fa8d572"
      },
      "source": [
        "len(test_data)"
      ],
      "execution_count": null,
      "outputs": [
        {
          "output_type": "execute_result",
          "data": {
            "text/plain": [
              "380"
            ]
          },
          "metadata": {
            "tags": []
          },
          "execution_count": 62
        }
      ]
    },
    {
      "cell_type": "code",
      "metadata": {
        "id": "_JXUkoByErhz",
        "colab_type": "code",
        "colab": {}
      },
      "source": [
        "X_test = np.array(test_data, dtype='float')\n",
        "y_test = np.array(test_labels)"
      ],
      "execution_count": null,
      "outputs": []
    },
    {
      "cell_type": "markdown",
      "metadata": {
        "colab_type": "text",
        "id": "KP5ND4xqEx5E"
      },
      "source": [
        "# Evaluate and predict"
      ]
    },
    {
      "cell_type": "code",
      "metadata": {
        "id": "2Fu1NAL7sr2S",
        "colab_type": "code",
        "colab": {}
      },
      "source": [
        "X_test = np.reshape(X_test, (X_test.shape[0], X_test.shape[1],1))"
      ],
      "execution_count": null,
      "outputs": []
    },
    {
      "cell_type": "code",
      "metadata": {
        "colab_type": "code",
        "id": "Y53S5psxEx4o",
        "colab": {
          "base_uri": "https://localhost:8080/",
          "height": 68
        },
        "outputId": "8632d5bd-ca25-4e4c-a196-35b3562a7547"
      },
      "source": [
        "results = model.evaluate(x=X_test, y=y_test, batch_size=32)\n",
        "print('test loss, test accuracy:', results)\n",
        "\n",
        "predictions = model.predict(x=X_test)\n",
        "print('predictions shape:', predictions.shape)"
      ],
      "execution_count": null,
      "outputs": [
        {
          "output_type": "stream",
          "text": [
            "380/380 [==============================] - 0s 180us/sample - loss: 0.2501 - acc: 0.9421\n",
            "test loss, test accuracy: [0.25009273812671196, 0.94210523]\n",
            "predictions shape: (380, 1)\n"
          ],
          "name": "stdout"
        }
      ]
    },
    {
      "cell_type": "markdown",
      "metadata": {
        "colab_type": "text",
        "id": "U--HVYv09JL0"
      },
      "source": [
        "# Plot confusion matrix "
      ]
    },
    {
      "cell_type": "code",
      "metadata": {
        "id": "2naHmi8vFZKp",
        "colab_type": "code",
        "colab": {
          "base_uri": "https://localhost:8080/",
          "height": 34
        },
        "outputId": "aab08990-290b-40cf-ae3a-1038298be29c"
      },
      "source": [
        "pred = np.ndarray.flatten(predictions)\n",
        "pred.shape"
      ],
      "execution_count": null,
      "outputs": [
        {
          "output_type": "execute_result",
          "data": {
            "text/plain": [
              "(380,)"
            ]
          },
          "metadata": {
            "tags": []
          },
          "execution_count": 22
        }
      ]
    },
    {
      "cell_type": "code",
      "metadata": {
        "colab_type": "code",
        "id": "snck2bs69JL2",
        "colab": {
          "base_uri": "https://localhost:8080/",
          "height": 323
        },
        "outputId": "a6bffd34-938b-4d3d-e4a6-63916c02dbb4"
      },
      "source": [
        "class_labels = pred > 0.5\n",
        "class_labels = class_labels.astype(int)\n",
        "class_labels"
      ],
      "execution_count": null,
      "outputs": [
        {
          "output_type": "execute_result",
          "data": {
            "text/plain": [
              "array([0, 0, 0, 0, 0, 0, 0, 0, 0, 0, 0, 0, 0, 0, 0, 0, 0, 0, 0, 0, 0, 0,\n",
              "       0, 0, 0, 0, 0, 0, 0, 0, 0, 0, 0, 0, 0, 0, 0, 0, 0, 0, 0, 0, 0, 0,\n",
              "       0, 0, 0, 0, 0, 0, 0, 0, 0, 0, 0, 0, 0, 0, 0, 0, 0, 0, 0, 0, 0, 0,\n",
              "       0, 0, 0, 0, 1, 1, 1, 1, 1, 1, 1, 1, 1, 1, 1, 1, 1, 1, 1, 1, 1, 1,\n",
              "       1, 1, 0, 0, 0, 0, 0, 0, 0, 0, 0, 0, 0, 0, 0, 0, 0, 0, 0, 0, 0, 0,\n",
              "       0, 0, 0, 0, 0, 0, 0, 0, 0, 0, 0, 0, 0, 0, 0, 0, 0, 0, 0, 0, 0, 0,\n",
              "       0, 0, 0, 0, 0, 0, 0, 0, 0, 0, 0, 0, 0, 0, 0, 0, 0, 0, 0, 0, 0, 0,\n",
              "       0, 0, 0, 0, 0, 0, 0, 0, 0, 0, 0, 0, 0, 0, 0, 0, 0, 0, 0, 0, 0, 0,\n",
              "       0, 0, 0, 0, 0, 0, 0, 0, 0, 0, 0, 0, 0, 0, 1, 1, 1, 1, 1, 1, 1, 1,\n",
              "       1, 1, 1, 1, 1, 1, 1, 1, 1, 1, 1, 1, 1, 1, 0, 0, 1, 1, 1, 1, 1, 1,\n",
              "       1, 1, 1, 1, 1, 1, 1, 1, 1, 1, 1, 1, 1, 1, 1, 1, 1, 1, 1, 1, 1, 1,\n",
              "       1, 1, 1, 1, 1, 1, 1, 1, 1, 1, 1, 1, 1, 1, 1, 1, 1, 1, 1, 1, 1, 1,\n",
              "       1, 1, 1, 1, 1, 1, 1, 1, 1, 1, 1, 1, 1, 1, 1, 1, 1, 1, 1, 1, 1, 1,\n",
              "       1, 1, 1, 1, 1, 1, 1, 1, 1, 1, 1, 1, 1, 1, 1, 1, 1, 1, 1, 1, 1, 1,\n",
              "       1, 1, 1, 1, 1, 1, 1, 1, 1, 1, 1, 1, 1, 1, 1, 1, 1, 1, 1, 1, 1, 1,\n",
              "       1, 1, 1, 1, 1, 1, 1, 1, 1, 1, 1, 1, 1, 1, 1, 1, 1, 1, 1, 1, 1, 1,\n",
              "       1, 1, 1, 1, 1, 1, 1, 1, 1, 1, 1, 1, 1, 1, 1, 1, 1, 1, 1, 1, 1, 1,\n",
              "       1, 1, 1, 1, 1, 1])"
            ]
          },
          "metadata": {
            "tags": []
          },
          "execution_count": 23
        }
      ]
    },
    {
      "cell_type": "code",
      "metadata": {
        "colab_type": "code",
        "id": "fV8SAvE09JL8",
        "colab": {
          "base_uri": "https://localhost:8080/",
          "height": 51
        },
        "outputId": "e59ca6b2-9307-42f7-8865-3d62d70e7a7d"
      },
      "source": [
        "conf_matrix2 = confusion_matrix(y_true=y_test, y_pred=class_labels, labels=[0,1])\n",
        "conf_matrix2"
      ],
      "execution_count": null,
      "outputs": [
        {
          "output_type": "execute_result",
          "data": {
            "text/plain": [
              "array([[170,  20],\n",
              "       [  2, 188]])"
            ]
          },
          "metadata": {
            "tags": []
          },
          "execution_count": 24
        }
      ]
    },
    {
      "cell_type": "code",
      "metadata": {
        "colab_type": "code",
        "id": "aLDG-bM39JMB",
        "colab": {
          "base_uri": "https://localhost:8080/",
          "height": 234
        },
        "outputId": "c4aee9a1-ef42-4d7e-968c-78f98fcb8955"
      },
      "source": [
        "classes=['good', 'bad']\n",
        "df_cm = pd.DataFrame(conf_matrix2, index = classes, columns = classes)\n",
        "plt.figure(figsize = (5,3))\n",
        "sn.set(font_scale=0.8)\n",
        "sn.heatmap(df_cm, annot=True, vmin=0, vmax=100, cmap=\"Blues\", fmt=\"d\", annot_kws={\"size\": 8})"
      ],
      "execution_count": null,
      "outputs": [
        {
          "output_type": "execute_result",
          "data": {
            "text/plain": [
              "<matplotlib.axes._subplots.AxesSubplot at 0x7fdedd700b70>"
            ]
          },
          "metadata": {
            "tags": []
          },
          "execution_count": 129
        },
        {
          "output_type": "display_data",
          "data": {
            "image/png": "[encoded data removed]",
            "text/plain": [
              "<Figure size 360x216 with 2 Axes>"
            ]
          },
          "metadata": {
            "tags": []
          }
        }
      ]
    },
    {
      "cell_type": "markdown",
      "metadata": {
        "id": "Lew_RSOTu99g",
        "colab_type": "text"
      },
      "source": [
        "# Save model and other results"
      ]
    },
    {
      "cell_type": "code",
      "metadata": {
        "id": "sGP4nMW7saoz",
        "colab_type": "code",
        "colab": {}
      },
      "source": [
        "# To save a model (model's architecture, weights, and training configuration stored in a file/folder)\n",
        "model.save('bin_class/bin_class_withWindow_noNoise')"
      ],
      "execution_count": null,
      "outputs": []
    },
    {
      "cell_type": "code",
      "metadata": {
        "id": "m7gY41b9sao5",
        "colab_type": "code",
        "colab": {}
      },
      "source": [
        "# to save loss and acc matrices to plot later\n",
        "import pickle\n",
        "with open('bin_class/bin_class_withWindow_noNoise_metrics.pickle', 'wb') as handle:\n",
        "    pickle.dump(history.history, handle, protocol=pickle.HIGHEST_PROTOCOL)\n",
        "    \n",
        "# to read the saved file:\n",
        "#with open('<filename>', 'rb') as handle:\n",
        "    #h_dict = pickle.load(handle)"
      ],
      "execution_count": null,
      "outputs": []
    },
    {
      "cell_type": "code",
      "metadata": {
        "id": "2dhm1DBzsao_",
        "colab_type": "code",
        "colab": {}
      },
      "source": [
        "# to save confusion matrix:\n",
        "with open('bin_class/bin_class_withWindow_noNoise_confMatrix.pickle', 'wb') as f:\n",
        "    pickle.dump(conf_matrix2, f, protocol=pickle.HIGHEST_PROTOCOL)\n",
        "\n",
        "# to load from file:\n",
        "#with open('<filename>', 'rb') as f:\n",
        "    #mat = pickle.load(f)"
      ],
      "execution_count": null,
      "outputs": []
    },
    {
      "cell_type": "code",
      "metadata": {
        "id": "nwalSg5DHsc0",
        "colab_type": "code",
        "colab": {
          "base_uri": "https://localhost:8080/",
          "height": 85
        },
        "outputId": "ca8ea337-eae4-4453-f013-02b5fc814977"
      },
      "source": [
        "# to zip saved model and pickle files\n",
        "!zip -r /content/bin_class.zip /content/bin_class"
      ],
      "execution_count": null,
      "outputs": [
        {
          "output_type": "stream",
          "text": [
            "  adding: content/bin_class/ (stored 0%)\n",
            "  adding: content/bin_class/bin_class_withWindow_noNoise (deflated 44%)\n",
            "  adding: content/bin_class/bin_class_withWindow_noNoise_metrics.pickle (deflated 71%)\n",
            "  adding: content/bin_class/bin_class_withWindow_noNoise_confMatrix.pickle (deflated 22%)\n"
          ],
          "name": "stdout"
        }
      ]
    },
    {
      "cell_type": "code",
      "metadata": {
        "id": "SiCYQ3XqHtd7",
        "colab_type": "code",
        "colab": {}
      },
      "source": [
        "# to download the zipped files\n",
        "from google.colab import files\n",
        "files.download(\"/content/conv1D.zip\")"
      ],
      "execution_count": null,
      "outputs": []
    }
  ]
}