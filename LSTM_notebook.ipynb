{
  "nbformat": 4,
  "nbformat_minor": 0,
  "metadata": {
    "accelerator": "GPU",
    "colab": {
      "name": "LSTM_notebook.ipynb",
      "provenance": [],
      "collapsed_sections": [
        "lW9LU-ZvCfuW",
        "LHdkj6IIKndU",
        "0eg8ycNgevAH",
        "p3ywg_BffQ1m",
        "S5bbwv36fYMv",
        "uuVcpGWhna-0",
        "wTUahdMRnmJO"
      ],
      "toc_visible": true
    },
    "kernelspec": {
      "name": "python3",
      "display_name": "Python 3"
    },
    "language_info": {
      "codemirror_mode": {
        "name": "ipython",
        "version": 3
      },
      "file_extension": ".py",
      "mimetype": "text/x-python",
      "name": "python",
      "nbconvert_exporter": "python",
      "pygments_lexer": "ipython3",
      "version": "3.7.4"
    }
  },
  "cells": [
    {
      "cell_type": "markdown",
      "metadata": {
        "id": "vRUpy6-gtEDw",
        "colab_type": "text"
      },
      "source": [
        "# Prerequisites"
      ]
    },
    {
      "cell_type": "code",
      "metadata": {
        "colab_type": "code",
        "id": "1LnpE2h4pH1k",
        "colab": {
          "base_uri": "https://localhost:8080/",
          "height": 63
        },
        "outputId": "555a1df4-266b-4b92-d415-9cbea3a9b73a"
      },
      "source": [
        "# prerequisites for working with Tensorflow 2.0 rc\n",
        "from __future__ import absolute_import, division, print_function, unicode_literals\n",
        "\n",
        "import tensorflow as tf\n",
        "\n",
        "from tensorflow.keras.layers import Dense, CuDNNLSTM\n",
        "from tensorflow.keras import Model\n",
        "from tensorflow.keras.optimizers import Adam\n",
        "\n",
        "from tensorflow.keras.utils import to_categorical\n",
        "from tensorflow.keras.callbacks import EarlyStopping\n",
        "\n",
        "import numpy as np\n",
        "import pandas as pd\n",
        "from scipy.signal import decimate\n",
        "import time"
      ],
      "execution_count": null,
      "outputs": [
        {
          "output_type": "display_data",
          "data": {
            "text/html": [
              "<p style=\"color: red;\">\n",
              "The default version of TensorFlow in Colab will soon switch to TensorFlow 2.x.<br>\n",
              "We recommend you <a href=\"https://www.tensorflow.org/guide/migrate\" target=\"_blank\">upgrade</a> now \n",
              "or ensure your notebook will continue to use TensorFlow 1.x via the <code>%tensorflow_version 1.x</code> magic:\n",
              "<a href=\"https://colab.research.google.com/notebooks/tensorflow_version.ipynb\" target=\"_blank\">more info</a>.</p>\n"
            ],
            "text/plain": [
              "<IPython.core.display.HTML object>"
            ]
          },
          "metadata": {
            "tags": []
          }
        }
      ]
    },
    {
      "cell_type": "code",
      "metadata": {
        "colab_type": "code",
        "id": "nkkzc7HApaXn",
        "colab": {
          "base_uri": "https://localhost:8080/",
          "height": 306
        },
        "outputId": "dd455c2b-9d93-494b-805b-c659006f6dc2"
      },
      "source": [
        "# to check the allotted GPU specs\n",
        "!nvidia-smi"
      ],
      "execution_count": null,
      "outputs": [
        {
          "output_type": "stream",
          "text": [
            "Thu Nov 28 08:03:12 2019       \n",
            "+-----------------------------------------------------------------------------+\n",
            "| NVIDIA-SMI 440.33.01    Driver Version: 418.67       CUDA Version: 10.1     |\n",
            "|-------------------------------+----------------------+----------------------+\n",
            "| GPU  Name        Persistence-M| Bus-Id        Disp.A | Volatile Uncorr. ECC |\n",
            "| Fan  Temp  Perf  Pwr:Usage/Cap|         Memory-Usage | GPU-Util  Compute M. |\n",
            "|===============================+======================+======================|\n",
            "|   0  Tesla P100-PCIE...  Off  | 00000000:00:04.0 Off |                    0 |\n",
            "| N/A   36C    P0    26W / 250W |      0MiB / 16280MiB |      0%      Default |\n",
            "+-------------------------------+----------------------+----------------------+\n",
            "                                                                               \n",
            "+-----------------------------------------------------------------------------+\n",
            "| Processes:                                                       GPU Memory |\n",
            "|  GPU       PID   Type   Process name                             Usage      |\n",
            "|=============================================================================|\n",
            "|  No running processes found                                                 |\n",
            "+-----------------------------------------------------------------------------+\n"
          ],
          "name": "stdout"
        }
      ]
    },
    {
      "cell_type": "code",
      "metadata": {
        "colab_type": "code",
        "id": "SDIEO0xvpZTw",
        "colab": {
          "base_uri": "https://localhost:8080/",
          "height": 136
        },
        "outputId": "73275f73-d027-4923-af8c-ddc49cacde87"
      },
      "source": [
        "# To get data from gitlab\n",
        "#!git clone https://<username>:<password>@gitlab.com/<project>\n",
        "#!git clone https://<>:<>@gitlab.com/bhavanak93/master_thesis_dataset.git"
      ],
      "execution_count": null,
      "outputs": [
        {
          "output_type": "stream",
          "text": [
            "Cloning into 'master_thesis_dataset'...\n",
            "remote: Enumerating objects: 172, done.\u001b[K\n",
            "remote: Counting objects: 100% (172/172), done.\u001b[K\n",
            "remote: Compressing objects: 100% (30/30), done.\u001b[K\n",
            "remote: Total 172 (delta 142), reused 172 (delta 142)\u001b[K\n",
            "Receiving objects: 100% (172/172), 13.80 MiB | 11.97 MiB/s, done.\n",
            "Resolving deltas: 100% (142/142), done.\n"
          ],
          "name": "stdout"
        }
      ]
    },
    {
      "cell_type": "markdown",
      "metadata": {
        "id": "-fJIFietOtO3",
        "colab_type": "text"
      },
      "source": [
        "# Data preparation"
      ]
    },
    {
      "cell_type": "code",
      "metadata": {
        "id": "-R1vbHyBOvvu",
        "colab_type": "code",
        "colab": {}
      },
      "source": [
        "# Data Preparation -> Room temperature data only\n",
        "path_rt = \"master_thesis_dataset/allValves/\"\n",
        "\n",
        "# use 100 readings of Room Temperature data\n",
        "rt_cols = [i for i in range(1,102)]\n",
        "\n",
        "df_2103_rt = pd.read_csv(path_rt + '1021-03_500readings_100sPause.csv', index_col=0, usecols=rt_cols) \n",
        "df_2105_rt = pd.read_csv(path_rt + '1021-05_500readings_100sPause.csv', index_col=0, usecols=rt_cols)\n",
        "df_2115_rt = pd.read_csv(path_rt + '1021-15_500readings_100sPause.csv', index_col=0, usecols=rt_cols)\n",
        "df_2117_rt = pd.read_csv(path_rt + '1021-17_500readings_100sPause.csv', index_col=0, usecols=rt_cols)\n",
        "df_2007_rt = pd.read_csv(path_rt + '1020-07_500readings_100sPause.csv', index_col=0, usecols=rt_cols)\n",
        "df_2010_rt = pd.read_csv(path_rt + '1020-10_500readings_100sPause.csv', index_col=0, usecols=rt_cols)\n",
        "df_2016_rt = pd.read_csv(path_rt + '1020-16_500readings_100sPause.csv', index_col=0, usecols=rt_cols)\n",
        "df_2017_rt = pd.read_csv(path_rt + '1020-17_500readings_100sPause.csv', index_col=0, usecols=rt_cols)\n",
        "df_2021_rt = pd.read_csv(path_rt + '1020-21_500readings_100sPause.csv', index_col=0, usecols=rt_cols)\n",
        "df_2008_rt = pd.read_csv(path_rt + '1020-08_500readings_100sPause.csv', index_col=0, usecols=rt_cols)\n",
        "df_2009_rt = pd.read_csv(path_rt + '1020-09_500readings_100sPause.csv', index_col=0, usecols=rt_cols)"
      ],
      "execution_count": null,
      "outputs": []
    },
    {
      "cell_type": "code",
      "metadata": {
        "id": "n2Fq2VcaOxXC",
        "colab_type": "code",
        "colab": {}
      },
      "source": [
        "# Data Preparation -> Temperature data of 5 temperature values : 5def, 15 deg, 25deg, 35deg, 45deg\n",
        "\n",
        "path_temp = \"master_thesis_dataset/tempData/\"\n",
        "\n",
        "# use 50 readings of each temperature \n",
        "temp_cols = [i for i in range(1,102)]\n",
        "\n",
        "# for 5degrees :\n",
        "df_2103_05deg = pd.read_csv(path_temp + '1021-03_05deg_100readings_withPause.csv', index_col=0, usecols=temp_cols) \n",
        "df_2105_05deg = pd.read_csv(path_temp + '1021-05_05deg_100readings_withPause.csv', index_col=0, usecols=temp_cols)\n",
        "df_2115_05deg = pd.read_csv(path_temp + '1021-15_05deg_100readings_withPause.csv', index_col=0, usecols=temp_cols)\n",
        "df_2117_05deg = pd.read_csv(path_temp + '1021-17_05deg_100readings_withPause.csv', index_col=0, usecols=temp_cols)\n",
        "df_2007_05deg = pd.read_csv(path_temp + '1020-07_05deg_100readings_withPause.csv', index_col=0, usecols=temp_cols)\n",
        "df_2010_05deg = pd.read_csv(path_temp + '1020-10_05deg_100readings_withPause.csv', index_col=0, usecols=temp_cols)\n",
        "df_2016_05deg = pd.read_csv(path_temp + '1020-16_05deg_100readings_withPause.csv', index_col=0, usecols=temp_cols)\n",
        "df_2017_05deg = pd.read_csv(path_temp + '1020-17_05deg_100readings_withPause.csv', index_col=0, usecols=temp_cols)\n",
        "df_2021_05deg = pd.read_csv(path_temp + '1020-21_05deg_100readings_withPause.csv', index_col=0, usecols=temp_cols)\n",
        "df_2008_05deg = pd.read_csv(path_temp + '1020-08_05deg_100readings_withPause.csv', index_col=0, usecols=temp_cols)\n",
        "df_2009_05deg = pd.read_csv(path_temp + '1020-09_05deg_100readings_withPause.csv', index_col=0, usecols=temp_cols)\n",
        "\n",
        "# for 15degrees :\n",
        "df_2103_15deg = pd.read_csv(path_temp + '1021-03_15deg_100readings_withPause.csv', index_col=0, usecols=temp_cols) \n",
        "df_2105_15deg = pd.read_csv(path_temp + '1021-05_15deg_100readings_withPause.csv', index_col=0, usecols=temp_cols)\n",
        "df_2115_15deg = pd.read_csv(path_temp + '1021-15_15deg_100readings_withPause.csv', index_col=0, usecols=temp_cols)\n",
        "df_2117_15deg = pd.read_csv(path_temp + '1021-17_15deg_100readings_withPause.csv', index_col=0, usecols=temp_cols)\n",
        "df_2007_15deg = pd.read_csv(path_temp + '1020-07_15deg_100readings_withPause.csv', index_col=0, usecols=temp_cols)\n",
        "df_2010_15deg = pd.read_csv(path_temp + '1020-10_15deg_100readings_withPause.csv', index_col=0, usecols=temp_cols)\n",
        "df_2016_15deg = pd.read_csv(path_temp + '1020-16_15deg_100readings_withPause.csv', index_col=0, usecols=temp_cols)\n",
        "df_2017_15deg = pd.read_csv(path_temp + '1020-17_15deg_100readings_withPause.csv', index_col=0, usecols=temp_cols)\n",
        "df_2021_15deg = pd.read_csv(path_temp + '1020-21_15deg_100readings_withPause.csv', index_col=0, usecols=temp_cols)\n",
        "df_2008_15deg = pd.read_csv(path_temp + '1020-08_15deg_100readings_withPause.csv', index_col=0, usecols=temp_cols)\n",
        "df_2009_15deg = pd.read_csv(path_temp + '1020-09_15deg_100readings_withPause.csv', index_col=0, usecols=temp_cols)\n",
        "\n",
        "# for 25degrees :\n",
        "df_2103_25deg = pd.read_csv(path_temp + '1021-03_25deg_100readings_withPause.csv', index_col=0, usecols=temp_cols) \n",
        "df_2105_25deg = pd.read_csv(path_temp + '1021-05_25deg_100readings_withPause.csv', index_col=0, usecols=temp_cols)\n",
        "df_2115_25deg = pd.read_csv(path_temp + '1021-15_25deg_100readings_withPause.csv', index_col=0, usecols=temp_cols)\n",
        "df_2117_25deg = pd.read_csv(path_temp + '1021-17_25deg_100readings_withPause.csv', index_col=0, usecols=temp_cols)\n",
        "df_2007_25deg = pd.read_csv(path_temp + '1020-07_25deg_100readings_withPause.csv', index_col=0, usecols=temp_cols)\n",
        "df_2010_25deg = pd.read_csv(path_temp + '1020-10_25deg_100readings_withPause.csv', index_col=0, usecols=temp_cols)\n",
        "df_2016_25deg = pd.read_csv(path_temp + '1020-16_25deg_100readings_withPause.csv', index_col=0, usecols=temp_cols)\n",
        "df_2017_25deg = pd.read_csv(path_temp + '1020-17_25deg_100readings_withPause.csv', index_col=0, usecols=temp_cols)\n",
        "df_2021_25deg = pd.read_csv(path_temp + '1020-21_25deg_100readings_withPause.csv', index_col=0, usecols=temp_cols)\n",
        "df_2008_25deg = pd.read_csv(path_temp + '1020-08_25deg_100readings_withPause.csv', index_col=0, usecols=temp_cols)\n",
        "df_2009_25deg = pd.read_csv(path_temp + '1020-09_25deg_100readings_withPause.csv', index_col=0, usecols=temp_cols)\n",
        "\n",
        "# for 35degrees :\n",
        "df_2103_35deg = pd.read_csv(path_temp + '1021-03_35deg_100readings_withPause.csv', index_col=0, usecols=temp_cols) \n",
        "df_2105_35deg = pd.read_csv(path_temp + '1021-05_35deg_100readings_withPause.csv', index_col=0, usecols=temp_cols)\n",
        "df_2115_35deg = pd.read_csv(path_temp + '1021-15_35deg_100readings_withPause.csv', index_col=0, usecols=temp_cols)\n",
        "df_2117_35deg = pd.read_csv(path_temp + '1021-17_35deg_100readings_withPause.csv', index_col=0, usecols=temp_cols)\n",
        "df_2007_35deg = pd.read_csv(path_temp + '1020-07_35deg_100readings_withPause.csv', index_col=0, usecols=temp_cols)\n",
        "df_2010_35deg = pd.read_csv(path_temp + '1020-10_35deg_100readings_withPause.csv', index_col=0, usecols=temp_cols)\n",
        "df_2016_35deg = pd.read_csv(path_temp + '1020-16_35deg_100readings_withPause.csv', index_col=0, usecols=temp_cols)\n",
        "df_2017_35deg = pd.read_csv(path_temp + '1020-17_35deg_100readings_withPause.csv', index_col=0, usecols=temp_cols)\n",
        "df_2021_35deg = pd.read_csv(path_temp + '1020-21_35deg_100readings_withPause.csv', index_col=0, usecols=temp_cols)\n",
        "df_2008_35deg = pd.read_csv(path_temp + '1020-08_35deg_100readings_withPause.csv', index_col=0, usecols=temp_cols)\n",
        "df_2009_35deg = pd.read_csv(path_temp + '1020-09_35deg_100readings_withPause.csv', index_col=0, usecols=temp_cols)\n",
        "\n",
        "# for 45degrees :\n",
        "df_2103_45deg = pd.read_csv(path_temp + '1021-03_45deg_100readings_withPause.csv', index_col=0, usecols=temp_cols) \n",
        "df_2105_45deg = pd.read_csv(path_temp + '1021-05_45deg_100readings_withPause.csv', index_col=0, usecols=temp_cols)\n",
        "df_2115_45deg = pd.read_csv(path_temp + '1021-15_45deg_100readings_withPause.csv', index_col=0, usecols=temp_cols)\n",
        "df_2117_45deg = pd.read_csv(path_temp + '1021-17_45deg_100readings_withPause.csv', index_col=0, usecols=temp_cols)\n",
        "df_2007_45deg = pd.read_csv(path_temp + '1020-07_45deg_100readings_withPause.csv', index_col=0, usecols=temp_cols)\n",
        "df_2010_45deg = pd.read_csv(path_temp + '1020-10_45deg_100readings_withPause.csv', index_col=0, usecols=temp_cols)\n",
        "df_2016_45deg = pd.read_csv(path_temp + '1020-16_45deg_100readings_withPause.csv', index_col=0, usecols=temp_cols)\n",
        "df_2017_45deg = pd.read_csv(path_temp + '1020-17_45deg_100readings_withPause.csv', index_col=0, usecols=temp_cols)\n",
        "df_2021_45deg = pd.read_csv(path_temp + '1020-21_45deg_100readings_withPause.csv', index_col=0, usecols=temp_cols)\n",
        "df_2008_45deg = pd.read_csv(path_temp + '1020-08_45deg_100readings_withPause.csv', index_col=0, usecols=temp_cols)\n",
        "df_2009_45deg = pd.read_csv(path_temp + '1020-09_45deg_100readings_withPause.csv', index_col=0, usecols=temp_cols)"
      ],
      "execution_count": null,
      "outputs": []
    },
    {
      "cell_type": "code",
      "metadata": {
        "id": "cZjVDOuhO2Ni",
        "colab_type": "code",
        "colab": {}
      },
      "source": [
        "# Data Preparation -> Pressure data of 3 Pressure values : \n",
        "# 1bar, 2bar, 3bar, 4bar for upto 4bar valbves and \n",
        "# 1bar, 2bar, 4bar, 6bar for upto 8bar valves \n",
        "\n",
        "path_pressure = \"master_thesis_dataset/pressureData/\"\n",
        "\n",
        "# use 50 readings of each pressure value \n",
        "temp_cols = [i for i in range(1,102)]\n",
        "\n",
        "# for 1bar :\n",
        "df_2103_1bar = pd.read_csv(path_pressure + '1021-03_1bar_100readings.csv', index_col=0, usecols=temp_cols) \n",
        "df_2105_1bar = pd.read_csv(path_pressure + '1021-05_1bar_100readings.csv', index_col=0, usecols=temp_cols)\n",
        "df_2115_1bar = pd.read_csv(path_pressure + '1021-15_1bar_100readings.csv', index_col=0, usecols=temp_cols)\n",
        "df_2117_1bar = pd.read_csv(path_pressure + '1021-17_1bar_100readings.csv', index_col=0, usecols=temp_cols)\n",
        "df_2007_1bar = pd.read_csv(path_pressure + '1020-07_1bar_100readings.csv', index_col=0, usecols=temp_cols)\n",
        "df_2010_1bar = pd.read_csv(path_pressure + '1020-10_1bar_100readings.csv', index_col=0, usecols=temp_cols)\n",
        "df_2016_1bar = pd.read_csv(path_pressure + '1020-16_1bar_100readings.csv', index_col=0, usecols=temp_cols)\n",
        "df_2017_1bar = pd.read_csv(path_pressure + '1020-17_1bar_100readings.csv', index_col=0, usecols=temp_cols)\n",
        "df_2021_1bar = pd.read_csv(path_pressure + '1020-21_1bar_100readings.csv', index_col=0, usecols=temp_cols)\n",
        "df_2008_1bar = pd.read_csv(path_pressure + '1020-08_1bar_100readings.csv', index_col=0, usecols=temp_cols)\n",
        "df_2009_1bar = pd.read_csv(path_pressure + '1020-09_1bar_100readings.csv', index_col=0, usecols=temp_cols)\n",
        "\n",
        "# for 2 bar :\n",
        "df_2103_2bar = pd.read_csv(path_pressure + '1021-03_2bar_100readings.csv', index_col=0, usecols=temp_cols) \n",
        "df_2105_2bar = pd.read_csv(path_pressure + '1021-05_2bar_100readings.csv', index_col=0, usecols=temp_cols)\n",
        "df_2115_2bar = pd.read_csv(path_pressure + '1021-15_2bar_100readings.csv', index_col=0, usecols=temp_cols)\n",
        "df_2117_2bar = pd.read_csv(path_pressure + '1021-17_2bar_100readings.csv', index_col=0, usecols=temp_cols)\n",
        "df_2007_2bar = pd.read_csv(path_pressure + '1020-07_2bar_100readings.csv', index_col=0, usecols=temp_cols)\n",
        "df_2010_2bar = pd.read_csv(path_pressure + '1020-10_2bar_100readings.csv', index_col=0, usecols=temp_cols)\n",
        "df_2016_2bar = pd.read_csv(path_pressure + '1020-16_2bar_100readings.csv', index_col=0, usecols=temp_cols)\n",
        "df_2017_2bar = pd.read_csv(path_pressure + '1020-17_2bar_100readings.csv', index_col=0, usecols=temp_cols)\n",
        "df_2021_2bar = pd.read_csv(path_pressure + '1020-21_2bar_100readings.csv', index_col=0, usecols=temp_cols)\n",
        "df_2008_2bar = pd.read_csv(path_pressure + '1020-08_2bar_100readings.csv', index_col=0, usecols=temp_cols)\n",
        "df_2009_2bar = pd.read_csv(path_pressure + '1020-09_2bar_100readings.csv', index_col=0, usecols=temp_cols)\n",
        "\n",
        "# for 3 bar :\n",
        "df_2007_3bar = pd.read_csv(path_pressure + '1020-07_3bar_100readings.csv', index_col=0, usecols=temp_cols)\n",
        "df_2010_3bar = pd.read_csv(path_pressure + '1020-10_3bar_100readings.csv', index_col=0, usecols=temp_cols)\n",
        "df_2016_3bar = pd.read_csv(path_pressure + '1020-16_3bar_100readings.csv', index_col=0, usecols=temp_cols)\n",
        "df_2017_3bar = pd.read_csv(path_pressure + '1020-17_3bar_100readings.csv', index_col=0, usecols=temp_cols)\n",
        "df_2021_3bar = pd.read_csv(path_pressure + '1020-21_3bar_100readings.csv', index_col=0, usecols=temp_cols)\n",
        "df_2008_3bar = pd.read_csv(path_pressure + '1020-08_3bar_100readings.csv', index_col=0, usecols=temp_cols)\n",
        "df_2009_3bar = pd.read_csv(path_pressure + '1020-09_3bar_100readings.csv', index_col=0, usecols=temp_cols)\n",
        "\n",
        "# for 4 bar :\n",
        "df_2103_4bar = pd.read_csv(path_pressure + '1021-03_4bar_100readings.csv', index_col=0, usecols=temp_cols) \n",
        "df_2105_4bar = pd.read_csv(path_pressure + '1021-05_4bar_100readings.csv', index_col=0, usecols=temp_cols)\n",
        "df_2115_4bar = pd.read_csv(path_pressure + '1021-15_4bar_100readings.csv', index_col=0, usecols=temp_cols)\n",
        "df_2117_4bar = pd.read_csv(path_pressure + '1021-17_4bar_100readings.csv', index_col=0, usecols=temp_cols)\n",
        "df_2007_4bar = pd.read_csv(path_pressure + '1020-07_4bar_100readings.csv', index_col=0, usecols=temp_cols)\n",
        "df_2010_4bar = pd.read_csv(path_pressure + '1020-10_4bar_100readings.csv', index_col=0, usecols=temp_cols)\n",
        "df_2016_4bar = pd.read_csv(path_pressure + '1020-16_4bar_100readings.csv', index_col=0, usecols=temp_cols)\n",
        "df_2017_4bar = pd.read_csv(path_pressure + '1020-17_4bar_100readings.csv', index_col=0, usecols=temp_cols)\n",
        "df_2021_4bar = pd.read_csv(path_pressure + '1020-21_4bar_100readings.csv', index_col=0, usecols=temp_cols)\n",
        "df_2008_4bar = pd.read_csv(path_pressure + '1020-08_4bar_100readings.csv', index_col=0, usecols=temp_cols)\n",
        "df_2009_4bar = pd.read_csv(path_pressure + '1020-09_4bar_100readings.csv', index_col=0, usecols=temp_cols)\n",
        "\n",
        "# for 6 bar :\n",
        "df_2103_6bar = pd.read_csv(path_pressure + '1021-03_6bar_100readings.csv', index_col=0, usecols=temp_cols) \n",
        "df_2105_6bar = pd.read_csv(path_pressure + '1021-05_6bar_100readings.csv', index_col=0, usecols=temp_cols)\n",
        "df_2115_6bar = pd.read_csv(path_pressure + '1021-15_6bar_100readings.csv', index_col=0, usecols=temp_cols)\n",
        "df_2117_6bar = pd.read_csv(path_pressure + '1021-17_6bar_100readings.csv', index_col=0, usecols=temp_cols)"
      ],
      "execution_count": null,
      "outputs": []
    },
    {
      "cell_type": "markdown",
      "metadata": {
        "id": "lW9LU-ZvCfuW",
        "colab_type": "text"
      },
      "source": [
        "# Without window of inflection concept"
      ]
    },
    {
      "cell_type": "code",
      "metadata": {
        "id": "IcYgDcgICh30",
        "colab_type": "code",
        "colab": {}
      },
      "source": [
        "# consolidate all current readings into 1 main dictionary\n",
        "\n",
        "dataDict = {'2103': {'rt': df_2103_rt.values/15, \n",
        "                     '1bar': df_2103_1bar.values/15, \n",
        "                     '2bar': df_2103_2bar.values/15, \n",
        "                     '4bar': df_2103_4bar.values/15, \n",
        "                     '6bar': df_2103_6bar.values/15, \n",
        "                     '05deg': (df_2103_05deg.values/15)[:, :80], \n",
        "                     '15deg': (df_2103_15deg.values/15)[:, :80], \n",
        "                     '25deg': (df_2103_25deg.values/15)[:, :80], \n",
        "                     '35deg': (df_2103_35deg.values/15)[:, :80], \n",
        "                     '45deg': (df_2103_45deg.values/15)[:, :80]}, \n",
        "           '2105': {'rt': df_2105_rt.values/15, \n",
        "                     '1bar': df_2105_1bar.values/15, \n",
        "                     '2bar': df_2105_2bar.values/15, \n",
        "                     '4bar': df_2105_4bar.values/15, \n",
        "                     '6bar': df_2105_6bar.values/15, \n",
        "                     '05deg': (df_2105_05deg.values/15)[:, :80], \n",
        "                     '15deg': (df_2105_15deg.values/15)[:, :80], \n",
        "                     '25deg': (df_2105_25deg.values/15)[:, :80], \n",
        "                     '35deg': (df_2105_35deg.values/15)[:, :80], \n",
        "                     '45deg': (df_2105_45deg.values/15)[:, :80]},\n",
        "            '2115': {'rt': df_2115_rt.values/15, \n",
        "                     '1bar': df_2115_1bar.values/15, \n",
        "                     '2bar': df_2115_2bar.values/15, \n",
        "                     '4bar': df_2115_4bar.values/15, \n",
        "                     '6bar': df_2115_6bar.values/15, \n",
        "                     '05deg': (df_2115_05deg.values/15)[:, :80], \n",
        "                     '15deg': (df_2115_15deg.values/15)[:, :80], \n",
        "                     '25deg': (df_2115_25deg.values/15)[:, :80], \n",
        "                     '35deg': (df_2115_35deg.values/15)[:, :80], \n",
        "                     '45deg': (df_2115_45deg.values/15)[:, :80]}, \n",
        "            '2117': {'rt': df_2117_rt.values/15, \n",
        "                     '1bar': df_2117_1bar.values/15, \n",
        "                     '2bar': df_2117_2bar.values/15, \n",
        "                     '4bar': df_2117_4bar.values/15, \n",
        "                     '6bar': df_2117_6bar.values/15, \n",
        "                     '05deg': (df_2117_05deg.values/15)[:, :80], \n",
        "                     '15deg': (df_2117_15deg.values/15)[:, :80], \n",
        "                     '25deg': (df_2117_25deg.values/15)[:, :80], \n",
        "                     '35deg': (df_2117_35deg.values/15)[:, :80], \n",
        "                     '45deg': (df_2117_45deg.values/15)[:, :80]},\n",
        "            '2007': {'rt': df_2007_rt.values/15, \n",
        "                     '1bar': df_2007_1bar.values/15, \n",
        "                     '2bar': df_2007_2bar.values/15, \n",
        "                     '3bar': df_2007_3bar.values/15, \n",
        "                     '4bar': df_2007_4bar.values/15, \n",
        "                     '05deg': (df_2007_05deg.values/15)[:, :80], \n",
        "                     '15deg': (df_2007_15deg.values/15)[:, :80], \n",
        "                     '25deg': (df_2007_25deg.values/15)[:, :80], \n",
        "                     '35deg': (df_2007_35deg.values/15)[:, :80], \n",
        "                     '45deg': (df_2007_45deg.values/15)[:, :80]},\n",
        "            '2010': {'rt': df_2010_rt.values/15, \n",
        "                     '1bar': df_2010_1bar.values/15, \n",
        "                     '2bar': df_2010_2bar.values/15, \n",
        "                     '3bar': df_2010_3bar.values/15, \n",
        "                     '4bar': df_2010_4bar.values/15, \n",
        "                     '05deg': (df_2010_05deg.values/15)[:, :80], \n",
        "                     '15deg': (df_2010_15deg.values/15)[:, :80], \n",
        "                     '25deg': (df_2010_25deg.values/15)[:, :80], \n",
        "                     '35deg': (df_2010_35deg.values/15)[:, :80], \n",
        "                     '45deg': (df_2010_45deg.values/15)[:, :80]},\n",
        "            '2016': {'rt': df_2016_rt.values/15, \n",
        "                     '1bar': df_2016_1bar.values/15, \n",
        "                     '2bar': df_2016_2bar.values/15, \n",
        "                     '3bar': df_2016_3bar.values/15, \n",
        "                     '4bar': df_2016_4bar.values/15, \n",
        "                     '05deg': (df_2016_05deg.values/15)[:, :80], \n",
        "                     '15deg': (df_2016_15deg.values/15)[:, :80], \n",
        "                     '25deg': (df_2016_25deg.values/15)[:, :80], \n",
        "                     '35deg': (df_2016_35deg.values/15)[:, :80], \n",
        "                     '45deg': (df_2016_45deg.values/15)[:, :80]},\n",
        "            '2017': {'rt': df_2017_rt.values/15, \n",
        "                     '1bar': df_2017_1bar.values/15, \n",
        "                     '2bar': df_2017_2bar.values/15, \n",
        "                     '3bar': df_2017_3bar.values/15, \n",
        "                     '4bar': df_2017_4bar.values/15, \n",
        "                     '05deg': (df_2017_05deg.values/15)[:, :80], \n",
        "                     '15deg': (df_2017_15deg.values/15)[:, :80], \n",
        "                     '25deg': (df_2017_25deg.values/15)[:, :80], \n",
        "                     '35deg': (df_2017_35deg.values/15)[:, :80], \n",
        "                     '45deg': (df_2017_45deg.values/15)[:, :80]},\n",
        "            '2021': {'rt': df_2021_rt.values/15, \n",
        "                     '1bar': df_2021_1bar.values/15, \n",
        "                     '2bar': df_2021_2bar.values/15, \n",
        "                     '3bar': df_2021_3bar.values/15, \n",
        "                     '4bar': df_2021_4bar.values/15, \n",
        "                     '05deg': (df_2021_05deg.values/15)[:, :80], \n",
        "                     '15deg': (df_2021_15deg.values/15)[:, :80], \n",
        "                     '25deg': (df_2021_25deg.values/15)[:, :80], \n",
        "                     '35deg': (df_2021_35deg.values/15)[:, :80], \n",
        "                     '45deg': (df_2021_45deg.values/15)[:, :80]},\n",
        "            '2008': {'rt': df_2008_rt.values/4, \n",
        "                     '1bar': df_2008_1bar.values/4, \n",
        "                     '2bar': df_2008_2bar.values/4, \n",
        "                     '3bar': df_2008_3bar.values/4, \n",
        "                     '4bar': df_2008_4bar.values/4, \n",
        "                     '05deg': (df_2008_05deg.values/4)[:, :80], \n",
        "                     '15deg': (df_2008_15deg.values/4)[:, :80], \n",
        "                     '25deg': (df_2008_25deg.values/4)[:, :80], \n",
        "                     '35deg': (df_2008_35deg.values/4)[:, :80], \n",
        "                     '45deg': (df_2008_45deg.values/4)[:, :80]},\n",
        "            '2009': {'rt': df_2009_rt.values/4, \n",
        "                     '1bar': df_2009_1bar.values/4, \n",
        "                     '2bar': df_2009_2bar.values/4, \n",
        "                     '3bar': df_2009_3bar.values/4, \n",
        "                     '4bar': df_2009_4bar.values/4, \n",
        "                     '05deg': (df_2009_05deg.values/4)[:, :80], \n",
        "                     '15deg': (df_2009_15deg.values/4)[:, :80], \n",
        "                     '25deg': (df_2009_25deg.values/4)[:, :80], \n",
        "                     '35deg': (df_2009_35deg.values/4)[:, :80], \n",
        "                     '45deg': (df_2009_45deg.values/4)[:, :80]}\n",
        "           }"
      ],
      "execution_count": null,
      "outputs": []
    },
    {
      "cell_type": "markdown",
      "metadata": {
        "id": "Ox0kvv_hEfia",
        "colab_type": "text"
      },
      "source": [
        "# With window of inflection concept"
      ]
    },
    {
      "cell_type": "code",
      "metadata": {
        "id": "y6UDD-tREjG9",
        "colab_type": "code",
        "colab": {}
      },
      "source": [
        "# consolidate all current readings into 1 main dictionary\n",
        "\n",
        "dataDict = {'2103': {'rt': df_2103_rt.values[790:1790]/15, \n",
        "                     '1bar': df_2103_1bar.values[790:1790]/15, \n",
        "                     '2bar': df_2103_2bar.values[790:1790]/15, \n",
        "                     '4bar': df_2103_4bar.values[790:1790]/15, \n",
        "                     '6bar': df_2103_6bar.values[790:1790]/15, \n",
        "                     '05deg': (df_2103_05deg.values[790:1790]/15)[:, :80], \n",
        "                     '15deg': (df_2103_15deg.values[790:1790]/15)[:, :80], \n",
        "                     '25deg': (df_2103_25deg.values[790:1790]/15)[:, :80], \n",
        "                     '35deg': (df_2103_35deg.values[790:1790]/15)[:, :80], \n",
        "                     '45deg': (df_2103_45deg.values[790:1790]/15)[:, :80]}, \n",
        "           '2105': {'rt': df_2105_rt.values[790:1790]/15, \n",
        "                     '1bar': df_2105_1bar.values[790:1790]/15, \n",
        "                     '2bar': df_2105_2bar.values[790:1790]/15, \n",
        "                     '4bar': df_2105_4bar.values[790:1790]/15, \n",
        "                     '6bar': df_2105_6bar.values[790:1790]/15, \n",
        "                     '05deg': (df_2105_05deg.values[790:1790]/15)[:, :80], \n",
        "                     '15deg': (df_2105_15deg.values[790:1790]/15)[:, :80], \n",
        "                     '25deg': (df_2105_25deg.values[790:1790]/15)[:, :80], \n",
        "                     '35deg': (df_2105_35deg.values[790:1790]/15)[:, :80], \n",
        "                     '45deg': (df_2105_45deg.values[790:1790]/15)[:, :80]},\n",
        "            '2115': {'rt': df_2115_rt.values[790:1790]/15, \n",
        "                     '1bar': df_2115_1bar.values[790:1790]/15, \n",
        "                     '2bar': df_2115_2bar.values[790:1790]/15, \n",
        "                     '4bar': df_2115_4bar.values[790:1790]/15, \n",
        "                     '6bar': df_2115_6bar.values[790:1790]/15, \n",
        "                     '05deg': (df_2115_05deg.values[790:1790]/15)[:, :80], \n",
        "                     '15deg': (df_2115_15deg.values[790:1790]/15)[:, :80], \n",
        "                     '25deg': (df_2115_25deg.values[790:1790]/15)[:, :80], \n",
        "                     '35deg': (df_2115_35deg.values[790:1790]/15)[:, :80], \n",
        "                     '45deg': (df_2115_45deg.values[790:1790]/15)[:, :80]}, \n",
        "            '2117': {'rt': df_2117_rt.values[790:1790]/15, \n",
        "                     '1bar': df_2117_1bar.values[790:1790]/15, \n",
        "                     '2bar': df_2117_2bar.values[790:1790]/15, \n",
        "                     '4bar': df_2117_4bar.values[790:1790]/15, \n",
        "                     '6bar': df_2117_6bar.values[790:1790]/15, \n",
        "                     '05deg': (df_2117_05deg.values[790:1790]/15)[:, :80], \n",
        "                     '15deg': (df_2117_15deg.values[790:1790]/15)[:, :80], \n",
        "                     '25deg': (df_2117_25deg.values[790:1790]/15)[:, :80], \n",
        "                     '35deg': (df_2117_35deg.values[790:1790]/15)[:, :80], \n",
        "                     '45deg': (df_2117_45deg.values[790:1790]/15)[:, :80]},\n",
        "            '2007': {'rt': df_2007_rt.values[790:1790]/15, \n",
        "                     '1bar': df_2007_1bar.values[790:1790]/15, \n",
        "                     '2bar': df_2007_2bar.values[790:1790]/15, \n",
        "                     '3bar': df_2007_3bar.values[790:1790]/15, \n",
        "                     '4bar': df_2007_4bar.values[790:1790]/15, \n",
        "                     '05deg': (df_2007_05deg.values[790:1790]/15)[:, :80], \n",
        "                     '15deg': (df_2007_15deg.values[790:1790]/15)[:, :80], \n",
        "                     '25deg': (df_2007_25deg.values[790:1790]/15)[:, :80], \n",
        "                     '35deg': (df_2007_35deg.values[790:1790]/15)[:, :80], \n",
        "                     '45deg': (df_2007_45deg.values[790:1790]/15)[:, :80]},\n",
        "            '2010': {'rt': df_2010_rt.values[790:1790]/15, \n",
        "                     '1bar': df_2010_1bar.values[790:1790]/15, \n",
        "                     '2bar': df_2010_2bar.values[790:1790]/15, \n",
        "                     '3bar': df_2010_3bar.values[790:1790]/15, \n",
        "                     '4bar': df_2010_4bar.values[790:1790]/15, \n",
        "                     '05deg': (df_2010_05deg.values[790:1790]/15)[:, :80], \n",
        "                     '15deg': (df_2010_15deg.values[790:1790]/15)[:, :80], \n",
        "                     '25deg': (df_2010_25deg.values[790:1790]/15)[:, :80], \n",
        "                     '35deg': (df_2010_35deg.values[790:1790]/15)[:, :80], \n",
        "                     '45deg': (df_2010_45deg.values[790:1790]/15)[:, :80]},\n",
        "            '2016': {'rt': df_2016_rt.values[790:1790]/15, \n",
        "                     '1bar': df_2016_1bar.values[790:1790]/15, \n",
        "                     '2bar': df_2016_2bar.values[790:1790]/15, \n",
        "                     '3bar': df_2016_3bar.values[790:1790]/15, \n",
        "                     '4bar': df_2016_4bar.values[790:1790]/15, \n",
        "                     '05deg': (df_2016_05deg.values[790:1790]/15)[:, :80], \n",
        "                     '15deg': (df_2016_15deg.values[790:1790]/15)[:, :80], \n",
        "                     '25deg': (df_2016_25deg.values[790:1790]/15)[:, :80], \n",
        "                     '35deg': (df_2016_35deg.values[790:1790]/15)[:, :80], \n",
        "                     '45deg': (df_2016_45deg.values[790:1790]/15)[:, :80]},\n",
        "            '2017': {'rt': df_2017_rt.values[790:1790]/15, \n",
        "                     '1bar': df_2017_1bar.values[790:1790]/15, \n",
        "                     '2bar': df_2017_2bar.values[790:1790]/15, \n",
        "                     '3bar': df_2017_3bar.values[790:1790]/15, \n",
        "                     '4bar': df_2017_4bar.values[790:1790]/15, \n",
        "                     '05deg': (df_2017_05deg.values[790:1790]/15)[:, :80], \n",
        "                     '15deg': (df_2017_15deg.values[790:1790]/15)[:, :80], \n",
        "                     '25deg': (df_2017_25deg.values[790:1790]/15)[:, :80], \n",
        "                     '35deg': (df_2017_35deg.values[790:1790]/15)[:, :80], \n",
        "                     '45deg': (df_2017_45deg.values[790:1790]/15)[:, :80]},\n",
        "            '2021': {'rt': df_2021_rt.values[790:1790]/15, \n",
        "                     '1bar': df_2021_1bar.values[790:1790]/15, \n",
        "                     '2bar': df_2021_2bar.values[790:1790]/15, \n",
        "                     '3bar': df_2021_3bar.values[790:1790]/15, \n",
        "                     '4bar': df_2021_4bar.values[790:1790]/15, \n",
        "                     '05deg': (df_2021_05deg.values[790:1790]/15)[:, :80], \n",
        "                     '15deg': (df_2021_15deg.values[790:1790]/15)[:, :80], \n",
        "                     '25deg': (df_2021_25deg.values[790:1790]/15)[:, :80], \n",
        "                     '35deg': (df_2021_35deg.values[790:1790]/15)[:, :80], \n",
        "                     '45deg': (df_2021_45deg.values[790:1790]/15)[:, :80]},\n",
        "            '2008': {'rt': df_2008_rt.values[790:1790]/4, \n",
        "                     '1bar': df_2008_1bar.values[790:1790]/4, \n",
        "                     '2bar': df_2008_2bar.values[790:1790]/4, \n",
        "                     '3bar': df_2008_3bar.values[790:1790]/4, \n",
        "                     '4bar': df_2008_4bar.values[790:1790]/4, \n",
        "                     '05deg': (df_2008_05deg.values[790:1790]/4)[:, :80], \n",
        "                     '15deg': (df_2008_15deg.values[790:1790]/4)[:, :80], \n",
        "                     '25deg': (df_2008_25deg.values[790:1790]/4)[:, :80], \n",
        "                     '35deg': (df_2008_35deg.values[790:1790]/4)[:, :80], \n",
        "                     '45deg': (df_2008_45deg.values[790:1790]/4)[:, :80]},\n",
        "            '2009': {'rt': df_2009_rt.values[790:1790]/4, \n",
        "                     '1bar': df_2009_1bar.values[790:1790]/4, \n",
        "                     '2bar': df_2009_2bar.values[790:1790]/4, \n",
        "                     '3bar': df_2009_3bar.values[790:1790]/4, \n",
        "                     '4bar': df_2009_4bar.values[790:1790]/4, \n",
        "                     '05deg': (df_2009_05deg.values[790:1790]/4)[:, :80], \n",
        "                     '15deg': (df_2009_15deg.values[790:1790]/4)[:, :80], \n",
        "                     '25deg': (df_2009_25deg.values[790:1790]/4)[:, :80], \n",
        "                     '35deg': (df_2009_35deg.values[790:1790]/4)[:, :80], \n",
        "                     '45deg': (df_2009_45deg.values[790:1790]/4)[:, :80]}\n",
        "           }"
      ],
      "execution_count": null,
      "outputs": []
    },
    {
      "cell_type": "markdown",
      "metadata": {
        "colab_type": "text",
        "id": "ROg6gYoZpH12"
      },
      "source": [
        "# Consolidate data as a dictionary"
      ]
    },
    {
      "cell_type": "code",
      "metadata": {
        "colab_type": "code",
        "id": "Mr-jus1xpH14",
        "colab": {
          "base_uri": "https://localhost:8080/",
          "height": 443
        },
        "outputId": "05338cd7-e86c-4feb-ab43-e851c4564d80"
      },
      "source": [
        "# consolidate all current readings into 1 main dictionary\n",
        "\n",
        "dataDict = {'2103': {'rt': df_2103_rt/15, \n",
        "                     '1bar': df_2103_1bar/15, \n",
        "                     '2bar': df_2103_2bar/15, \n",
        "                     '4bar': df_2103_4bar/15, \n",
        "                     '6bar': df_2103_6bar/15, \n",
        "                     '05deg': (df_2103_05deg/15)[:, :80], \n",
        "                     '15deg': (df_2103_15deg/15)[:, :80], \n",
        "                     '25deg': (df_2103_25deg/15)[:, :80], \n",
        "                     '35deg': (df_2103_35deg/15)[:, :80], \n",
        "                     '45deg': (df_2103_45deg/15)[:, :80]}, \n",
        "           '2105': {'rt': df_2105_rt/15, \n",
        "                     '1bar': df_2105_1bar/15, \n",
        "                     '2bar': df_2105_2bar/15, \n",
        "                     '4bar': df_2105_4bar/15, \n",
        "                     '6bar': df_2105_6bar/15, \n",
        "                     '05deg': (df_2105_05deg/15)[:, :80], \n",
        "                     '15deg': (df_2105_15deg/15)[:, :80], \n",
        "                     '25deg': (df_2105_25deg/15)[:, :80], \n",
        "                     '35deg': (df_2105_35deg/15)[:, :80], \n",
        "                     '45deg': (df_2105_45deg/15)[:, :80]},\n",
        "            '2115': {'rt': df_2115_rt/15, \n",
        "                     '1bar': df_2115_1bar/15, \n",
        "                     '2bar': df_2115_2bar/15, \n",
        "                     '4bar': df_2115_4bar/15, \n",
        "                     '6bar': df_2115_6bar/15, \n",
        "                     '05deg': (df_2115_05deg/15)[:, :80], \n",
        "                     '15deg': (df_2115_15deg/15)[:, :80], \n",
        "                     '25deg': (df_2115_25deg/15)[:, :80], \n",
        "                     '35deg': (df_2115_35deg/15)[:, :80], \n",
        "                     '45deg': (df_2115_45deg/15)[:, :80]}, \n",
        "            '2117': {'rt': df_2117_rt/15, \n",
        "                     '1bar': df_2117_1bar/15, \n",
        "                     '2bar': df_2117_2bar/15, \n",
        "                     '4bar': df_2117_4bar/15, \n",
        "                     '6bar': df_2117_6bar/15, \n",
        "                     '05deg': (df_2117_05deg/15)[:, :80], \n",
        "                     '15deg': (df_2117_15deg/15)[:, :80], \n",
        "                     '25deg': (df_2117_25deg/15)[:, :80], \n",
        "                     '35deg': (df_2117_35deg/15)[:, :80], \n",
        "                     '45deg': (df_2117_45deg/15)[:, :80]},\n",
        "            '2007': {'rt': df_2007_rt/15, \n",
        "                     '1bar': df_2007_1bar/15, \n",
        "                     '2bar': df_2007_2bar/15, \n",
        "                     '3bar': df_2007_3bar/15, \n",
        "                     '4bar': df_2007_4bar/15, \n",
        "                     '05deg': (df_2007_05deg/15)[:, :80], \n",
        "                     '15deg': (df_2007_15deg/15)[:, :80], \n",
        "                     '25deg': (df_2007_25deg/15)[:, :80], \n",
        "                     '35deg': (df_2007_35deg/15)[:, :80], \n",
        "                     '45deg': (df_2007_45deg/15)[:, :80]},\n",
        "            '2010': {'rt': df_2010_rt/15, \n",
        "                     '1bar': df_2010_1bar/15, \n",
        "                     '2bar': df_2010_2bar/15, \n",
        "                     '3bar': df_2010_3bar/15, \n",
        "                     '4bar': df_2010_4bar/15, \n",
        "                     '05deg': (df_2010_05deg/15)[:, :80], \n",
        "                     '15deg': (df_2010_15deg/15)[:, :80], \n",
        "                     '25deg': (df_2010_25deg/15)[:, :80], \n",
        "                     '35deg': (df_2010_35deg/15)[:, :80], \n",
        "                     '45deg': (df_2010_45deg/15)[:, :80]},\n",
        "            '2016': {'rt': df_2016_rt/15, \n",
        "                     '1bar': df_2016_1bar/15, \n",
        "                     '2bar': df_2016_2bar/15, \n",
        "                     '3bar': df_2016_3bar/15, \n",
        "                     '4bar': df_2016_4bar/15, \n",
        "                     '05deg': (df_2016_05deg/15)[:, :80], \n",
        "                     '15deg': (df_2016_15deg/15)[:, :80], \n",
        "                     '25deg': (df_2016_25deg/15)[:, :80], \n",
        "                     '35deg': (df_2016_35deg/15)[:, :80], \n",
        "                     '45deg': (df_2016_45deg/15)[:, :80]},\n",
        "            '2017': {'rt': df_2017_rt/15, \n",
        "                     '1bar': df_2017_1bar/15, \n",
        "                     '2bar': df_2017_2bar/15, \n",
        "                     '3bar': df_2017_3bar/15, \n",
        "                     '4bar': df_2017_4bar/15, \n",
        "                     '05deg': (df_2017_05deg/15)[:, :80], \n",
        "                     '15deg': (df_2017_15deg/15)[:, :80], \n",
        "                     '25deg': (df_2017_25deg/15)[:, :80], \n",
        "                     '35deg': (df_2017_35deg/15)[:, :80], \n",
        "                     '45deg': (df_2017_45deg/15)[:, :80]},\n",
        "            '2021': {'rt': df_2021_rt/15, \n",
        "                     '1bar': df_2021_1bar/15, \n",
        "                     '2bar': df_2021_2bar/15, \n",
        "                     '3bar': df_2021_3bar/15, \n",
        "                     '4bar': df_2021_4bar/15, \n",
        "                     '05deg': (df_2021_05deg/15)[:, :80], \n",
        "                     '15deg': (df_2021_15deg/15)[:, :80], \n",
        "                     '25deg': (df_2021_25deg/15)[:, :80], \n",
        "                     '35deg': (df_2021_35deg/15)[:, :80], \n",
        "                     '45deg': (df_2021_45deg/15)[:, :80]},\n",
        "            '2008': {'rt': df_2008_rt/4, \n",
        "                     '1bar': df_2008_1bar/4, \n",
        "                     '2bar': df_2008_2bar/4, \n",
        "                     '3bar': df_2008_3bar/4, \n",
        "                     '4bar': df_2008_4bar/4, \n",
        "                     '05deg': (df_2008_05deg/4)[:, :80], \n",
        "                     '15deg': (df_2008_15deg/4)[:, :80], \n",
        "                     '25deg': (df_2008_25deg/4)[:, :80], \n",
        "                     '35deg': (df_2008_35deg/4)[:, :80], \n",
        "                     '45deg': (df_2008_45deg/4)[:, :80]},\n",
        "            '2009': {'rt': df_2009_rt/4, \n",
        "                     '1bar': df_2009_1bar/4, \n",
        "                     '2bar': df_2009_2bar/4, \n",
        "                     '3bar': df_2009_3bar/4, \n",
        "                     '4bar': df_2009_4bar/4, \n",
        "                     '05deg': (df_2009_05deg/4)[:, :80], \n",
        "                     '15deg': (df_2009_15deg/4)[:, :80], \n",
        "                     '25deg': (df_2009_25deg/4)[:, :80], \n",
        "                     '35deg': (df_2009_35deg/4)[:, :80], \n",
        "                     '45deg': (df_2009_45deg/4)[:, :80]}\n",
        "           }"
      ],
      "execution_count": null,
      "outputs": [
        {
          "output_type": "error",
          "ename": "TypeError",
          "evalue": "ignored",
          "traceback": [
            "\u001b[0;31m---------------------------------------------------------------------------\u001b[0m",
            "\u001b[0;31mTypeError\u001b[0m                                 Traceback (most recent call last)",
            "\u001b[0;32m<ipython-input-6-57eca6918c6e>\u001b[0m in \u001b[0;36m<module>\u001b[0;34m()\u001b[0m\n\u001b[1;32m      5\u001b[0m                      \u001b[0;34m'4bar'\u001b[0m\u001b[0;34m:\u001b[0m \u001b[0mdf_2103_4bar\u001b[0m\u001b[0;34m/\u001b[0m\u001b[0;36m15\u001b[0m\u001b[0;34m,\u001b[0m\u001b[0;34m\u001b[0m\u001b[0;34m\u001b[0m\u001b[0m\n\u001b[1;32m      6\u001b[0m                      \u001b[0;34m'6bar'\u001b[0m\u001b[0;34m:\u001b[0m \u001b[0mdf_2103_6bar\u001b[0m\u001b[0;34m/\u001b[0m\u001b[0;36m15\u001b[0m\u001b[0;34m,\u001b[0m\u001b[0;34m\u001b[0m\u001b[0;34m\u001b[0m\u001b[0m\n\u001b[0;32m----> 7\u001b[0;31m                      \u001b[0;34m'05deg'\u001b[0m\u001b[0;34m:\u001b[0m \u001b[0;34m(\u001b[0m\u001b[0mdf_2103_05deg\u001b[0m\u001b[0;34m/\u001b[0m\u001b[0;36m15\u001b[0m\u001b[0;34m)\u001b[0m\u001b[0;34m[\u001b[0m\u001b[0;34m:\u001b[0m\u001b[0;34m,\u001b[0m \u001b[0;34m:\u001b[0m\u001b[0;36m80\u001b[0m\u001b[0;34m]\u001b[0m\u001b[0;34m,\u001b[0m\u001b[0;34m\u001b[0m\u001b[0;34m\u001b[0m\u001b[0m\n\u001b[0m\u001b[1;32m      8\u001b[0m                      \u001b[0;34m'15deg'\u001b[0m\u001b[0;34m:\u001b[0m \u001b[0;34m(\u001b[0m\u001b[0mdf_2103_15deg\u001b[0m\u001b[0;34m/\u001b[0m\u001b[0;36m15\u001b[0m\u001b[0;34m)\u001b[0m\u001b[0;34m[\u001b[0m\u001b[0;34m:\u001b[0m\u001b[0;34m,\u001b[0m \u001b[0;34m:\u001b[0m\u001b[0;36m80\u001b[0m\u001b[0;34m]\u001b[0m\u001b[0;34m,\u001b[0m\u001b[0;34m\u001b[0m\u001b[0;34m\u001b[0m\u001b[0m\n\u001b[1;32m      9\u001b[0m                      \u001b[0;34m'25deg'\u001b[0m\u001b[0;34m:\u001b[0m \u001b[0;34m(\u001b[0m\u001b[0mdf_2103_25deg\u001b[0m\u001b[0;34m/\u001b[0m\u001b[0;36m15\u001b[0m\u001b[0;34m)\u001b[0m\u001b[0;34m[\u001b[0m\u001b[0;34m:\u001b[0m\u001b[0;34m,\u001b[0m \u001b[0;34m:\u001b[0m\u001b[0;36m80\u001b[0m\u001b[0;34m]\u001b[0m\u001b[0;34m,\u001b[0m\u001b[0;34m\u001b[0m\u001b[0;34m\u001b[0m\u001b[0m\n",
            "\u001b[0;32m/usr/local/lib/python3.6/dist-packages/pandas/core/frame.py\u001b[0m in \u001b[0;36m__getitem__\u001b[0;34m(self, key)\u001b[0m\n\u001b[1;32m   2993\u001b[0m             \u001b[0;32mif\u001b[0m \u001b[0mself\u001b[0m\u001b[0;34m.\u001b[0m\u001b[0mcolumns\u001b[0m\u001b[0;34m.\u001b[0m\u001b[0mnlevels\u001b[0m \u001b[0;34m>\u001b[0m \u001b[0;36m1\u001b[0m\u001b[0;34m:\u001b[0m\u001b[0;34m\u001b[0m\u001b[0;34m\u001b[0m\u001b[0m\n\u001b[1;32m   2994\u001b[0m                 \u001b[0;32mreturn\u001b[0m \u001b[0mself\u001b[0m\u001b[0;34m.\u001b[0m\u001b[0m_getitem_multilevel\u001b[0m\u001b[0;34m(\u001b[0m\u001b[0mkey\u001b[0m\u001b[0;34m)\u001b[0m\u001b[0;34m\u001b[0m\u001b[0;34m\u001b[0m\u001b[0m\n\u001b[0;32m-> 2995\u001b[0;31m             \u001b[0mindexer\u001b[0m \u001b[0;34m=\u001b[0m \u001b[0mself\u001b[0m\u001b[0;34m.\u001b[0m\u001b[0mcolumns\u001b[0m\u001b[0;34m.\u001b[0m\u001b[0mget_loc\u001b[0m\u001b[0;34m(\u001b[0m\u001b[0mkey\u001b[0m\u001b[0;34m)\u001b[0m\u001b[0;34m\u001b[0m\u001b[0;34m\u001b[0m\u001b[0m\n\u001b[0m\u001b[1;32m   2996\u001b[0m             \u001b[0;32mif\u001b[0m \u001b[0mis_integer\u001b[0m\u001b[0;34m(\u001b[0m\u001b[0mindexer\u001b[0m\u001b[0;34m)\u001b[0m\u001b[0;34m:\u001b[0m\u001b[0;34m\u001b[0m\u001b[0;34m\u001b[0m\u001b[0m\n\u001b[1;32m   2997\u001b[0m                 \u001b[0mindexer\u001b[0m \u001b[0;34m=\u001b[0m \u001b[0;34m[\u001b[0m\u001b[0mindexer\u001b[0m\u001b[0;34m]\u001b[0m\u001b[0;34m\u001b[0m\u001b[0;34m\u001b[0m\u001b[0m\n",
            "\u001b[0;32m/usr/local/lib/python3.6/dist-packages/pandas/core/indexes/base.py\u001b[0m in \u001b[0;36mget_loc\u001b[0;34m(self, key, method, tolerance)\u001b[0m\n\u001b[1;32m   2895\u001b[0m                 )\n\u001b[1;32m   2896\u001b[0m             \u001b[0;32mtry\u001b[0m\u001b[0;34m:\u001b[0m\u001b[0;34m\u001b[0m\u001b[0;34m\u001b[0m\u001b[0m\n\u001b[0;32m-> 2897\u001b[0;31m                 \u001b[0;32mreturn\u001b[0m \u001b[0mself\u001b[0m\u001b[0;34m.\u001b[0m\u001b[0m_engine\u001b[0m\u001b[0;34m.\u001b[0m\u001b[0mget_loc\u001b[0m\u001b[0;34m(\u001b[0m\u001b[0mkey\u001b[0m\u001b[0;34m)\u001b[0m\u001b[0;34m\u001b[0m\u001b[0;34m\u001b[0m\u001b[0m\n\u001b[0m\u001b[1;32m   2898\u001b[0m             \u001b[0;32mexcept\u001b[0m \u001b[0mKeyError\u001b[0m\u001b[0;34m:\u001b[0m\u001b[0;34m\u001b[0m\u001b[0;34m\u001b[0m\u001b[0m\n\u001b[1;32m   2899\u001b[0m                 \u001b[0;32mreturn\u001b[0m \u001b[0mself\u001b[0m\u001b[0;34m.\u001b[0m\u001b[0m_engine\u001b[0m\u001b[0;34m.\u001b[0m\u001b[0mget_loc\u001b[0m\u001b[0;34m(\u001b[0m\u001b[0mself\u001b[0m\u001b[0;34m.\u001b[0m\u001b[0m_maybe_cast_indexer\u001b[0m\u001b[0;34m(\u001b[0m\u001b[0mkey\u001b[0m\u001b[0;34m)\u001b[0m\u001b[0;34m)\u001b[0m\u001b[0;34m\u001b[0m\u001b[0;34m\u001b[0m\u001b[0m\n",
            "\u001b[0;32mpandas/_libs/index.pyx\u001b[0m in \u001b[0;36mpandas._libs.index.IndexEngine.get_loc\u001b[0;34m()\u001b[0m\n",
            "\u001b[0;32mpandas/_libs/index.pyx\u001b[0m in \u001b[0;36mpandas._libs.index.IndexEngine.get_loc\u001b[0;34m()\u001b[0m\n",
            "\u001b[0;31mTypeError\u001b[0m: '(slice(None, None, None), slice(None, 80, None))' is an invalid key"
          ]
        }
      ]
    },
    {
      "cell_type": "markdown",
      "metadata": {
        "colab_type": "text",
        "id": "I4JjzI5rd_O4"
      },
      "source": [
        "# Define labels for all the classes"
      ]
    },
    {
      "cell_type": "code",
      "metadata": {
        "colab_type": "code",
        "id": "uTJtQ61kpH2G",
        "colab": {}
      },
      "source": [
        "# dict for valve labels \n",
        "label_dict = {'2103': 0, \n",
        "              '2105': 1, \n",
        "              '2115': 2, \n",
        "              '2117': 3, \n",
        "              '2007': 4, \n",
        "              '2010': 5, \n",
        "              '2016': 6, \n",
        "              '2017': 7, \n",
        "              '2021': 8, \n",
        "              '2008': 9, \n",
        "              '2009': 10}"
      ],
      "execution_count": null,
      "outputs": []
    },
    {
      "cell_type": "markdown",
      "metadata": {
        "colab_type": "text",
        "id": "LHdkj6IIKndU"
      },
      "source": [
        "PREPARE TRAINING AND VALIDATION DATA \n",
        "# Without adding Gaussian noise"
      ]
    },
    {
      "cell_type": "code",
      "metadata": {
        "colab_type": "code",
        "id": "vpsZveTBpH2K",
        "colab": {}
      },
      "source": [
        "# for more than 1 samples to train on: \n",
        "# Preparing the training and validation sets\n",
        "training_data = []\n",
        "training_labels = []\n",
        "param_temperature = []\n",
        "param_pressure = []\n",
        "val_param_temp = []\n",
        "val_param_press = []\n",
        "validation_data = []\n",
        "validation_labels = []\n",
        "for i in range(0, 100):\n",
        "    for valve in dataDict.keys():\n",
        "        for param in dataDict[valve].keys():\n",
        "            if 'deg' in param:\n",
        "                t_str = param.split('d')[0]\n",
        "                if (i<50):\n",
        "                    training_data.append(dataDict[valve][param][:,i])\n",
        "                    param_temperature.append(int(t_str))\n",
        "                    param_pressure.append(1.01)\n",
        "                    training_labels.append(label_dict[valve])\n",
        "                elif (i<80):\n",
        "                    validation_data.append(dataDict[valve][param][:,i])\n",
        "                    val_param_temp.append(int(t_str))\n",
        "                    val_param_press.append(1.01)\n",
        "                    validation_labels.append(label_dict[valve])\n",
        "                else: \n",
        "                    pass\n",
        "            else:\n",
        "                if 'bar' in param:\n",
        "                    p_str = param.split('b')[0]\n",
        "                elif 'rt' in param:\n",
        "                    p_str = '1.01'\n",
        "                else:\n",
        "                    pass\n",
        "                if (i<70):\n",
        "                    training_data.append(dataDict[valve][param][:,i])\n",
        "                    param_temperature.append(22)\n",
        "                    param_pressure.append(float(p_str))\n",
        "                    training_labels.append(label_dict[valve])\n",
        "                else:\n",
        "                    validation_data.append(dataDict[valve][param][:,i])\n",
        "                    val_param_temp.append(22)\n",
        "                    val_param_press.append(float(p_str))\n",
        "                    validation_labels.append(label_dict[valve])"
      ],
      "execution_count": null,
      "outputs": []
    },
    {
      "cell_type": "markdown",
      "metadata": {
        "colab_type": "text",
        "id": "t8PpKFPtKxR5"
      },
      "source": [
        "PREPARE TRAINING AND VALIDATION DATA \n",
        "# With added Gaussian noise"
      ]
    },
    {
      "cell_type": "code",
      "metadata": {
        "colab_type": "code",
        "id": "UK4f1NnhK4dt",
        "colab": {}
      },
      "source": [
        "def add_noise():\n",
        "    mul_factor = 0.002\n",
        "    # with window => 1000, without window => 2000\n",
        "    noise = mul_factor * np.random.normal(0,1,50)\n",
        "    return noise\n",
        "\n",
        "# Preparing the training and validation sets\n",
        "training_data = []\n",
        "training_labels = []\n",
        "param_temperature = []\n",
        "param_pressure = []\n",
        "val_param_temp = []\n",
        "val_param_press = []\n",
        "validation_data = []\n",
        "validation_labels = []\n",
        "for i in range(0, 100):\n",
        "    for valve in dataDict.keys():\n",
        "        for param in dataDict[valve].keys():\n",
        "            if 'deg' in param:\n",
        "                t_str = param.split('d')[0]\n",
        "                if (i<50):\n",
        "                    training_data.append(dataDict[valve][param][:,i] + add_noise())\n",
        "                    param_temperature.append(int(t_str))\n",
        "                    param_pressure.append(1.01)\n",
        "                    training_labels.append(label_dict[valve])\n",
        "                elif (i<80):\n",
        "                    validation_data.append(dataDict[valve][param][:,i] + add_noise())\n",
        "                    val_param_temp.append(int(t_str))\n",
        "                    val_param_press.append(1.01)\n",
        "                    validation_labels.append(label_dict[valve])\n",
        "                else: \n",
        "                    pass\n",
        "            else:\n",
        "                if 'bar' in param:\n",
        "                    p_str = param.split('b')[0]\n",
        "                elif 'rt' in param:\n",
        "                    p_str = '1.01'\n",
        "                else:\n",
        "                    pass\n",
        "                if (i<70):\n",
        "                    training_data.append(dataDict[valve][param][:,i] + add_noise())\n",
        "                    param_temperature.append(22)\n",
        "                    param_pressure.append(float(p_str))\n",
        "                    training_labels.append(label_dict[valve])\n",
        "                else:\n",
        "                    validation_data.append(dataDict[valve][param][:,i] + add_noise())\n",
        "                    val_param_temp.append(22)\n",
        "                    val_param_press.append(float(p_str))\n",
        "                    validation_labels.append(label_dict[valve])"
      ],
      "execution_count": null,
      "outputs": []
    },
    {
      "cell_type": "markdown",
      "metadata": {
        "colab_type": "text",
        "id": "G3Y1t5hUeUM7"
      },
      "source": [
        "# Continue with data organization"
      ]
    },
    {
      "cell_type": "code",
      "metadata": {
        "colab_type": "code",
        "id": "2BGR41tjLYWP",
        "colab": {}
      },
      "source": [
        "param_temperature = np.array(param_temperature)\n",
        "param_pressure = np.array(param_pressure)\n",
        "val_param_temp = np.array(val_param_temp)\n",
        "val_param_press = np.array(val_param_press)\n",
        "param_pressure = np.reshape(param_pressure,(param_pressure.shape[0], 1))\n",
        "param_temperature = np.reshape(param_temperature, (param_temperature.shape[0], 1))\n",
        "val_param_press = np.reshape(val_param_press, (val_param_press.shape[0], 1))\n",
        "val_param_temp = np.reshape(val_param_temp, (val_param_temp.shape[0], 1))"
      ],
      "execution_count": null,
      "outputs": []
    },
    {
      "cell_type": "code",
      "metadata": {
        "colab_type": "code",
        "id": "l4XTR3zOpH2N",
        "colab": {}
      },
      "source": [
        "X_train = np.array(training_data, dtype='float')\n",
        "y_train = np.array(training_labels)\n",
        "y_train = to_categorical(y_train, num_classes=11)\n",
        "\n",
        "X_val = np.array(validation_data, dtype='float')\n",
        "y_val = np.array(validation_labels)\n",
        "y_val = to_categorical(y_val, num_classes=11)\n",
        "\n",
        "# Re-shape for LSTM\n",
        "X_train = np.reshape(X_train, (X_train.shape[0], X_train.shape[1],1))\n",
        "X_val = np.reshape(X_val, (X_val.shape[0], X_val.shape[1],1))"
      ],
      "execution_count": null,
      "outputs": []
    },
    {
      "cell_type": "code",
      "metadata": {
        "colab_type": "code",
        "id": "fGERl9nkpH2V",
        "colab": {}
      },
      "source": [
        "#shuffle randomly\n",
        "train_indices = np.arange(X_train.shape[0])\n",
        "np.random.shuffle(train_indices)\n",
        "X_train = X_train[train_indices]\n",
        "y_train = y_train[train_indices]\n",
        "param_temperature = param_temperature[train_indices]\n",
        "param_pressure = param_pressure[train_indices]\n",
        "\n",
        "valid_indices = np.arange(X_val.shape[0])\n",
        "np.random.shuffle(valid_indices)\n",
        "X_val = X_val[valid_indices]\n",
        "y_val = y_val[valid_indices]\n",
        "val_param_press = val_param_press[valid_indices]\n",
        "val_param_temp = val_param_temp[valid_indices]"
      ],
      "execution_count": null,
      "outputs": []
    },
    {
      "cell_type": "markdown",
      "metadata": {
        "colab_type": "text",
        "id": "11OD4HajeZND"
      },
      "source": [
        "# Define model and start training"
      ]
    },
    {
      "cell_type": "code",
      "metadata": {
        "colab_type": "code",
        "id": "ggdvMoUxpH2Z",
        "colab": {
          "base_uri": "https://localhost:8080/",
          "height": 1000
        },
        "outputId": "ad2689a6-13ae-4256-aa41-5fbaad6a14a2"
      },
      "source": [
        "# Defining the multi input model with Functional API\n",
        "opt = Adam(learning_rate=0.0002, decay=1e-4)\n",
        "\n",
        "main_input = tf.keras.Input(shape=(1000,1), name='main_input')\n",
        "pressure_input = tf.keras.Input(shape=(1,), name='pressure_input')\n",
        "temperature_input = tf.keras.Input(shape=(1,), name='temperature_input')\n",
        "\n",
        "x = CuDNNLSTM(units=128, return_sequences=True)(main_input)\n",
        "lstm_out = CuDNNLSTM(units=128, return_sequences=False)(x)\n",
        "\n",
        "x = tf.keras.layers.concatenate([lstm_out, pressure_input, temperature_input])\n",
        "\n",
        "x = Dense(128, activation='relu')(x)\n",
        "x = Dense(128, activation='relu')(x)\n",
        "x = Dense(128, activation='relu')(x)\n",
        "outputs = Dense(11, activation='softmax')(x)\n",
        "\n",
        "model = tf.keras.Model(inputs=[main_input, pressure_input, temperature_input], outputs=outputs)\n",
        "\n",
        "model.compile(optimizer=opt, loss='categorical_crossentropy', metrics=['accuracy'])\n",
        "model.summary()\n",
        "\n",
        "start_time = time.time()\n",
        "history = model.fit(x=[X_train, param_pressure, param_temperature], y=y_train, epochs=500, \n",
        "                    validation_data=([X_val, val_param_press, val_param_temp], y_val), \n",
        "                    batch_size = 128, verbose = 2)\n",
        "print(\"time taken = %s seconds\"%(time.time()-start_time))"
      ],
      "execution_count": null,
      "outputs": [
        {
          "output_type": "stream",
          "text": [
            "Model: \"model_1\"\n",
            "__________________________________________________________________________________________________\n",
            "Layer (type)                    Output Shape         Param #     Connected to                     \n",
            "==================================================================================================\n",
            "main_input (InputLayer)         [(None, 1000, 1)]    0                                            \n",
            "__________________________________________________________________________________________________\n",
            "cu_dnnlstm_2 (CuDNNLSTM)        (None, 1000, 128)    67072       main_input[0][0]                 \n",
            "__________________________________________________________________________________________________\n",
            "cu_dnnlstm_3 (CuDNNLSTM)        (None, 128)          132096      cu_dnnlstm_2[0][0]               \n",
            "__________________________________________________________________________________________________\n",
            "pressure_input (InputLayer)     [(None, 1)]          0                                            \n",
            "__________________________________________________________________________________________________\n",
            "temperature_input (InputLayer)  [(None, 1)]          0                                            \n",
            "__________________________________________________________________________________________________\n",
            "concatenate_1 (Concatenate)     (None, 130)          0           cu_dnnlstm_3[0][0]               \n",
            "                                                                 pressure_input[0][0]             \n",
            "                                                                 temperature_input[0][0]          \n",
            "__________________________________________________________________________________________________\n",
            "dense_3 (Dense)                 (None, 128)          16768       concatenate_1[0][0]              \n",
            "__________________________________________________________________________________________________\n",
            "dense_4 (Dense)                 (None, 128)          16512       dense_3[0][0]                    \n",
            "__________________________________________________________________________________________________\n",
            "dense_5 (Dense)                 (None, 11)           1419        dense_4[0][0]                    \n",
            "==================================================================================================\n",
            "Total params: 233,867\n",
            "Trainable params: 233,867\n",
            "Non-trainable params: 0\n",
            "__________________________________________________________________________________________________\n",
            "Train on 6600 samples, validate on 3300 samples\n",
            "Epoch 1/500\n",
            "6600/6600 - 24s - loss: 2.5184 - acc: 0.1008 - val_loss: 2.3511 - val_acc: 0.1091\n",
            "Epoch 2/500\n",
            "6600/6600 - 8s - loss: 2.1622 - acc: 0.1774 - val_loss: 2.0312 - val_acc: 0.1818\n",
            "Epoch 3/500\n",
            "6600/6600 - 8s - loss: 1.9849 - acc: 0.1859 - val_loss: 1.9601 - val_acc: 0.1909\n",
            "Epoch 4/500\n",
            "6600/6600 - 8s - loss: 1.9452 - acc: 0.1836 - val_loss: 1.9369 - val_acc: 0.1818\n",
            "Epoch 5/500\n",
            "6600/6600 - 8s - loss: 1.9308 - acc: 0.1883 - val_loss: 1.9242 - val_acc: 0.1909\n",
            "Epoch 6/500\n",
            "6600/6600 - 8s - loss: 1.9278 - acc: 0.1776 - val_loss: 1.9242 - val_acc: 0.1818\n",
            "Epoch 7/500\n",
            "6600/6600 - 8s - loss: 1.9251 - acc: 0.1898 - val_loss: 1.9239 - val_acc: 0.1909\n",
            "Epoch 8/500\n",
            "6600/6600 - 8s - loss: 1.9235 - acc: 0.1844 - val_loss: 1.9217 - val_acc: 0.1818\n",
            "Epoch 9/500\n",
            "6600/6600 - 8s - loss: 1.9232 - acc: 0.1817 - val_loss: 1.9212 - val_acc: 0.1909\n",
            "Epoch 10/500\n",
            "6600/6600 - 8s - loss: 1.9195 - acc: 0.1752 - val_loss: 1.9179 - val_acc: 0.1909\n",
            "Epoch 11/500\n",
            "6600/6600 - 8s - loss: 1.9206 - acc: 0.1830 - val_loss: 1.9179 - val_acc: 0.1818\n",
            "Epoch 12/500\n",
            "6600/6600 - 8s - loss: 1.9204 - acc: 0.1833 - val_loss: 1.9149 - val_acc: 0.1818\n",
            "Epoch 13/500\n",
            "6600/6600 - 8s - loss: 1.9166 - acc: 0.1826 - val_loss: 1.9165 - val_acc: 0.1909\n",
            "Epoch 14/500\n",
            "6600/6600 - 8s - loss: 1.9164 - acc: 0.1873 - val_loss: 1.9123 - val_acc: 0.1909\n",
            "Epoch 15/500\n",
            "6600/6600 - 8s - loss: 1.9161 - acc: 0.1792 - val_loss: 1.9124 - val_acc: 0.1909\n",
            "Epoch 16/500\n",
            "6600/6600 - 8s - loss: 1.9160 - acc: 0.1835 - val_loss: 1.9119 - val_acc: 0.1909\n",
            "Epoch 17/500\n",
            "6600/6600 - 8s - loss: 1.9116 - acc: 0.1836 - val_loss: 1.9133 - val_acc: 0.1909\n",
            "Epoch 18/500\n",
            "6600/6600 - 8s - loss: 1.9122 - acc: 0.1921 - val_loss: 1.9113 - val_acc: 0.1909\n",
            "Epoch 19/500\n",
            "6600/6600 - 8s - loss: 1.9112 - acc: 0.1965 - val_loss: 1.9106 - val_acc: 0.1909\n",
            "Epoch 20/500\n",
            "6600/6600 - 8s - loss: 1.9090 - acc: 0.1891 - val_loss: 1.9101 - val_acc: 0.1909\n",
            "Epoch 21/500\n",
            "6600/6600 - 8s - loss: 1.9099 - acc: 0.1873 - val_loss: 1.9069 - val_acc: 0.1909\n",
            "Epoch 22/500\n",
            "6600/6600 - 8s - loss: 1.9098 - acc: 0.1830 - val_loss: 1.9141 - val_acc: 0.1909\n",
            "Epoch 23/500\n",
            "6600/6600 - 8s - loss: 1.9080 - acc: 0.1911 - val_loss: 1.9067 - val_acc: 0.1906\n",
            "Epoch 24/500\n",
            "6600/6600 - 8s - loss: 1.9077 - acc: 0.1844 - val_loss: 1.9077 - val_acc: 0.1909\n",
            "Epoch 25/500\n",
            "6600/6600 - 8s - loss: 1.9063 - acc: 0.1847 - val_loss: 1.9055 - val_acc: 0.1909\n",
            "Epoch 26/500\n",
            "6600/6600 - 8s - loss: 1.9071 - acc: 0.1876 - val_loss: 1.9193 - val_acc: 0.1909\n",
            "Epoch 27/500\n",
            "6600/6600 - 8s - loss: 1.9060 - acc: 0.1873 - val_loss: 1.9055 - val_acc: 0.1909\n",
            "Epoch 28/500\n",
            "6600/6600 - 8s - loss: 1.9019 - acc: 0.1861 - val_loss: 1.9049 - val_acc: 0.1909\n",
            "Epoch 29/500\n",
            "6600/6600 - 8s - loss: 1.9035 - acc: 0.1853 - val_loss: 1.9018 - val_acc: 0.1936\n",
            "Epoch 30/500\n",
            "6600/6600 - 8s - loss: 1.9003 - acc: 0.1915 - val_loss: 1.9072 - val_acc: 0.1909\n",
            "Epoch 31/500\n",
            "6600/6600 - 8s - loss: 1.9023 - acc: 0.1886 - val_loss: 1.9021 - val_acc: 0.1909\n",
            "Epoch 32/500\n",
            "6600/6600 - 8s - loss: 1.9040 - acc: 0.1853 - val_loss: 1.9019 - val_acc: 0.1909\n",
            "Epoch 33/500\n",
            "6600/6600 - 8s - loss: 1.9021 - acc: 0.1898 - val_loss: 1.9044 - val_acc: 0.2000\n",
            "Epoch 34/500\n",
            "6600/6600 - 8s - loss: 1.9015 - acc: 0.1882 - val_loss: 1.9000 - val_acc: 0.1909\n",
            "Epoch 35/500\n",
            "6600/6600 - 8s - loss: 1.9003 - acc: 0.1803 - val_loss: 1.9025 - val_acc: 0.1909\n",
            "Epoch 36/500\n",
            "6600/6600 - 8s - loss: 1.9006 - acc: 0.1930 - val_loss: 1.9119 - val_acc: 0.1909\n",
            "Epoch 37/500\n",
            "6600/6600 - 8s - loss: 1.8997 - acc: 0.1905 - val_loss: 1.9016 - val_acc: 0.1909\n",
            "Epoch 38/500\n",
            "6600/6600 - 8s - loss: 1.8959 - acc: 0.1897 - val_loss: 1.8994 - val_acc: 0.1909\n",
            "Epoch 39/500\n",
            "6600/6600 - 8s - loss: 1.8988 - acc: 0.1895 - val_loss: 1.8981 - val_acc: 0.1909\n",
            "Epoch 40/500\n",
            "6600/6600 - 8s - loss: 1.8981 - acc: 0.1908 - val_loss: 1.8985 - val_acc: 0.1909\n",
            "Epoch 41/500\n",
            "6600/6600 - 8s - loss: 1.8974 - acc: 0.1844 - val_loss: 1.8984 - val_acc: 0.1909\n",
            "Epoch 42/500\n",
            "6600/6600 - 8s - loss: 1.8960 - acc: 0.1932 - val_loss: 1.8970 - val_acc: 0.1909\n",
            "Epoch 43/500\n",
            "6600/6600 - 8s - loss: 1.8951 - acc: 0.1929 - val_loss: 1.8956 - val_acc: 0.1909\n",
            "Epoch 44/500\n",
            "6600/6600 - 8s - loss: 1.8957 - acc: 0.1879 - val_loss: 1.8984 - val_acc: 0.1909\n",
            "Epoch 45/500\n",
            "6600/6600 - 8s - loss: 1.8957 - acc: 0.1956 - val_loss: 1.9027 - val_acc: 0.1909\n",
            "Epoch 46/500\n",
            "6600/6600 - 8s - loss: 1.8926 - acc: 0.1962 - val_loss: 1.8962 - val_acc: 0.1909\n",
            "Epoch 47/500\n",
            "6600/6600 - 8s - loss: 1.8948 - acc: 0.1906 - val_loss: 1.8965 - val_acc: 0.1909\n",
            "Epoch 48/500\n",
            "6600/6600 - 8s - loss: 1.8915 - acc: 0.1897 - val_loss: 1.8931 - val_acc: 0.1909\n",
            "Epoch 49/500\n",
            "6600/6600 - 8s - loss: 1.8930 - acc: 0.1932 - val_loss: 1.8996 - val_acc: 0.1909\n",
            "Epoch 50/500\n",
            "6600/6600 - 8s - loss: 1.8922 - acc: 0.1848 - val_loss: 1.8941 - val_acc: 0.1909\n",
            "Epoch 51/500\n",
            "6600/6600 - 8s - loss: 1.8899 - acc: 0.1850 - val_loss: 1.8920 - val_acc: 0.1909\n",
            "Epoch 52/500\n",
            "6600/6600 - 8s - loss: 1.8883 - acc: 0.1906 - val_loss: 1.8964 - val_acc: 0.2000\n",
            "Epoch 53/500\n",
            "6600/6600 - 8s - loss: 2.2371 - acc: 0.1720 - val_loss: 3.1964 - val_acc: 0.1000\n",
            "Epoch 54/500\n",
            "6600/6600 - 8s - loss: 2.4780 - acc: 0.1100 - val_loss: 2.4102 - val_acc: 0.1000\n",
            "Epoch 55/500\n",
            "6600/6600 - 8s - loss: 2.3878 - acc: 0.1002 - val_loss: 2.3801 - val_acc: 0.1000\n",
            "Epoch 56/500\n",
            "6600/6600 - 8s - loss: 2.3744 - acc: 0.0983 - val_loss: 2.3747 - val_acc: 0.1000\n",
            "Epoch 57/500\n",
            "6600/6600 - 8s - loss: 2.3694 - acc: 0.1009 - val_loss: 2.3742 - val_acc: 0.1000\n",
            "Epoch 58/500\n",
            "6600/6600 - 8s - loss: 2.3673 - acc: 0.0988 - val_loss: 2.3690 - val_acc: 0.1000\n",
            "Epoch 59/500\n",
            "6600/6600 - 8s - loss: 2.3652 - acc: 0.0944 - val_loss: 2.3658 - val_acc: 0.1000\n",
            "Epoch 60/500\n",
            "6600/6600 - 8s - loss: 2.3602 - acc: 0.1029 - val_loss: 2.3653 - val_acc: 0.1000\n",
            "Epoch 61/500\n",
            "6600/6600 - 8s - loss: 2.3631 - acc: 0.0941 - val_loss: 2.3678 - val_acc: 0.1000\n",
            "Epoch 62/500\n",
            "6600/6600 - 8s - loss: 2.3605 - acc: 0.0992 - val_loss: 2.3648 - val_acc: 0.1000\n",
            "Epoch 63/500\n",
            "6600/6600 - 8s - loss: 2.3601 - acc: 0.0970 - val_loss: 2.3646 - val_acc: 0.1000\n",
            "Epoch 64/500\n",
            "6600/6600 - 8s - loss: 2.3601 - acc: 0.1002 - val_loss: 2.3620 - val_acc: 0.1000\n",
            "Epoch 65/500\n",
            "6600/6600 - 8s - loss: 2.3594 - acc: 0.0982 - val_loss: 2.3615 - val_acc: 0.1091\n",
            "Epoch 66/500\n",
            "6600/6600 - 8s - loss: 2.3581 - acc: 0.0971 - val_loss: 2.3597 - val_acc: 0.1000\n",
            "Epoch 67/500\n",
            "6600/6600 - 8s - loss: 2.3557 - acc: 0.1097 - val_loss: 2.3571 - val_acc: 0.1182\n",
            "Epoch 68/500\n"
          ],
          "name": "stdout"
        },
        {
          "output_type": "error",
          "ename": "KeyboardInterrupt",
          "evalue": "ignored",
          "traceback": [
            "\u001b[0;31m---------------------------------------------------------------------------\u001b[0m",
            "\u001b[0;31mKeyboardInterrupt\u001b[0m                         Traceback (most recent call last)",
            "\u001b[0;32m<ipython-input-19-16aa1a710878>\u001b[0m in \u001b[0;36m<module>\u001b[0;34m()\u001b[0m\n\u001b[1;32m     26\u001b[0m history = model.fit(x=[X_train, param_pressure, param_temperature], y=y_train, epochs=500, \n\u001b[1;32m     27\u001b[0m                     \u001b[0mvalidation_data\u001b[0m\u001b[0;34m=\u001b[0m\u001b[0;34m(\u001b[0m\u001b[0;34m[\u001b[0m\u001b[0mX_val\u001b[0m\u001b[0;34m,\u001b[0m \u001b[0mval_param_press\u001b[0m\u001b[0;34m,\u001b[0m \u001b[0mval_param_temp\u001b[0m\u001b[0;34m]\u001b[0m\u001b[0;34m,\u001b[0m \u001b[0my_val\u001b[0m\u001b[0;34m)\u001b[0m\u001b[0;34m,\u001b[0m\u001b[0;34m\u001b[0m\u001b[0;34m\u001b[0m\u001b[0m\n\u001b[0;32m---> 28\u001b[0;31m                     batch_size = 128, verbose = 2)#, callbacks = [early_stopping])\n\u001b[0m\u001b[1;32m     29\u001b[0m \u001b[0mprint\u001b[0m\u001b[0;34m(\u001b[0m\u001b[0;34m\"time taken = %s seconds\"\u001b[0m\u001b[0;34m%\u001b[0m\u001b[0;34m(\u001b[0m\u001b[0mtime\u001b[0m\u001b[0;34m.\u001b[0m\u001b[0mtime\u001b[0m\u001b[0;34m(\u001b[0m\u001b[0;34m)\u001b[0m\u001b[0;34m-\u001b[0m\u001b[0mstart_time\u001b[0m\u001b[0;34m)\u001b[0m\u001b[0;34m)\u001b[0m\u001b[0;34m\u001b[0m\u001b[0;34m\u001b[0m\u001b[0m\n",
            "\u001b[0;32m/usr/local/lib/python3.6/dist-packages/tensorflow_core/python/keras/engine/training.py\u001b[0m in \u001b[0;36mfit\u001b[0;34m(self, x, y, batch_size, epochs, verbose, callbacks, validation_split, validation_data, shuffle, class_weight, sample_weight, initial_epoch, steps_per_epoch, validation_steps, validation_freq, max_queue_size, workers, use_multiprocessing, **kwargs)\u001b[0m\n\u001b[1;32m    725\u001b[0m         \u001b[0mmax_queue_size\u001b[0m\u001b[0;34m=\u001b[0m\u001b[0mmax_queue_size\u001b[0m\u001b[0;34m,\u001b[0m\u001b[0;34m\u001b[0m\u001b[0;34m\u001b[0m\u001b[0m\n\u001b[1;32m    726\u001b[0m         \u001b[0mworkers\u001b[0m\u001b[0;34m=\u001b[0m\u001b[0mworkers\u001b[0m\u001b[0;34m,\u001b[0m\u001b[0;34m\u001b[0m\u001b[0;34m\u001b[0m\u001b[0m\n\u001b[0;32m--> 727\u001b[0;31m         use_multiprocessing=use_multiprocessing)\n\u001b[0m\u001b[1;32m    728\u001b[0m \u001b[0;34m\u001b[0m\u001b[0m\n\u001b[1;32m    729\u001b[0m   def evaluate(self,\n",
            "\u001b[0;32m/usr/local/lib/python3.6/dist-packages/tensorflow_core/python/keras/engine/training_arrays.py\u001b[0m in \u001b[0;36mfit\u001b[0;34m(self, model, x, y, batch_size, epochs, verbose, callbacks, validation_split, validation_data, shuffle, class_weight, sample_weight, initial_epoch, steps_per_epoch, validation_steps, validation_freq, **kwargs)\u001b[0m\n\u001b[1;32m    673\u001b[0m         \u001b[0mvalidation_steps\u001b[0m\u001b[0;34m=\u001b[0m\u001b[0mvalidation_steps\u001b[0m\u001b[0;34m,\u001b[0m\u001b[0;34m\u001b[0m\u001b[0;34m\u001b[0m\u001b[0m\n\u001b[1;32m    674\u001b[0m         \u001b[0mvalidation_freq\u001b[0m\u001b[0;34m=\u001b[0m\u001b[0mvalidation_freq\u001b[0m\u001b[0;34m,\u001b[0m\u001b[0;34m\u001b[0m\u001b[0;34m\u001b[0m\u001b[0m\n\u001b[0;32m--> 675\u001b[0;31m         steps_name='steps_per_epoch')\n\u001b[0m\u001b[1;32m    676\u001b[0m \u001b[0;34m\u001b[0m\u001b[0m\n\u001b[1;32m    677\u001b[0m   def evaluate(self,\n",
            "\u001b[0;32m/usr/local/lib/python3.6/dist-packages/tensorflow_core/python/keras/engine/training_arrays.py\u001b[0m in \u001b[0;36mmodel_iteration\u001b[0;34m(model, inputs, targets, sample_weights, batch_size, epochs, verbose, callbacks, val_inputs, val_targets, val_sample_weights, shuffle, initial_epoch, steps_per_epoch, validation_steps, validation_freq, mode, validation_in_fit, prepared_feed_values_from_dataset, steps_name, **kwargs)\u001b[0m\n\u001b[1;32m    438\u001b[0m           \u001b[0mvalidation_in_fit\u001b[0m\u001b[0;34m=\u001b[0m\u001b[0;32mTrue\u001b[0m\u001b[0;34m,\u001b[0m\u001b[0;34m\u001b[0m\u001b[0;34m\u001b[0m\u001b[0m\n\u001b[1;32m    439\u001b[0m           \u001b[0mprepared_feed_values_from_dataset\u001b[0m\u001b[0;34m=\u001b[0m\u001b[0;34m(\u001b[0m\u001b[0mval_iterator\u001b[0m \u001b[0;32mis\u001b[0m \u001b[0;32mnot\u001b[0m \u001b[0;32mNone\u001b[0m\u001b[0;34m)\u001b[0m\u001b[0;34m,\u001b[0m\u001b[0;34m\u001b[0m\u001b[0;34m\u001b[0m\u001b[0m\n\u001b[0;32m--> 440\u001b[0;31m           steps_name='validation_steps')\n\u001b[0m\u001b[1;32m    441\u001b[0m       \u001b[0;32mif\u001b[0m \u001b[0;32mnot\u001b[0m \u001b[0misinstance\u001b[0m\u001b[0;34m(\u001b[0m\u001b[0mval_results\u001b[0m\u001b[0;34m,\u001b[0m \u001b[0mlist\u001b[0m\u001b[0;34m)\u001b[0m\u001b[0;34m:\u001b[0m\u001b[0;34m\u001b[0m\u001b[0;34m\u001b[0m\u001b[0m\n\u001b[1;32m    442\u001b[0m         \u001b[0mval_results\u001b[0m \u001b[0;34m=\u001b[0m \u001b[0;34m[\u001b[0m\u001b[0mval_results\u001b[0m\u001b[0;34m]\u001b[0m\u001b[0;34m\u001b[0m\u001b[0;34m\u001b[0m\u001b[0m\n",
            "\u001b[0;32m/usr/local/lib/python3.6/dist-packages/tensorflow_core/python/keras/engine/training_arrays.py\u001b[0m in \u001b[0;36mmodel_iteration\u001b[0;34m(model, inputs, targets, sample_weights, batch_size, epochs, verbose, callbacks, val_inputs, val_targets, val_sample_weights, shuffle, initial_epoch, steps_per_epoch, validation_steps, validation_freq, mode, validation_in_fit, prepared_feed_values_from_dataset, steps_name, **kwargs)\u001b[0m\n\u001b[1;32m    392\u001b[0m \u001b[0;34m\u001b[0m\u001b[0m\n\u001b[1;32m    393\u001b[0m         \u001b[0;31m# Get outputs.\u001b[0m\u001b[0;34m\u001b[0m\u001b[0;34m\u001b[0m\u001b[0;34m\u001b[0m\u001b[0m\n\u001b[0;32m--> 394\u001b[0;31m         \u001b[0mbatch_outs\u001b[0m \u001b[0;34m=\u001b[0m \u001b[0mf\u001b[0m\u001b[0;34m(\u001b[0m\u001b[0mins_batch\u001b[0m\u001b[0;34m)\u001b[0m\u001b[0;34m\u001b[0m\u001b[0;34m\u001b[0m\u001b[0m\n\u001b[0m\u001b[1;32m    395\u001b[0m         \u001b[0;32mif\u001b[0m \u001b[0;32mnot\u001b[0m \u001b[0misinstance\u001b[0m\u001b[0;34m(\u001b[0m\u001b[0mbatch_outs\u001b[0m\u001b[0;34m,\u001b[0m \u001b[0mlist\u001b[0m\u001b[0;34m)\u001b[0m\u001b[0;34m:\u001b[0m\u001b[0;34m\u001b[0m\u001b[0;34m\u001b[0m\u001b[0m\n\u001b[1;32m    396\u001b[0m           \u001b[0mbatch_outs\u001b[0m \u001b[0;34m=\u001b[0m \u001b[0;34m[\u001b[0m\u001b[0mbatch_outs\u001b[0m\u001b[0;34m]\u001b[0m\u001b[0;34m\u001b[0m\u001b[0;34m\u001b[0m\u001b[0m\n",
            "\u001b[0;32m/usr/local/lib/python3.6/dist-packages/tensorflow_core/python/keras/backend.py\u001b[0m in \u001b[0;36m__call__\u001b[0;34m(self, inputs)\u001b[0m\n\u001b[1;32m   3474\u001b[0m \u001b[0;34m\u001b[0m\u001b[0m\n\u001b[1;32m   3475\u001b[0m     fetched = self._callable_fn(*array_vals,\n\u001b[0;32m-> 3476\u001b[0;31m                                 run_metadata=self.run_metadata)\n\u001b[0m\u001b[1;32m   3477\u001b[0m     \u001b[0mself\u001b[0m\u001b[0;34m.\u001b[0m\u001b[0m_call_fetch_callbacks\u001b[0m\u001b[0;34m(\u001b[0m\u001b[0mfetched\u001b[0m\u001b[0;34m[\u001b[0m\u001b[0;34m-\u001b[0m\u001b[0mlen\u001b[0m\u001b[0;34m(\u001b[0m\u001b[0mself\u001b[0m\u001b[0;34m.\u001b[0m\u001b[0m_fetches\u001b[0m\u001b[0;34m)\u001b[0m\u001b[0;34m:\u001b[0m\u001b[0;34m]\u001b[0m\u001b[0;34m)\u001b[0m\u001b[0;34m\u001b[0m\u001b[0;34m\u001b[0m\u001b[0m\n\u001b[1;32m   3478\u001b[0m     output_structure = nest.pack_sequence_as(\n",
            "\u001b[0;32m/usr/local/lib/python3.6/dist-packages/tensorflow_core/python/client/session.py\u001b[0m in \u001b[0;36m__call__\u001b[0;34m(self, *args, **kwargs)\u001b[0m\n\u001b[1;32m   1470\u001b[0m         ret = tf_session.TF_SessionRunCallable(self._session._session,\n\u001b[1;32m   1471\u001b[0m                                                \u001b[0mself\u001b[0m\u001b[0;34m.\u001b[0m\u001b[0m_handle\u001b[0m\u001b[0;34m,\u001b[0m \u001b[0margs\u001b[0m\u001b[0;34m,\u001b[0m\u001b[0;34m\u001b[0m\u001b[0;34m\u001b[0m\u001b[0m\n\u001b[0;32m-> 1472\u001b[0;31m                                                run_metadata_ptr)\n\u001b[0m\u001b[1;32m   1473\u001b[0m         \u001b[0;32mif\u001b[0m \u001b[0mrun_metadata\u001b[0m\u001b[0;34m:\u001b[0m\u001b[0;34m\u001b[0m\u001b[0;34m\u001b[0m\u001b[0m\n\u001b[1;32m   1474\u001b[0m           \u001b[0mproto_data\u001b[0m \u001b[0;34m=\u001b[0m \u001b[0mtf_session\u001b[0m\u001b[0;34m.\u001b[0m\u001b[0mTF_GetBuffer\u001b[0m\u001b[0;34m(\u001b[0m\u001b[0mrun_metadata_ptr\u001b[0m\u001b[0;34m)\u001b[0m\u001b[0;34m\u001b[0m\u001b[0;34m\u001b[0m\u001b[0m\n",
            "\u001b[0;31mKeyboardInterrupt\u001b[0m: "
          ]
        }
      ]
    },
    {
      "cell_type": "markdown",
      "metadata": {
        "colab_type": "text",
        "id": "0eg8ycNgevAH"
      },
      "source": [
        "# Plot metrics"
      ]
    },
    {
      "cell_type": "code",
      "metadata": {
        "colab_type": "code",
        "id": "ZbbGkskGpH2c",
        "colab": {
          "base_uri": "https://localhost:8080/",
          "height": 901
        },
        "outputId": "5bda0572-f37a-4e3f-8879-ead87dcb5192"
      },
      "source": [
        "# Plot Metrics\n",
        "import matplotlib.pyplot as plt\n",
        "plt.figure(figsize = (20,15))\n",
        "plt.subplot(2,1,1)\n",
        "plt.plot(history.history['acc'])\n",
        "plt.plot(history.history['val_acc'])\n",
        "plt.title('model accuracy')\n",
        "plt.ylabel('accuracy')\n",
        "plt.xlabel('epochs')\n",
        "plt.legend(['training', 'validation'], loc='upper left')\n",
        "plt.show()\n",
        "\n",
        "# summarize history for loss\n",
        "plt.figure(figsize = (20,15))\n",
        "plt.subplot(2,1,2)\n",
        "plt.plot(history.history['loss'])\n",
        "plt.plot(history.history['val_loss'])\n",
        "plt.title('model loss')\n",
        "plt.ylabel('loss')\n",
        "plt.xlabel('epochs')\n",
        "plt.legend(['training', 'validation'], loc='lower left')\n",
        "plt.show()"
      ],
      "execution_count": null,
      "outputs": [
        {
          "output_type": "display_data",
          "data": {
            "image/png": "[encoded data removed]",
            "text/plain": [
              "<Figure size 1440x1080 with 1 Axes>"
            ]
          },
          "metadata": {
            "tags": []
          }
        },
        {
          "output_type": "display_data",
          "data": {
            "image/png": "[encoded data removed]",
            "text/plain": [
              "<Figure size 1440x1080 with 1 Axes>"
            ]
          },
          "metadata": {
            "tags": []
          }
        }
      ]
    },
    {
      "cell_type": "markdown",
      "metadata": {
        "colab_type": "text",
        "id": "740oQgQveyct"
      },
      "source": [
        "# Prepare test data"
      ]
    },
    {
      "cell_type": "code",
      "metadata": {
        "id": "KJGcZlFmbdNN",
        "colab_type": "code",
        "colab": {}
      },
      "source": [
        "# to predict: \n",
        "\n",
        "base_test_path = \"master_thesis_dataset/testData/\"\n",
        "\n",
        "t_cols = [i for i in range(1, 12)]\n",
        "tdf_2007_rt = pd.read_csv(base_test_path + '1020-07_10readings.csv', index_col=0, usecols=t_cols)\n",
        "tdf_2010_rt = pd.read_csv(base_test_path + '1020-10_10readings.csv', index_col=0, usecols=t_cols)\n",
        "tdf_2016_rt = pd.read_csv(base_test_path + '1020-16_10readings.csv', index_col=0, usecols=t_cols)\n",
        "tdf_2017_rt = pd.read_csv(base_test_path + '1020-17_10readings.csv', index_col=0, usecols=t_cols)\n",
        "tdf_2021_rt = pd.read_csv(base_test_path + '1020-21_10readings.csv', index_col=0, usecols=t_cols)\n",
        "tdf_2103_rt = pd.read_csv(base_test_path + '1021-03_10readings.csv', index_col=0, usecols=t_cols)\n",
        "tdf_2105_rt = pd.read_csv(base_test_path + '1021-05_10readings.csv', index_col=0, usecols=t_cols)\n",
        "tdf_2115_rt = pd.read_csv(base_test_path + '1021-15_10readings.csv', index_col=0, usecols=t_cols)\n",
        "tdf_2117_rt = pd.read_csv(base_test_path + '1021-17_10readings.csv', index_col=0, usecols=t_cols)\n",
        "tdf_2008_rt = pd.read_csv(base_test_path + '1020-08_10readings.csv', index_col=0, usecols=t_cols)\n",
        "tdf_2009_rt = pd.read_csv(base_test_path + '1020-09_10readings.csv', index_col=0, usecols=t_cols)\n",
        "\n",
        "test_path_pressure = \"master_thesis_dataset/pressureData/testData_pressure/\"\n",
        "\n",
        "# for 1bar :\n",
        "tdf_2103_1bar = pd.read_csv(test_path_pressure + '1021-03_1bar_20readings.csv', index_col=0, usecols=t_cols) \n",
        "tdf_2105_1bar = pd.read_csv(test_path_pressure + '1021-05_1bar_20readings.csv', index_col=0, usecols=t_cols)\n",
        "tdf_2115_1bar = pd.read_csv(test_path_pressure + '1021-15_1bar_20readings.csv', index_col=0, usecols=t_cols)\n",
        "tdf_2117_1bar = pd.read_csv(test_path_pressure + '1021-17_1bar_20readings.csv', index_col=0, usecols=t_cols)\n",
        "tdf_2007_1bar = pd.read_csv(test_path_pressure + '1020-07_1bar_20readings.csv', index_col=0, usecols=t_cols)\n",
        "tdf_2010_1bar = pd.read_csv(test_path_pressure + '1020-10_1bar_20readings.csv', index_col=0, usecols=t_cols)\n",
        "tdf_2016_1bar = pd.read_csv(test_path_pressure + '1020-16_1bar_20readings.csv', index_col=0, usecols=t_cols)\n",
        "tdf_2017_1bar = pd.read_csv(test_path_pressure + '1020-17_1bar_20readings.csv', index_col=0, usecols=t_cols)\n",
        "tdf_2021_1bar = pd.read_csv(test_path_pressure + '1020-21_1bar_20readings.csv', index_col=0, usecols=t_cols)\n",
        "tdf_2008_1bar = pd.read_csv(test_path_pressure + '1020-08_1bar_20readings.csv', index_col=0, usecols=t_cols)\n",
        "tdf_2009_1bar = pd.read_csv(test_path_pressure + '1020-09_1bar_20readings.csv', index_col=0, usecols=t_cols)\n",
        "\n",
        "# for 2 bar :\n",
        "tdf_2103_2bar = pd.read_csv(test_path_pressure + '1021-03_2bar_20readings.csv', index_col=0, usecols=t_cols) \n",
        "tdf_2105_2bar = pd.read_csv(test_path_pressure + '1021-05_2bar_20readings.csv', index_col=0, usecols=t_cols)\n",
        "tdf_2115_2bar = pd.read_csv(test_path_pressure + '1021-15_2bar_20readings.csv', index_col=0, usecols=t_cols)\n",
        "tdf_2117_2bar = pd.read_csv(test_path_pressure + '1021-17_2bar_20readings.csv', index_col=0, usecols=t_cols)\n",
        "tdf_2007_2bar = pd.read_csv(test_path_pressure + '1020-07_2bar_20readings.csv', index_col=0, usecols=t_cols)\n",
        "tdf_2010_2bar = pd.read_csv(test_path_pressure + '1020-10_2bar_20readings.csv', index_col=0, usecols=t_cols)\n",
        "tdf_2016_2bar = pd.read_csv(test_path_pressure + '1020-16_2bar_20readings.csv', index_col=0, usecols=t_cols)\n",
        "tdf_2017_2bar = pd.read_csv(test_path_pressure + '1020-17_2bar_20readings.csv', index_col=0, usecols=t_cols)\n",
        "tdf_2021_2bar = pd.read_csv(test_path_pressure + '1020-21_2bar_20readings.csv', index_col=0, usecols=t_cols)\n",
        "tdf_2008_2bar = pd.read_csv(test_path_pressure + '1020-08_2bar_20readings.csv', index_col=0, usecols=t_cols)\n",
        "tdf_2009_2bar = pd.read_csv(test_path_pressure + '1020-09_2bar_20readings.csv', index_col=0, usecols=t_cols)\n",
        "\n",
        "# for 3 bar :\n",
        "tdf_2007_3bar = pd.read_csv(test_path_pressure + '1020-07_3bar_20readings.csv', index_col=0, usecols=t_cols)\n",
        "tdf_2010_3bar = pd.read_csv(test_path_pressure + '1020-10_3bar_20readings.csv', index_col=0, usecols=t_cols)\n",
        "tdf_2016_3bar = pd.read_csv(test_path_pressure + '1020-16_3bar_20readings.csv', index_col=0, usecols=t_cols)\n",
        "tdf_2017_3bar = pd.read_csv(test_path_pressure + '1020-17_3bar_20readings.csv', index_col=0, usecols=t_cols)\n",
        "tdf_2021_3bar = pd.read_csv(test_path_pressure + '1020-21_3bar_20readings.csv', index_col=0, usecols=t_cols)\n",
        "tdf_2008_3bar = pd.read_csv(test_path_pressure + '1020-08_3bar_20readings.csv', index_col=0, usecols=t_cols)\n",
        "tdf_2009_3bar = pd.read_csv(test_path_pressure + '1020-09_3bar_20readings.csv', index_col=0, usecols=t_cols)\n",
        "\n",
        "# for 4 bar :\n",
        "tdf_2103_4bar = pd.read_csv(test_path_pressure + '1021-03_4bar_20readings.csv', index_col=0, usecols=t_cols)\n",
        "tdf_2105_4bar = pd.read_csv(test_path_pressure + '1021-05_4bar_20readings.csv', index_col=0, usecols=t_cols)\n",
        "tdf_2115_4bar = pd.read_csv(test_path_pressure + '1021-15_4bar_20readings.csv', index_col=0, usecols=t_cols)\n",
        "tdf_2117_4bar = pd.read_csv(test_path_pressure + '1021-17_4bar_20readings.csv', index_col=0, usecols=t_cols)\n",
        "tdf_2007_4bar = pd.read_csv(test_path_pressure + '1020-07_4bar_20readings.csv', index_col=0, usecols=t_cols)\n",
        "tdf_2010_4bar = pd.read_csv(test_path_pressure + '1020-10_4bar_20readings.csv', index_col=0, usecols=t_cols)\n",
        "tdf_2016_4bar = pd.read_csv(test_path_pressure + '1020-16_4bar_20readings.csv', index_col=0, usecols=t_cols)\n",
        "tdf_2017_4bar = pd.read_csv(test_path_pressure + '1020-17_4bar_20readings.csv', index_col=0, usecols=t_cols)\n",
        "tdf_2021_4bar = pd.read_csv(test_path_pressure + '1020-21_4bar_20readings.csv', index_col=0, usecols=t_cols)\n",
        "tdf_2008_4bar = pd.read_csv(test_path_pressure + '1020-08_4bar_20readings.csv', index_col=0, usecols=t_cols)\n",
        "tdf_2009_4bar = pd.read_csv(test_path_pressure + '1020-09_4bar_20readings.csv', index_col=0, usecols=t_cols)\n",
        "\n",
        "# for 6 bar :\n",
        "tdf_2103_6bar = pd.read_csv(test_path_pressure + '1021-03_6bar_20readings.csv', index_col=0, usecols=t_cols) \n",
        "tdf_2105_6bar = pd.read_csv(test_path_pressure + '1021-05_6bar_20readings.csv', index_col=0, usecols=t_cols)\n",
        "tdf_2115_6bar = pd.read_csv(test_path_pressure + '1021-15_6bar_20readings.csv', index_col=0, usecols=t_cols)\n",
        "tdf_2117_6bar = pd.read_csv(test_path_pressure + '1021-17_6bar_20readings.csv', index_col=0, usecols=t_cols)"
      ],
      "execution_count": null,
      "outputs": []
    },
    {
      "cell_type": "code",
      "metadata": {
        "id": "aD3C33FvblFS",
        "colab_type": "code",
        "colab": {}
      },
      "source": [
        "tdf_2007_rt = decimate(decimate(tdf_2007_rt.values[790:1790], 5, ftype='iir', axis=0), 4, ftype='iir', axis=0)\n",
        "tdf_2010_rt = decimate(decimate(tdf_2010_rt.values[790:1790], 5, ftype='iir', axis=0), 4, ftype='iir', axis=0)\n",
        "tdf_2016_rt = decimate(decimate(tdf_2016_rt.values[790:1790], 5, ftype='iir', axis=0), 4, ftype='iir', axis=0)\n",
        "tdf_2017_rt = decimate(decimate(tdf_2017_rt.values[790:1790], 5, ftype='iir', axis=0), 4, ftype='iir', axis=0)\n",
        "tdf_2021_rt = decimate(decimate(tdf_2021_rt.values[790:1790], 5, ftype='iir', axis=0), 4, ftype='iir', axis=0)\n",
        "tdf_2103_rt = decimate(decimate(tdf_2103_rt.values[790:1790], 5, ftype='iir', axis=0), 4, ftype='iir', axis=0)\n",
        "tdf_2105_rt = decimate(decimate(tdf_2105_rt.values[790:1790], 5, ftype='iir', axis=0), 4, ftype='iir', axis=0)\n",
        "tdf_2115_rt = decimate(decimate(tdf_2115_rt.values[790:1790], 5, ftype='iir', axis=0), 4, ftype='iir', axis=0)\n",
        "tdf_2117_rt = decimate(decimate(tdf_2117_rt.values[790:1790], 5, ftype='iir', axis=0), 4, ftype='iir', axis=0)\n",
        "tdf_2008_rt = decimate(decimate(tdf_2008_rt.values[790:1790], 5, ftype='iir', axis=0), 4, ftype='iir', axis=0)\n",
        "tdf_2009_rt = decimate(decimate(tdf_2009_rt.values[790:1790], 5, ftype='iir', axis=0), 4, ftype='iir', axis=0)\n",
        "\n",
        "# for 1bar :\n",
        "tdf_2103_1bar = decimate(decimate(tdf_2103_1bar.values[790:1790], 5, ftype='iir', axis=0), 4, ftype='iir', axis=0) \n",
        "tdf_2105_1bar = decimate(decimate(tdf_2105_1bar.values[790:1790], 5, ftype='iir', axis=0), 4, ftype='iir', axis=0)\n",
        "tdf_2115_1bar = decimate(decimate(tdf_2115_1bar.values[790:1790], 5, ftype='iir', axis=0), 4, ftype='iir', axis=0)\n",
        "tdf_2117_1bar = decimate(decimate(tdf_2117_1bar.values[790:1790], 5, ftype='iir', axis=0), 4, ftype='iir', axis=0)\n",
        "tdf_2007_1bar = decimate(decimate(tdf_2007_1bar.values[790:1790], 5, ftype='iir', axis=0), 4, ftype='iir', axis=0)\n",
        "tdf_2010_1bar = decimate(decimate(tdf_2010_1bar.values[790:1790], 5, ftype='iir', axis=0), 4, ftype='iir', axis=0)\n",
        "tdf_2016_1bar = decimate(decimate(tdf_2016_1bar.values[790:1790], 5, ftype='iir', axis=0), 4, ftype='iir', axis=0)\n",
        "tdf_2017_1bar = decimate(decimate(tdf_2017_1bar.values[790:1790], 5, ftype='iir', axis=0), 4, ftype='iir', axis=0)\n",
        "tdf_2021_1bar = decimate(decimate(tdf_2021_1bar.values[790:1790], 5, ftype='iir', axis=0), 4, ftype='iir', axis=0)\n",
        "tdf_2008_1bar = decimate(decimate(tdf_2008_1bar.values[790:1790], 5, ftype='iir', axis=0), 4, ftype='iir', axis=0)\n",
        "tdf_2009_1bar = decimate(decimate(tdf_2009_1bar.values[790:1790], 5, ftype='iir', axis=0), 4, ftype='iir', axis=0)\n",
        "\n",
        "# for 2 bar :\n",
        "tdf_2103_2bar = decimate(decimate(tdf_2103_2bar.values[790:1790], 5, ftype='iir', axis=0), 4, ftype='iir', axis=0) \n",
        "tdf_2105_2bar = decimate(decimate(tdf_2105_2bar.values[790:1790], 5, ftype='iir', axis=0), 4, ftype='iir', axis=0)\n",
        "tdf_2115_2bar = decimate(decimate(tdf_2115_2bar.values[790:1790], 5, ftype='iir', axis=0), 4, ftype='iir', axis=0)\n",
        "tdf_2117_2bar = decimate(decimate(tdf_2117_2bar.values[790:1790], 5, ftype='iir', axis=0), 4, ftype='iir', axis=0)\n",
        "tdf_2007_2bar = decimate(decimate(tdf_2007_2bar.values[790:1790], 5, ftype='iir', axis=0), 4, ftype='iir', axis=0)\n",
        "tdf_2010_2bar = decimate(decimate(tdf_2010_2bar.values[790:1790], 5, ftype='iir', axis=0), 4, ftype='iir', axis=0)\n",
        "tdf_2016_2bar = decimate(decimate(tdf_2016_2bar.values[790:1790], 5, ftype='iir', axis=0), 4, ftype='iir', axis=0)\n",
        "tdf_2017_2bar = decimate(decimate(tdf_2017_2bar.values[790:1790], 5, ftype='iir', axis=0), 4, ftype='iir', axis=0)\n",
        "tdf_2021_2bar = decimate(decimate(tdf_2021_2bar.values[790:1790], 5, ftype='iir', axis=0), 4, ftype='iir', axis=0)\n",
        "tdf_2008_2bar = decimate(decimate(tdf_2008_2bar.values[790:1790], 5, ftype='iir', axis=0), 4, ftype='iir', axis=0)\n",
        "tdf_2009_2bar = decimate(decimate(tdf_2009_2bar.values[790:1790], 5, ftype='iir', axis=0), 4, ftype='iir', axis=0)\n",
        "\n",
        "# for 3 bar :\n",
        "tdf_2007_3bar = decimate(decimate(tdf_2007_3bar.values[790:1790], 5, ftype='iir', axis=0), 4, ftype='iir', axis=0)\n",
        "tdf_2010_3bar = decimate(decimate(tdf_2010_3bar.values[790:1790], 5, ftype='iir', axis=0), 4, ftype='iir', axis=0)\n",
        "tdf_2016_3bar = decimate(decimate(tdf_2016_3bar.values[790:1790], 5, ftype='iir', axis=0), 4, ftype='iir', axis=0)\n",
        "tdf_2017_3bar = decimate(decimate(tdf_2017_3bar.values[790:1790], 5, ftype='iir', axis=0), 4, ftype='iir', axis=0)\n",
        "tdf_2021_3bar = decimate(decimate(tdf_2021_3bar.values[790:1790], 5, ftype='iir', axis=0), 4, ftype='iir', axis=0)\n",
        "tdf_2008_3bar = decimate(decimate(tdf_2008_3bar.values[790:1790], 5, ftype='iir', axis=0), 4, ftype='iir', axis=0)\n",
        "tdf_2009_3bar = decimate(decimate(tdf_2009_3bar.values[790:1790], 5, ftype='iir', axis=0), 4, ftype='iir', axis=0)\n",
        "\n",
        "# for 4 bar :\n",
        "tdf_2103_4bar = decimate(decimate(tdf_2103_4bar.values[790:1790], 5, ftype='iir', axis=0), 4, ftype='iir', axis=0)\n",
        "tdf_2105_4bar = decimate(decimate(tdf_2105_4bar.values[790:1790], 5, ftype='iir', axis=0), 4, ftype='iir', axis=0)\n",
        "tdf_2115_4bar = decimate(decimate(tdf_2115_4bar.values[790:1790], 5, ftype='iir', axis=0), 4, ftype='iir', axis=0)\n",
        "tdf_2117_4bar = decimate(decimate(tdf_2117_4bar.values[790:1790], 5, ftype='iir', axis=0), 4, ftype='iir', axis=0)\n",
        "tdf_2007_4bar = decimate(decimate(tdf_2007_4bar.values[790:1790], 5, ftype='iir', axis=0), 4, ftype='iir', axis=0)\n",
        "tdf_2010_4bar = decimate(decimate(tdf_2010_4bar.values[790:1790], 5, ftype='iir', axis=0), 4, ftype='iir', axis=0)\n",
        "tdf_2016_4bar = decimate(decimate(tdf_2016_4bar.values[790:1790], 5, ftype='iir', axis=0), 4, ftype='iir', axis=0)\n",
        "tdf_2017_4bar = decimate(decimate(tdf_2017_4bar.values[790:1790], 5, ftype='iir', axis=0), 4, ftype='iir', axis=0)\n",
        "tdf_2021_4bar = decimate(decimate(tdf_2021_4bar.values[790:1790], 5, ftype='iir', axis=0), 4, ftype='iir', axis=0)\n",
        "tdf_2008_4bar = decimate(decimate(tdf_2008_4bar.values[790:1790], 5, ftype='iir', axis=0), 4, ftype='iir', axis=0)\n",
        "tdf_2009_4bar = decimate(decimate(tdf_2009_4bar.values[790:1790], 5, ftype='iir', axis=0), 4, ftype='iir', axis=0)\n",
        "\n",
        "# for 6 bar :\n",
        "tdf_2103_6bar = decimate(decimate(tdf_2103_6bar.values[790:1790], 5, ftype='iir', axis=0), 4, ftype='iir', axis=0)\n",
        "tdf_2105_6bar = decimate(decimate(tdf_2105_6bar.values[790:1790], 5, ftype='iir', axis=0), 4, ftype='iir', axis=0)\n",
        "tdf_2115_6bar = decimate(decimate(tdf_2115_6bar.values[790:1790], 5, ftype='iir', axis=0), 4, ftype='iir', axis=0)\n",
        "tdf_2117_6bar = decimate(decimate(tdf_2117_6bar.values[790:1790], 5, ftype='iir', axis=0), 4, ftype='iir', axis=0)"
      ],
      "execution_count": null,
      "outputs": []
    },
    {
      "cell_type": "code",
      "metadata": {
        "colab_type": "code",
        "id": "hqzlwIVypH2j",
        "colab": {}
      },
      "source": [
        "# preparing test data dictionary\n",
        "testData_dict = {'2103': {'rt': tdf_2103_rt/15, \n",
        "                          '1bar': tdf_2103_1bar/15, \n",
        "                          '2bar': tdf_2103_2bar/15, \n",
        "                          '4bar': tdf_2103_4bar/15, \n",
        "                          '6bar': tdf_2103_6bar/15,\n",
        "                          '05deg': (df_2103_05deg/15)[:, 80:],\n",
        "                          '15deg': (df_2103_15deg/15)[:, 80:], \n",
        "                          '25deg': (df_2103_25deg/15)[:, 80:], \n",
        "                          '35deg': (df_2103_35deg/15)[:, 80:], \n",
        "                          '45deg': (df_2103_45deg/15)[:, 80:]},\n",
        "                 '2105': {'rt': tdf_2105_rt/15, \n",
        "                          '1bar': tdf_2105_1bar/15, \n",
        "                          '2bar': tdf_2105_2bar/15, \n",
        "                          '4bar': tdf_2105_4bar/15, \n",
        "                          '6bar': tdf_2105_6bar/15,\n",
        "                          '05deg': (df_2105_05deg/15)[:, 80:],\n",
        "                          '15deg': (df_2105_15deg/15)[:, 80:], \n",
        "                          '25deg': (df_2105_25deg/15)[:, 80:], \n",
        "                          '35deg': (df_2105_35deg/15)[:, 80:], \n",
        "                          '45deg': (df_2105_45deg/15)[:, 80:]},\n",
        "                 '2115': {'rt': tdf_2115_rt/15, \n",
        "                          '1bar': tdf_2115_1bar/15, \n",
        "                          '2bar': tdf_2115_2bar/15, \n",
        "                          '4bar': tdf_2115_4bar/15, \n",
        "                          '6bar': tdf_2115_6bar/15,\n",
        "                          '05deg': (df_2115_05deg/15)[:, 80:],\n",
        "                          '15deg': (df_2115_15deg/15)[:, 80:], \n",
        "                          '25deg': (df_2115_25deg/15)[:, 80:], \n",
        "                          '35deg': (df_2115_35deg/15)[:, 80:], \n",
        "                          '45deg': (df_2115_45deg/15)[:, 80:]},\n",
        "                 '2117': {'rt': tdf_2117_rt/15, \n",
        "                          '1bar': tdf_2117_1bar/15, \n",
        "                          '2bar': tdf_2117_2bar/15, \n",
        "                          '4bar': tdf_2117_4bar/15, \n",
        "                          '6bar': tdf_2117_6bar/15,\n",
        "                          '05deg': (df_2117_05deg/15)[:, 80:],\n",
        "                          '15deg': (df_2117_15deg/15)[:, 80:], \n",
        "                          '25deg': (df_2117_25deg/15)[:, 80:], \n",
        "                          '35deg': (df_2117_35deg/15)[:, 80:], \n",
        "                          '45deg': (df_2117_45deg/15)[:, 80:]},\n",
        "                 '2007': {'rt': tdf_2007_rt/15, \n",
        "                          '1bar': tdf_2007_1bar/15, \n",
        "                          '2bar': tdf_2007_2bar/15, \n",
        "                          '3bar': tdf_2007_3bar/15, \n",
        "                          '4bar': tdf_2007_4bar/15,\n",
        "                          '05deg': (df_2007_05deg/15)[:, 80:],\n",
        "                          '15deg': (df_2007_15deg/15)[:, 80:], \n",
        "                          '25deg': (df_2007_25deg/15)[:, 80:], \n",
        "                          '35deg': (df_2007_35deg/15)[:, 80:], \n",
        "                          '45deg': (df_2007_45deg/15)[:, 80:]},\n",
        "                 '2010': {'rt': tdf_2010_rt/15, \n",
        "                          '1bar': tdf_2010_1bar/15, \n",
        "                          '2bar': tdf_2010_2bar/15, \n",
        "                          '3bar': tdf_2010_3bar/15, \n",
        "                          '4bar': tdf_2010_4bar/15,\n",
        "                          '05deg': (df_2010_05deg/15)[:, 80:],\n",
        "                          '15deg': (df_2010_15deg/15)[:, 80:], \n",
        "                          '25deg': (df_2010_25deg/15)[:, 80:], \n",
        "                          '35deg': (df_2010_35deg/15)[:, 80:], \n",
        "                          '45deg': (df_2010_45deg/15)[:, 80:]},\n",
        "                 '2016': {'rt': tdf_2016_rt/15, \n",
        "                          '1bar': tdf_2016_1bar/15, \n",
        "                          '2bar': tdf_2016_2bar/15, \n",
        "                          '3bar': tdf_2016_3bar/15, \n",
        "                          '4bar': tdf_2016_4bar/15,\n",
        "                          '05deg': (df_2016_05deg/15)[:, 80:],\n",
        "                          '15deg': (df_2016_15deg/15)[:, 80:], \n",
        "                          '25deg': (df_2016_25deg/15)[:, 80:], \n",
        "                          '35deg': (df_2016_35deg/15)[:, 80:], \n",
        "                          '45deg': (df_2016_45deg/15)[:, 80:]},\n",
        "                 '2017': {'rt': tdf_2017_rt/15, \n",
        "                          '1bar': tdf_2017_1bar/15, \n",
        "                          '2bar': tdf_2017_2bar/15, \n",
        "                          '3bar': tdf_2017_3bar/15, \n",
        "                          '4bar': tdf_2017_4bar/15,\n",
        "                          '05deg': (df_2017_05deg/15)[:, 80:],\n",
        "                          '15deg': (df_2017_15deg/15)[:, 80:], \n",
        "                          '25deg': (df_2017_25deg/15)[:, 80:], \n",
        "                          '35deg': (df_2017_35deg/15)[:, 80:], \n",
        "                          '45deg': (df_2017_45deg/15)[:, 80:]},\n",
        "                 '2021': {'rt': tdf_2021_rt/15, \n",
        "                          '1bar': tdf_2021_1bar/15, \n",
        "                          '2bar': tdf_2021_2bar/15, \n",
        "                          '3bar': tdf_2021_3bar/15, \n",
        "                          '4bar': tdf_2021_4bar/15,\n",
        "                          '05deg': (df_2021_05deg/15)[:, 80:],\n",
        "                          '15deg': (df_2021_15deg/15)[:, 80:], \n",
        "                          '25deg': (df_2021_25deg/15)[:, 80:], \n",
        "                          '35deg': (df_2021_35deg/15)[:, 80:], \n",
        "                          '45deg': (df_2021_45deg/15)[:, 80:]},\n",
        "                 '2008': {'rt': tdf_2008_rt/4, \n",
        "                          '1bar': tdf_2008_1bar/4, \n",
        "                          '2bar': tdf_2008_2bar/4, \n",
        "                          '3bar': tdf_2008_3bar/4, \n",
        "                          '4bar': tdf_2008_4bar/4,\n",
        "                          '05deg': (df_2008_05deg/4)[:, 80:],\n",
        "                          '15deg': (df_2008_15deg/4)[:, 80:], \n",
        "                          '25deg': (df_2008_25deg/4)[:, 80:], \n",
        "                          '35deg': (df_2008_35deg/4)[:, 80:], \n",
        "                          '45deg': (df_2008_45deg/4)[:, 80:]},\n",
        "                 '2009': {'rt': tdf_2009_rt/4, \n",
        "                          '1bar': tdf_2009_1bar/4, \n",
        "                          '2bar': tdf_2009_2bar/4, \n",
        "                          '3bar': tdf_2009_3bar/4, \n",
        "                          '4bar': tdf_2009_4bar/4,\n",
        "                          '05deg': (df_2009_05deg/4)[:, 80:],\n",
        "                          '15deg': (df_2009_15deg/4)[:, 80:], \n",
        "                          '25deg': (df_2009_25deg/4)[:, 80:], \n",
        "                          '35deg': (df_2009_35deg/4)[:, 80:], \n",
        "                          '45deg': (df_2009_45deg/4)[:, 80:]}\n",
        "                }"
      ],
      "execution_count": null,
      "outputs": []
    },
    {
      "cell_type": "markdown",
      "metadata": {
        "colab_type": "text",
        "id": "mx3V-puqfEBz"
      },
      "source": [
        "# Continue test data preparation"
      ]
    },
    {
      "cell_type": "code",
      "metadata": {
        "colab_type": "code",
        "id": "MNrWWNJRpH2m",
        "colab": {}
      },
      "source": [
        "test_data = []\n",
        "test_labels = []\n",
        "test_param_press = []\n",
        "test_param_temp = []\n",
        "for i in range(0, 10):\n",
        "    for valve in testData_dict.keys():\n",
        "        for param in testData_dict[valve].keys():\n",
        "            test_data.append(testData_dict[valve][param][:,i])\n",
        "            test_labels.append(label_dict[valve])\n",
        "            if 'bar' in param:\n",
        "                tp_str = param.split('b')[0]\n",
        "                test_param_press.append(int(tp_str))\n",
        "                test_param_temp.append(22)\n",
        "            elif 'deg' in param:\n",
        "                tt_str = param.split('d')[0]\n",
        "                test_param_press.append(1.01)\n",
        "                test_param_temp.append(int(tt_str))\n",
        "            else:\n",
        "                test_param_press.append(1.01)\n",
        "                test_param_temp.append(22)"
      ],
      "execution_count": null,
      "outputs": []
    },
    {
      "cell_type": "code",
      "metadata": {
        "colab_type": "code",
        "id": "-xp6-BDOpH2q",
        "colab": {}
      },
      "source": [
        "X_test = np.array(test_data, dtype='float')\n",
        "# Re-shape for LSTM\n",
        "X_test = np.reshape(X_test, (X_test.shape[0], X_test.shape[1],1))\n",
        "y_test = np.array(test_labels)\n",
        "y_test_categorical = to_categorical(y_test, num_classes=11)\n",
        "\n",
        "test_param_press = np.array(test_param_press)\n",
        "test_param_press = np.reshape(test_param_press, (test_param_press.shape[0], 1))\n",
        "test_param_temp = np.array(test_param_temp)\n",
        "test_param_temp = np.reshape(test_param_temp, (test_param_temp.shape[0], 1))"
      ],
      "execution_count": null,
      "outputs": []
    },
    {
      "cell_type": "markdown",
      "metadata": {
        "colab_type": "text",
        "id": "p3ywg_BffQ1m"
      },
      "source": [
        "# Evaluate and predict"
      ]
    },
    {
      "cell_type": "code",
      "metadata": {
        "colab_type": "code",
        "id": "qGasxyyAfUHv",
        "colab": {
          "base_uri": "https://localhost:8080/",
          "height": 85
        },
        "outputId": "f9f0b38a-a7ff-4ac6-d93f-16e43218b08f"
      },
      "source": [
        "results = model.evaluate(x=[X_test, test_param_press, test_param_temp], y=y_test_categorical, batch_size=32)\n",
        "print('test loss, test accuracy:', results)\n",
        "\n",
        "predictions = model.predict(x=[X_test, test_param_press, test_param_temp])\n",
        "print('predictions shape:', predictions.shape)\n",
        "print(model.metrics_names)"
      ],
      "execution_count": null,
      "outputs": [
        {
          "output_type": "stream",
          "text": [
            "1100/1100 [==============================] - 0s 37us/sample - loss: 1.1811 - acc: 0.8036\n",
            "test loss, test accuracy: [1.1810511814464222, 0.8036364]\n",
            "predictions shape: (1100, 11)\n",
            "['loss', 'acc']\n"
          ],
          "name": "stdout"
        }
      ]
    },
    {
      "cell_type": "code",
      "metadata": {
        "colab_type": "code",
        "id": "qOumlx-VpH2u",
        "colab": {
          "base_uri": "https://localhost:8080/",
          "height": 181
        },
        "outputId": "6214b6ce-2bc3-4a8a-d87c-6edc695d4ab4"
      },
      "source": [
        "class_labels = np.argmax(predictions, axis=1)\n",
        "class_labels"
      ],
      "execution_count": null,
      "outputs": [
        {
          "output_type": "error",
          "ename": "NameError",
          "evalue": "ignored",
          "traceback": [
            "\u001b[0;31m---------------------------------------------------------------------------\u001b[0m",
            "\u001b[0;31mNameError\u001b[0m                                 Traceback (most recent call last)",
            "\u001b[0;32m<ipython-input-1-d2ac426fea8a>\u001b[0m in \u001b[0;36m<module>\u001b[0;34m()\u001b[0m\n\u001b[0;32m----> 1\u001b[0;31m \u001b[0mclass_labels\u001b[0m \u001b[0;34m=\u001b[0m \u001b[0mnp\u001b[0m\u001b[0;34m.\u001b[0m\u001b[0margmax\u001b[0m\u001b[0;34m(\u001b[0m\u001b[0mpredictions\u001b[0m\u001b[0;34m,\u001b[0m \u001b[0maxis\u001b[0m\u001b[0;34m=\u001b[0m\u001b[0;36m1\u001b[0m\u001b[0;34m)\u001b[0m\u001b[0;34m\u001b[0m\u001b[0;34m\u001b[0m\u001b[0m\n\u001b[0m\u001b[1;32m      2\u001b[0m \u001b[0mclass_labels\u001b[0m\u001b[0;34m\u001b[0m\u001b[0;34m\u001b[0m\u001b[0m\n",
            "\u001b[0;31mNameError\u001b[0m: name 'np' is not defined"
          ]
        }
      ]
    },
    {
      "cell_type": "markdown",
      "metadata": {
        "colab_type": "text",
        "id": "S5bbwv36fYMv"
      },
      "source": [
        "# Plot confusion matrix"
      ]
    },
    {
      "cell_type": "code",
      "metadata": {
        "colab_type": "code",
        "id": "U1iumpzVpH2x",
        "colab": {}
      },
      "source": [
        "def plot_confusion_matrix(cm, classes,\n",
        "                          normalize=False,\n",
        "                          title='Confusion matrix',\n",
        "                          cmap=plt.cm.Blues):\n",
        "    \"\"\"\n",
        "    This function prints and plots the confusion matrix.\n",
        "    Normalization can be applied by setting `normalize=True`.\n",
        "    \"\"\"\n",
        "    import itertools\n",
        "    if normalize:\n",
        "        cm = cm.astype('float') / cm.sum(axis=1)[:, np.newaxis]\n",
        "        print(\"Normalized confusion matrix\")\n",
        "    else:\n",
        "        print('Confusion matrix, without normalization')\n",
        "\n",
        "    print(cm)\n",
        "\n",
        "    fig = plt.figure(figsize=(10,10))\n",
        "    plt.imshow(cm, interpolation='nearest', cmap=cmap)\n",
        "    plt.title(title)\n",
        "    plt.colorbar()\n",
        "    tick_marks = np.arange(len(classes))\n",
        "    plt.xticks(tick_marks, classes, rotation=45)\n",
        "    plt.yticks(tick_marks, classes)\n",
        "\n",
        "    fmt = '.2f' if normalize else 'd'\n",
        "    thresh = cm.max() / 2.\n",
        "    for i, j in itertools.product(range(cm.shape[0]), range(cm.shape[1])):\n",
        "        plt.text(j, i, format(cm[i, j], fmt),\n",
        "                 horizontalalignment=\"center\",\n",
        "                 color=\"white\" if cm[i, j] > thresh else \"black\")\n",
        "\n",
        "    plt.ylabel('True label')\n",
        "    plt.xlabel('Predicted label')\n",
        "    plt.tight_layout()"
      ],
      "execution_count": null,
      "outputs": []
    },
    {
      "cell_type": "code",
      "metadata": {
        "colab_type": "code",
        "id": "e971XNAEpH21",
        "colab": {}
      },
      "source": [
        "from sklearn.metrics import confusion_matrix\n",
        "conf_matrix = confusion_matrix(y_true=y_test, y_pred=class_labels, labels=[0,1,2,3,4,5,6,7,8,9,10])"
      ],
      "execution_count": null,
      "outputs": []
    },
    {
      "cell_type": "code",
      "metadata": {
        "colab_type": "code",
        "id": "hBUhAc2MpH29",
        "colab": {
          "base_uri": "https://localhost:8080/",
          "height": 950
        },
        "outputId": "7b331404-7aa3-43fe-a1d8-b7a48f296c5c"
      },
      "source": [
        "# Plot non-normalized confusion matrix\n",
        "plt.figure()\n",
        "plot_confusion_matrix(conf_matrix, classes=['2103', '2105', '2115', '2117', \n",
        "                                            '2007', '2010', '2016', '2017', \n",
        "                                            '2021', '2008', '2009'],\n",
        "                      title='Confusion matrix, without normalization')"
      ],
      "execution_count": null,
      "outputs": [
        {
          "output_type": "stream",
          "text": [
            "Confusion matrix, without normalization\n",
            "[[ 86   0   0   0   0   0   0  10   4   0   0]\n",
            " [  8  92   0   0   0   0   0   0   0   0   0]\n",
            " [  0   0  72   0   0   1   0  11  16   0   0]\n",
            " [  0   0   0 100   0   0   0   0   0   0   0]\n",
            " [  0   0   0   0 100   0   0   0   0   0   0]\n",
            " [  0  40   0   0   0  60   0   0   0   0   0]\n",
            " [ 12   1   0   0   0   5  44   8  30   0   0]\n",
            " [  4   0  18   0   0   0   0  78   0   0   0]\n",
            " [ 22   0   0   0   0   0  14   8  56   0   0]\n",
            " [  0   0   0   0   0   0   0   0   0  92   8]\n",
            " [  0   0   0   0   0   0   0   0   0   0 100]]\n"
          ],
          "name": "stdout"
        },
        {
          "output_type": "display_data",
          "data": {
            "text/plain": [
              "<Figure size 432x288 with 0 Axes>"
            ]
          },
          "metadata": {
            "tags": []
          }
        },
        {
          "output_type": "display_data",
          "data": {
            "image/png": "[encoded data removed]",
            "text/plain": [
              "<Figure size 720x720 with 2 Axes>"
            ]
          },
          "metadata": {
            "tags": []
          }
        }
      ]
    },
    {
      "cell_type": "markdown",
      "metadata": {
        "id": "uuVcpGWhna-0",
        "colab_type": "text"
      },
      "source": [
        "# Save model"
      ]
    },
    {
      "cell_type": "code",
      "metadata": {
        "id": "L5_mqOKinagx",
        "colab_type": "code",
        "colab": {}
      },
      "source": [
        "# To save a model (model's architecture, weights, and training configuration stored in a file/folder)\n",
        "model.save('lstm_latest_multiInput/lstm_withWindow_withoutNoise')"
      ],
      "execution_count": null,
      "outputs": []
    },
    {
      "cell_type": "code",
      "metadata": {
        "id": "ipWpjsynnpQU",
        "colab_type": "code",
        "colab": {}
      },
      "source": [
        "# to save loss and acc matrices to plot later\n",
        "import pickle\n",
        "with open('lstm_latest_multiInput/lstm_withWindow_withoutNoise_metrics.pickle', 'wb') as handle:\n",
        "    pickle.dump(history.history, handle, protocol=pickle.HIGHEST_PROTOCOL)\n",
        "    \n",
        "# to read the saved file:\n",
        "#with open('<filename>', 'rb') as handle:\n",
        "    #h_dict = pickle.load(handle)"
      ],
      "execution_count": null,
      "outputs": []
    },
    {
      "cell_type": "code",
      "metadata": {
        "id": "XJDmiUsRoQ-I",
        "colab_type": "code",
        "colab": {}
      },
      "source": [
        "# to save confusion matrix:\n",
        "with open('lstm_latest_multiInput/lstm_withWindow_withoutNoise_confMatrix.pickle', 'wb') as f:\n",
        "    pickle.dump(conf_matrix, f, protocol=pickle.HIGHEST_PROTOCOL)\n",
        "\n",
        "# to load from file:\n",
        "#with open('<filename>', 'rb') as f:\n",
        "    #mat = pickle.load(f)"
      ],
      "execution_count": null,
      "outputs": []
    },
    {
      "cell_type": "code",
      "metadata": {
        "id": "yKYKiWNyqdN-",
        "colab_type": "code",
        "colab": {
          "base_uri": "https://localhost:8080/",
          "height": 136
        },
        "outputId": "5a6dacb3-c9ef-40ab-987c-05657ff64de8"
      },
      "source": [
        "# to zip saved model and pickle files\n",
        "!zip -r /content/lstm_multiinput_latest.zip /content/lstm_latest_multiInput"
      ],
      "execution_count": null,
      "outputs": [
        {
          "output_type": "stream",
          "text": [
            "updating: content/lstm_latest_multiInput/ (stored 0%)\n",
            "updating: content/lstm_latest_multiInput/lstm_withWindow_withNoise_metrics.pickle (deflated 69%)\n",
            "updating: content/lstm_latest_multiInput/lstm_withWindow_withNoise_confMatrix.pickle (deflated 83%)\n",
            "updating: content/lstm_latest_multiInput/lstm_withWindow_withNoise (deflated 9%)\n",
            "  adding: content/lstm_latest_multiInput/lstm_withWindow_withoutNoise_metrics.pickle (deflated 69%)\n",
            "  adding: content/lstm_latest_multiInput/lstm_withWindow_withoutNoise (deflated 10%)\n",
            "  adding: content/lstm_latest_multiInput/lstm_withWindow_withoutNoise_confMatrix.pickle (deflated 84%)\n"
          ],
          "name": "stdout"
        }
      ]
    },
    {
      "cell_type": "markdown",
      "metadata": {
        "id": "wTUahdMRnmJO",
        "colab_type": "text"
      },
      "source": [
        "# load model"
      ]
    },
    {
      "cell_type": "code",
      "metadata": {
        "id": "yKmIFFdznn4l",
        "colab_type": "code",
        "colab": {}
      },
      "source": [
        "model = tf.keras.models.load_model('lstm/lstm_withoutWindow_noNoise')"
      ],
      "execution_count": null,
      "outputs": []
    }
  ]
}