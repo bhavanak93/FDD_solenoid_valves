{
  "nbformat": 4,
  "nbformat_minor": 0,
  "metadata": {
    "kernelspec": {
      "name": "python3",
      "display_name": "Python 3"
    },
    "language_info": {
      "codemirror_mode": {
        "name": "ipython",
        "version": 3
      },
      "file_extension": ".py",
      "mimetype": "text/x-python",
      "name": "python",
      "nbconvert_exporter": "python",
      "pygments_lexer": "ipython3",
      "version": "3.7.4"
    },
    "colab": {
      "name": "CNN_notebook.ipynb",
      "provenance": [],
      "collapsed_sections": [
        "IIfmJ5UPaPJz",
        "dFg3P1lmsanS",
        "dtl7o3EOsanX",
        "dv_1jS5rba5_",
        "yB6_3Pvcx8rc",
        "BB7RM1UAx_mR",
        "p76sSis2b0UM",
        "hLHMqBv9cDPF",
        "Cz1IEciLH4sn",
        "TVyMy_hiclnj",
        "BXuykHr4saoG",
        "mlpPunaJsaoK",
        "JtSf8qwNdNA1",
        "4n7fjqxrdTVa",
        "Lew_RSOTu99g",
        "Xcoxi8ulueQv",
        "CclR_9ncGtN6"
      ],
      "toc_visible": true
    },
    "accelerator": "GPU"
  },
  "cells": [
    {
      "cell_type": "markdown",
      "metadata": {
        "id": "nKCFiIDTZ9Zq",
        "colab_type": "text"
      },
      "source": [
        "# Pre-requisites for Tensorflow 2.0 and other required imports"
      ]
    },
    {
      "cell_type": "code",
      "metadata": {
        "id": "X5j9PpX1sam-",
        "colab_type": "code",
        "colab": {}
      },
      "source": [
        "# prerequisites for working with Tensorflow 2.0 rc\n",
        "from __future__ import absolute_import, division, print_function, unicode_literals\n",
        "import tensorflow as tf\n",
        "\n",
        "from tensorflow.keras.layers import Dense, Flatten, Conv1D, MaxPooling1D, Dropout\n",
        "from tensorflow.keras import Model\n",
        "from tensorflow.keras.optimizers import Adam\n",
        "from tensorflow.keras.utils import to_categorical\n",
        "from tensorflow.keras.callbacks import EarlyStopping\n",
        "\n",
        "import numpy as np\n",
        "import pandas as pd"
      ],
      "execution_count": null,
      "outputs": []
    },
    {
      "cell_type": "code",
      "metadata": {
        "id": "kCpZWsSlsieQ",
        "colab_type": "code",
        "colab": {
          "base_uri": "https://localhost:8080/",
          "height": 306
        },
        "outputId": "49f9259a-f9e4-4325-bfbe-f85f244bff40"
      },
      "source": [
        "!nvidia-smi"
      ],
      "execution_count": null,
      "outputs": [
        {
          "output_type": "stream",
          "text": [
            "Sun Dec  1 18:26:06 2019       \n",
            "+-----------------------------------------------------------------------------+\n",
            "| NVIDIA-SMI 440.33.01    Driver Version: 418.67       CUDA Version: 10.1     |\n",
            "|-------------------------------+----------------------+----------------------+\n",
            "| GPU  Name        Persistence-M| Bus-Id        Disp.A | Volatile Uncorr. ECC |\n",
            "| Fan  Temp  Perf  Pwr:Usage/Cap|         Memory-Usage | GPU-Util  Compute M. |\n",
            "|===============================+======================+======================|\n",
            "|   0  Tesla K80           Off  | 00000000:00:04.0 Off |                    0 |\n",
            "| N/A   73C    P8    37W / 149W |      0MiB / 11441MiB |      0%      Default |\n",
            "+-------------------------------+----------------------+----------------------+\n",
            "                                                                               \n",
            "+-----------------------------------------------------------------------------+\n",
            "| Processes:                                                       GPU Memory |\n",
            "|  GPU       PID   Type   Process name                             Usage      |\n",
            "|=============================================================================|\n",
            "|  No running processes found                                                 |\n",
            "+-----------------------------------------------------------------------------+\n"
          ],
          "name": "stdout"
        }
      ]
    },
    {
      "cell_type": "code",
      "metadata": {
        "id": "IaEqljRAse6M",
        "colab_type": "code",
        "colab": {
          "base_uri": "https://localhost:8080/",
          "height": 136
        },
        "outputId": "dc8bbec2-e21b-487e-bd4f-f539e0f3b656"
      },
      "source": [
        "# To get data from gitlab\n",
        "#!git clone https://<username>:<password>@gitlab.com/<project>\n",
        "#!git clone https://<>:<>@gitlab.com/bhavanak93/master_thesis_dataset.git"
      ],
      "execution_count": null,
      "outputs": [
        {
          "output_type": "stream",
          "text": [
            "Cloning into 'master_thesis_dataset'...\n",
            "remote: Enumerating objects: 172, done.\u001b[K\n",
            "remote: Counting objects: 100% (172/172), done.\u001b[K\n",
            "remote: Compressing objects: 100% (30/30), done.\u001b[K\n",
            "remote: Total 172 (delta 142), reused 172 (delta 142)\u001b[K\n",
            "Receiving objects: 100% (172/172), 13.80 MiB | 19.52 MiB/s, done.\n",
            "Resolving deltas: 100% (142/142), done.\n"
          ],
          "name": "stdout"
        }
      ]
    },
    {
      "cell_type": "markdown",
      "metadata": {
        "id": "IIfmJ5UPaPJz",
        "colab_type": "text"
      },
      "source": [
        "# Data preparation"
      ]
    },
    {
      "cell_type": "code",
      "metadata": {
        "id": "Ulucf6wzsanG",
        "colab_type": "code",
        "colab": {}
      },
      "source": [
        "# Data Preparation -> Room temperature data only\n",
        "\n",
        "path_rt = \"master_thesis_dataset/allValves/\"\n",
        "\n",
        "# use 450 readings of Room temperature data\n",
        "rt_cols = [i for i in range(1,102)]\n",
        "\n",
        "df_2103_rt = pd.read_csv(path_rt + '1021-03_500readings_100sPause.csv', index_col=0, usecols=rt_cols) \n",
        "df_2105_rt = pd.read_csv(path_rt + '1021-05_500readings_100sPause.csv', index_col=0, usecols=rt_cols)\n",
        "df_2115_rt = pd.read_csv(path_rt + '1021-15_500readings_100sPause.csv', index_col=0, usecols=rt_cols)\n",
        "df_2117_rt = pd.read_csv(path_rt + '1021-17_500readings_100sPause.csv', index_col=0, usecols=rt_cols)\n",
        "df_2007_rt = pd.read_csv(path_rt + '1020-07_500readings_100sPause.csv', index_col=0, usecols=rt_cols)\n",
        "df_2010_rt = pd.read_csv(path_rt + '1020-10_500readings_100sPause.csv', index_col=0, usecols=rt_cols)\n",
        "df_2016_rt = pd.read_csv(path_rt + '1020-16_500readings_100sPause.csv', index_col=0, usecols=rt_cols)\n",
        "df_2017_rt = pd.read_csv(path_rt + '1020-17_500readings_100sPause.csv', index_col=0, usecols=rt_cols)\n",
        "df_2021_rt = pd.read_csv(path_rt + '1020-21_500readings_100sPause.csv', index_col=0, usecols=rt_cols)\n",
        "df_2008_rt = pd.read_csv(path_rt + '1020-08_500readings_100sPause.csv', index_col=0, usecols=rt_cols)\n",
        "df_2009_rt = pd.read_csv(path_rt + '1020-09_500readings_100sPause.csv', index_col=0, usecols=rt_cols)"
      ],
      "execution_count": null,
      "outputs": []
    },
    {
      "cell_type": "code",
      "metadata": {
        "id": "PAOVW0WrsanM",
        "colab_type": "code",
        "colab": {}
      },
      "source": [
        "# Data Preparation -> Temperature data of 5 temperature values : 5def, 15 deg, 25deg, 35deg, 45deg\n",
        "\n",
        "path_temp = \"master_thesis_dataset/tempData/\"\n",
        "\n",
        "# use 50 readings of each temperature \n",
        "temp_cols = [i for i in range(1,102)]\n",
        "\n",
        "# for 5degrees :\n",
        "df_2103_05deg = pd.read_csv(path_temp + '1021-03_05deg_100readings_withPause.csv', index_col=0, usecols=temp_cols) \n",
        "df_2105_05deg = pd.read_csv(path_temp + '1021-05_05deg_100readings_withPause.csv', index_col=0, usecols=temp_cols)\n",
        "df_2115_05deg = pd.read_csv(path_temp + '1021-15_05deg_100readings_withPause.csv', index_col=0, usecols=temp_cols)\n",
        "df_2117_05deg = pd.read_csv(path_temp + '1021-17_05deg_100readings_withPause.csv', index_col=0, usecols=temp_cols)\n",
        "df_2007_05deg = pd.read_csv(path_temp + '1020-07_05deg_100readings_withPause.csv', index_col=0, usecols=temp_cols)\n",
        "df_2010_05deg = pd.read_csv(path_temp + '1020-10_05deg_100readings_withPause.csv', index_col=0, usecols=temp_cols)\n",
        "df_2016_05deg = pd.read_csv(path_temp + '1020-16_05deg_100readings_withPause.csv', index_col=0, usecols=temp_cols)\n",
        "df_2017_05deg = pd.read_csv(path_temp + '1020-17_05deg_100readings_withPause.csv', index_col=0, usecols=temp_cols)\n",
        "df_2021_05deg = pd.read_csv(path_temp + '1020-21_05deg_100readings_withPause.csv', index_col=0, usecols=temp_cols)\n",
        "df_2008_05deg = pd.read_csv(path_temp + '1020-08_05deg_100readings_withPause.csv', index_col=0, usecols=temp_cols)\n",
        "df_2009_05deg = pd.read_csv(path_temp + '1020-09_05deg_100readings_withPause.csv', index_col=0, usecols=temp_cols)\n",
        "\n",
        "# for 15degrees :\n",
        "df_2103_15deg = pd.read_csv(path_temp + '1021-03_15deg_100readings_withPause.csv', index_col=0, usecols=temp_cols) \n",
        "df_2105_15deg = pd.read_csv(path_temp + '1021-05_15deg_100readings_withPause.csv', index_col=0, usecols=temp_cols)\n",
        "df_2115_15deg = pd.read_csv(path_temp + '1021-15_15deg_100readings_withPause.csv', index_col=0, usecols=temp_cols)\n",
        "df_2117_15deg = pd.read_csv(path_temp + '1021-17_15deg_100readings_withPause.csv', index_col=0, usecols=temp_cols)\n",
        "df_2007_15deg = pd.read_csv(path_temp + '1020-07_15deg_100readings_withPause.csv', index_col=0, usecols=temp_cols)\n",
        "df_2010_15deg = pd.read_csv(path_temp + '1020-10_15deg_100readings_withPause.csv', index_col=0, usecols=temp_cols)\n",
        "df_2016_15deg = pd.read_csv(path_temp + '1020-16_15deg_100readings_withPause.csv', index_col=0, usecols=temp_cols)\n",
        "df_2017_15deg = pd.read_csv(path_temp + '1020-17_15deg_100readings_withPause.csv', index_col=0, usecols=temp_cols)\n",
        "df_2021_15deg = pd.read_csv(path_temp + '1020-21_15deg_100readings_withPause.csv', index_col=0, usecols=temp_cols)\n",
        "df_2008_15deg = pd.read_csv(path_temp + '1020-08_15deg_100readings_withPause.csv', index_col=0, usecols=temp_cols)\n",
        "df_2009_15deg = pd.read_csv(path_temp + '1020-09_15deg_100readings_withPause.csv', index_col=0, usecols=temp_cols)\n",
        "\n",
        "# for 25degrees :\n",
        "df_2103_25deg = pd.read_csv(path_temp + '1021-03_25deg_100readings_withPause.csv', index_col=0, usecols=temp_cols) \n",
        "df_2105_25deg = pd.read_csv(path_temp + '1021-05_25deg_100readings_withPause.csv', index_col=0, usecols=temp_cols)\n",
        "df_2115_25deg = pd.read_csv(path_temp + '1021-15_25deg_100readings_withPause.csv', index_col=0, usecols=temp_cols)\n",
        "df_2117_25deg = pd.read_csv(path_temp + '1021-17_25deg_100readings_withPause.csv', index_col=0, usecols=temp_cols)\n",
        "df_2007_25deg = pd.read_csv(path_temp + '1020-07_25deg_100readings_withPause.csv', index_col=0, usecols=temp_cols)\n",
        "df_2010_25deg = pd.read_csv(path_temp + '1020-10_25deg_100readings_withPause.csv', index_col=0, usecols=temp_cols)\n",
        "df_2016_25deg = pd.read_csv(path_temp + '1020-16_25deg_100readings_withPause.csv', index_col=0, usecols=temp_cols)\n",
        "df_2017_25deg = pd.read_csv(path_temp + '1020-17_25deg_100readings_withPause.csv', index_col=0, usecols=temp_cols)\n",
        "df_2021_25deg = pd.read_csv(path_temp + '1020-21_25deg_100readings_withPause.csv', index_col=0, usecols=temp_cols)\n",
        "df_2008_25deg = pd.read_csv(path_temp + '1020-08_25deg_100readings_withPause.csv', index_col=0, usecols=temp_cols)\n",
        "df_2009_25deg = pd.read_csv(path_temp + '1020-09_25deg_100readings_withPause.csv', index_col=0, usecols=temp_cols)\n",
        "\n",
        "# for 35degrees :\n",
        "df_2103_35deg = pd.read_csv(path_temp + '1021-03_35deg_100readings_withPause.csv', index_col=0, usecols=temp_cols) \n",
        "df_2105_35deg = pd.read_csv(path_temp + '1021-05_35deg_100readings_withPause.csv', index_col=0, usecols=temp_cols)\n",
        "df_2115_35deg = pd.read_csv(path_temp + '1021-15_35deg_100readings_withPause.csv', index_col=0, usecols=temp_cols)\n",
        "df_2117_35deg = pd.read_csv(path_temp + '1021-17_35deg_100readings_withPause.csv', index_col=0, usecols=temp_cols)\n",
        "df_2007_35deg = pd.read_csv(path_temp + '1020-07_35deg_100readings_withPause.csv', index_col=0, usecols=temp_cols)\n",
        "df_2010_35deg = pd.read_csv(path_temp + '1020-10_35deg_100readings_withPause.csv', index_col=0, usecols=temp_cols)\n",
        "df_2016_35deg = pd.read_csv(path_temp + '1020-16_35deg_100readings_withPause.csv', index_col=0, usecols=temp_cols)\n",
        "df_2017_35deg = pd.read_csv(path_temp + '1020-17_35deg_100readings_withPause.csv', index_col=0, usecols=temp_cols)\n",
        "df_2021_35deg = pd.read_csv(path_temp + '1020-21_35deg_100readings_withPause.csv', index_col=0, usecols=temp_cols)\n",
        "df_2008_35deg = pd.read_csv(path_temp + '1020-08_35deg_100readings_withPause.csv', index_col=0, usecols=temp_cols)\n",
        "df_2009_35deg = pd.read_csv(path_temp + '1020-09_35deg_100readings_withPause.csv', index_col=0, usecols=temp_cols)\n",
        "\n",
        "# for 45degrees :\n",
        "df_2103_45deg = pd.read_csv(path_temp + '1021-03_45deg_100readings_withPause.csv', index_col=0, usecols=temp_cols) \n",
        "df_2105_45deg = pd.read_csv(path_temp + '1021-05_45deg_100readings_withPause.csv', index_col=0, usecols=temp_cols)\n",
        "df_2115_45deg = pd.read_csv(path_temp + '1021-15_45deg_100readings_withPause.csv', index_col=0, usecols=temp_cols)\n",
        "df_2117_45deg = pd.read_csv(path_temp + '1021-17_45deg_100readings_withPause.csv', index_col=0, usecols=temp_cols)\n",
        "df_2007_45deg = pd.read_csv(path_temp + '1020-07_45deg_100readings_withPause.csv', index_col=0, usecols=temp_cols)\n",
        "df_2010_45deg = pd.read_csv(path_temp + '1020-10_45deg_100readings_withPause.csv', index_col=0, usecols=temp_cols)\n",
        "df_2016_45deg = pd.read_csv(path_temp + '1020-16_45deg_100readings_withPause.csv', index_col=0, usecols=temp_cols)\n",
        "df_2017_45deg = pd.read_csv(path_temp + '1020-17_45deg_100readings_withPause.csv', index_col=0, usecols=temp_cols)\n",
        "df_2021_45deg = pd.read_csv(path_temp + '1020-21_45deg_100readings_withPause.csv', index_col=0, usecols=temp_cols)\n",
        "df_2008_45deg = pd.read_csv(path_temp + '1020-08_45deg_100readings_withPause.csv', index_col=0, usecols=temp_cols)\n",
        "df_2009_45deg = pd.read_csv(path_temp + '1020-09_45deg_100readings_withPause.csv', index_col=0, usecols=temp_cols)"
      ],
      "execution_count": null,
      "outputs": []
    },
    {
      "cell_type": "code",
      "metadata": {
        "id": "xfr4tVLrsanP",
        "colab_type": "code",
        "colab": {}
      },
      "source": [
        "# Data Preparation -> Pressure data of 3 Pressure values : \n",
        "# 1bar, 2bar, 3bar, 4bar for upto 4bar valbves and \n",
        "# 1bar, 2bar, 4bar, 6bar for upto 8bar valves \n",
        "\n",
        "path_pressure = \"master_thesis_dataset/pressureData/\"\n",
        "\n",
        "# use 50 readings of each pressure \n",
        "temp_cols = [i for i in range(1,102)]\n",
        "\n",
        "# for 1bar :\n",
        "df_2103_1bar = pd.read_csv(path_pressure + '1021-03_1bar_100readings.csv', index_col=0, usecols=temp_cols) \n",
        "df_2105_1bar = pd.read_csv(path_pressure + '1021-05_1bar_100readings.csv', index_col=0, usecols=temp_cols)\n",
        "df_2115_1bar = pd.read_csv(path_pressure + '1021-15_1bar_100readings.csv', index_col=0, usecols=temp_cols)\n",
        "df_2117_1bar = pd.read_csv(path_pressure + '1021-17_1bar_100readings.csv', index_col=0, usecols=temp_cols)\n",
        "df_2007_1bar = pd.read_csv(path_pressure + '1020-07_1bar_100readings.csv', index_col=0, usecols=temp_cols)\n",
        "df_2010_1bar = pd.read_csv(path_pressure + '1020-10_1bar_100readings.csv', index_col=0, usecols=temp_cols)\n",
        "df_2016_1bar = pd.read_csv(path_pressure + '1020-16_1bar_100readings.csv', index_col=0, usecols=temp_cols)\n",
        "df_2017_1bar = pd.read_csv(path_pressure + '1020-17_1bar_100readings.csv', index_col=0, usecols=temp_cols)\n",
        "df_2021_1bar = pd.read_csv(path_pressure + '1020-21_1bar_100readings.csv', index_col=0, usecols=temp_cols)\n",
        "df_2008_1bar = pd.read_csv(path_pressure + '1020-08_1bar_100readings.csv', index_col=0, usecols=temp_cols)\n",
        "df_2009_1bar = pd.read_csv(path_pressure + '1020-09_1bar_100readings.csv', index_col=0, usecols=temp_cols)\n",
        "\n",
        "# for 2 bar :\n",
        "df_2103_2bar = pd.read_csv(path_pressure + '1021-03_2bar_100readings.csv', index_col=0, usecols=temp_cols) \n",
        "df_2105_2bar = pd.read_csv(path_pressure + '1021-05_2bar_100readings.csv', index_col=0, usecols=temp_cols)\n",
        "df_2115_2bar = pd.read_csv(path_pressure + '1021-15_2bar_100readings.csv', index_col=0, usecols=temp_cols)\n",
        "df_2117_2bar = pd.read_csv(path_pressure + '1021-17_2bar_100readings.csv', index_col=0, usecols=temp_cols)\n",
        "df_2007_2bar = pd.read_csv(path_pressure + '1020-07_2bar_100readings.csv', index_col=0, usecols=temp_cols)\n",
        "df_2010_2bar = pd.read_csv(path_pressure + '1020-10_2bar_100readings.csv', index_col=0, usecols=temp_cols)\n",
        "df_2016_2bar = pd.read_csv(path_pressure + '1020-16_2bar_100readings.csv', index_col=0, usecols=temp_cols)\n",
        "df_2017_2bar = pd.read_csv(path_pressure + '1020-17_2bar_100readings.csv', index_col=0, usecols=temp_cols)\n",
        "df_2021_2bar = pd.read_csv(path_pressure + '1020-21_2bar_100readings.csv', index_col=0, usecols=temp_cols)\n",
        "df_2008_2bar = pd.read_csv(path_pressure + '1020-08_2bar_100readings.csv', index_col=0, usecols=temp_cols)\n",
        "df_2009_2bar = pd.read_csv(path_pressure + '1020-09_2bar_100readings.csv', index_col=0, usecols=temp_cols)\n",
        "\n",
        "# for 3 bar :\n",
        "df_2007_3bar = pd.read_csv(path_pressure + '1020-07_3bar_100readings.csv', index_col=0, usecols=temp_cols)\n",
        "df_2010_3bar = pd.read_csv(path_pressure + '1020-10_3bar_100readings.csv', index_col=0, usecols=temp_cols)\n",
        "df_2016_3bar = pd.read_csv(path_pressure + '1020-16_3bar_100readings.csv', index_col=0, usecols=temp_cols)\n",
        "df_2017_3bar = pd.read_csv(path_pressure + '1020-17_3bar_100readings.csv', index_col=0, usecols=temp_cols)\n",
        "df_2021_3bar = pd.read_csv(path_pressure + '1020-21_3bar_100readings.csv', index_col=0, usecols=temp_cols)\n",
        "df_2008_3bar = pd.read_csv(path_pressure + '1020-08_3bar_100readings.csv', index_col=0, usecols=temp_cols)\n",
        "df_2009_3bar = pd.read_csv(path_pressure + '1020-09_3bar_100readings.csv', index_col=0, usecols=temp_cols)\n",
        "\n",
        "# for 4 bar :\n",
        "df_2103_4bar = pd.read_csv(path_pressure + '1021-03_4bar_100readings.csv', index_col=0, usecols=temp_cols) \n",
        "df_2105_4bar = pd.read_csv(path_pressure + '1021-05_4bar_100readings.csv', index_col=0, usecols=temp_cols)\n",
        "df_2115_4bar = pd.read_csv(path_pressure + '1021-15_4bar_100readings.csv', index_col=0, usecols=temp_cols)\n",
        "df_2117_4bar = pd.read_csv(path_pressure + '1021-17_4bar_100readings.csv', index_col=0, usecols=temp_cols)\n",
        "df_2007_4bar = pd.read_csv(path_pressure + '1020-07_4bar_100readings.csv', index_col=0, usecols=temp_cols)\n",
        "df_2010_4bar = pd.read_csv(path_pressure + '1020-10_4bar_100readings.csv', index_col=0, usecols=temp_cols)\n",
        "df_2016_4bar = pd.read_csv(path_pressure + '1020-16_4bar_100readings.csv', index_col=0, usecols=temp_cols)\n",
        "df_2017_4bar = pd.read_csv(path_pressure + '1020-17_4bar_100readings.csv', index_col=0, usecols=temp_cols)\n",
        "df_2021_4bar = pd.read_csv(path_pressure + '1020-21_4bar_100readings.csv', index_col=0, usecols=temp_cols)\n",
        "df_2008_4bar = pd.read_csv(path_pressure + '1020-08_4bar_100readings.csv', index_col=0, usecols=temp_cols)\n",
        "df_2009_4bar = pd.read_csv(path_pressure + '1020-09_4bar_100readings.csv', index_col=0, usecols=temp_cols)\n",
        "\n",
        "# for 6 bar :\n",
        "df_2103_6bar = pd.read_csv(path_pressure + '1021-03_6bar_100readings.csv', index_col=0, usecols=temp_cols) \n",
        "df_2105_6bar = pd.read_csv(path_pressure + '1021-05_6bar_100readings.csv', index_col=0, usecols=temp_cols)\n",
        "df_2115_6bar = pd.read_csv(path_pressure + '1021-15_6bar_100readings.csv', index_col=0, usecols=temp_cols)\n",
        "df_2117_6bar = pd.read_csv(path_pressure + '1021-17_6bar_100readings.csv', index_col=0, usecols=temp_cols)"
      ],
      "execution_count": null,
      "outputs": []
    },
    {
      "cell_type": "markdown",
      "metadata": {
        "id": "dFg3P1lmsanS",
        "colab_type": "text"
      },
      "source": [
        "Prepare Training data Dictionary\n",
        "\n",
        "# Without window of inflection concept"
      ]
    },
    {
      "cell_type": "code",
      "metadata": {
        "id": "VBFtyrRFsanU",
        "colab_type": "code",
        "colab": {}
      },
      "source": [
        "# consolidate all current readings into 1 main dictionary\n",
        "\n",
        "dataDict = {'2103': {'rt': df_2103_rt.values/15, \n",
        "                     '1bar': df_2103_1bar.values/15, \n",
        "                     '2bar': df_2103_2bar.values/15, \n",
        "                     '4bar': df_2103_4bar.values/15, \n",
        "                     '6bar': df_2103_6bar.values/15, \n",
        "                     '05deg': (df_2103_05deg.values/15)[:, :80], \n",
        "                     '15deg': (df_2103_15deg.values/15)[:, :80], \n",
        "                     '25deg': (df_2103_25deg.values/15)[:, :80], \n",
        "                     '35deg': (df_2103_35deg.values/15)[:, :80], \n",
        "                     '45deg': (df_2103_45deg.values/15)[:, :80]}, \n",
        "           '2105': {'rt': df_2105_rt.values/15, \n",
        "                     '1bar': df_2105_1bar.values/15, \n",
        "                     '2bar': df_2105_2bar.values/15, \n",
        "                     '4bar': df_2105_4bar.values/15, \n",
        "                     '6bar': df_2105_6bar.values/15, \n",
        "                     '05deg': (df_2105_05deg.values/15)[:, :80], \n",
        "                     '15deg': (df_2105_15deg.values/15)[:, :80], \n",
        "                     '25deg': (df_2105_25deg.values/15)[:, :80], \n",
        "                     '35deg': (df_2105_35deg.values/15)[:, :80], \n",
        "                     '45deg': (df_2105_45deg.values/15)[:, :80]},\n",
        "            '2115': {'rt': df_2115_rt.values/15, \n",
        "                     '1bar': df_2115_1bar.values/15, \n",
        "                     '2bar': df_2115_2bar.values/15, \n",
        "                     '4bar': df_2115_4bar.values/15, \n",
        "                     '6bar': df_2115_6bar.values/15, \n",
        "                     '05deg': (df_2115_05deg.values/15)[:, :80], \n",
        "                     '15deg': (df_2115_15deg.values/15)[:, :80], \n",
        "                     '25deg': (df_2115_25deg.values/15)[:, :80], \n",
        "                     '35deg': (df_2115_35deg.values/15)[:, :80], \n",
        "                     '45deg': (df_2115_45deg.values/15)[:, :80]}, \n",
        "            '2117': {'rt': df_2117_rt.values/15, \n",
        "                     '1bar': df_2117_1bar.values/15, \n",
        "                     '2bar': df_2117_2bar.values/15, \n",
        "                     '4bar': df_2117_4bar.values/15, \n",
        "                     '6bar': df_2117_6bar.values/15, \n",
        "                     '05deg': (df_2117_05deg.values/15)[:, :80], \n",
        "                     '15deg': (df_2117_15deg.values/15)[:, :80], \n",
        "                     '25deg': (df_2117_25deg.values/15)[:, :80], \n",
        "                     '35deg': (df_2117_35deg.values/15)[:, :80], \n",
        "                     '45deg': (df_2117_45deg.values/15)[:, :80]},\n",
        "            '2007': {'rt': df_2007_rt.values/15, \n",
        "                     '1bar': df_2007_1bar.values/15, \n",
        "                     '2bar': df_2007_2bar.values/15, \n",
        "                     '3bar': df_2007_3bar.values/15, \n",
        "                     '4bar': df_2007_4bar.values/15, \n",
        "                     '05deg': (df_2007_05deg.values/15)[:, :80], \n",
        "                     '15deg': (df_2007_15deg.values/15)[:, :80], \n",
        "                     '25deg': (df_2007_25deg.values/15)[:, :80], \n",
        "                     '35deg': (df_2007_35deg.values/15)[:, :80], \n",
        "                     '45deg': (df_2007_45deg.values/15)[:, :80]},\n",
        "            '2010': {'rt': df_2010_rt.values/15, \n",
        "                     '1bar': df_2010_1bar.values/15, \n",
        "                     '2bar': df_2010_2bar.values/15, \n",
        "                     '3bar': df_2010_3bar.values/15, \n",
        "                     '4bar': df_2010_4bar.values/15, \n",
        "                     '05deg': (df_2010_05deg.values/15)[:, :80], \n",
        "                     '15deg': (df_2010_15deg.values/15)[:, :80], \n",
        "                     '25deg': (df_2010_25deg.values/15)[:, :80], \n",
        "                     '35deg': (df_2010_35deg.values/15)[:, :80], \n",
        "                     '45deg': (df_2010_45deg.values/15)[:, :80]},\n",
        "            '2016': {'rt': df_2016_rt.values/15, \n",
        "                     '1bar': df_2016_1bar.values/15, \n",
        "                     '2bar': df_2016_2bar.values/15, \n",
        "                     '3bar': df_2016_3bar.values/15, \n",
        "                     '4bar': df_2016_4bar.values/15, \n",
        "                     '05deg': (df_2016_05deg.values/15)[:, :80], \n",
        "                     '15deg': (df_2016_15deg.values/15)[:, :80], \n",
        "                     '25deg': (df_2016_25deg.values/15)[:, :80], \n",
        "                     '35deg': (df_2016_35deg.values/15)[:, :80], \n",
        "                     '45deg': (df_2016_45deg.values/15)[:, :80]},\n",
        "            '2017': {'rt': df_2017_rt.values/15, \n",
        "                     '1bar': df_2017_1bar.values/15, \n",
        "                     '2bar': df_2017_2bar.values/15, \n",
        "                     '3bar': df_2017_3bar.values/15, \n",
        "                     '4bar': df_2017_4bar.values/15, \n",
        "                     '05deg': (df_2017_05deg.values/15)[:, :80], \n",
        "                     '15deg': (df_2017_15deg.values/15)[:, :80], \n",
        "                     '25deg': (df_2017_25deg.values/15)[:, :80], \n",
        "                     '35deg': (df_2017_35deg.values/15)[:, :80], \n",
        "                     '45deg': (df_2017_45deg.values/15)[:, :80]},\n",
        "            '2021': {'rt': df_2021_rt.values/15, \n",
        "                     '1bar': df_2021_1bar.values/15, \n",
        "                     '2bar': df_2021_2bar.values/15, \n",
        "                     '3bar': df_2021_3bar.values/15, \n",
        "                     '4bar': df_2021_4bar.values/15, \n",
        "                     '05deg': (df_2021_05deg.values/15)[:, :80], \n",
        "                     '15deg': (df_2021_15deg.values/15)[:, :80], \n",
        "                     '25deg': (df_2021_25deg.values/15)[:, :80], \n",
        "                     '35deg': (df_2021_35deg.values/15)[:, :80], \n",
        "                     '45deg': (df_2021_45deg.values/15)[:, :80]},\n",
        "            '2008': {'rt': df_2008_rt.values/4, \n",
        "                     '1bar': df_2008_1bar.values/4, \n",
        "                     '2bar': df_2008_2bar.values/4, \n",
        "                     '3bar': df_2008_3bar.values/4, \n",
        "                     '4bar': df_2008_4bar.values/4, \n",
        "                     '05deg': (df_2008_05deg.values/4)[:, :80], \n",
        "                     '15deg': (df_2008_15deg.values/4)[:, :80], \n",
        "                     '25deg': (df_2008_25deg.values/4)[:, :80], \n",
        "                     '35deg': (df_2008_35deg.values/4)[:, :80], \n",
        "                     '45deg': (df_2008_45deg.values/4)[:, :80]},\n",
        "            '2009': {'rt': df_2009_rt.values/4, \n",
        "                     '1bar': df_2009_1bar.values/4, \n",
        "                     '2bar': df_2009_2bar.values/4, \n",
        "                     '3bar': df_2009_3bar.values/4, \n",
        "                     '4bar': df_2009_4bar.values/4, \n",
        "                     '05deg': (df_2009_05deg.values/4)[:, :80], \n",
        "                     '15deg': (df_2009_15deg.values/4)[:, :80], \n",
        "                     '25deg': (df_2009_25deg.values/4)[:, :80], \n",
        "                     '35deg': (df_2009_35deg.values/4)[:, :80], \n",
        "                     '45deg': (df_2009_45deg.values/4)[:, :80]}\n",
        "           }"
      ],
      "execution_count": null,
      "outputs": []
    },
    {
      "cell_type": "markdown",
      "metadata": {
        "id": "dtl7o3EOsanX",
        "colab_type": "text"
      },
      "source": [
        "Prepare Training Data Dictionary \n",
        "# With window of inflection concept"
      ]
    },
    {
      "cell_type": "code",
      "metadata": {
        "id": "5mazTCRfsanY",
        "colab_type": "code",
        "colab": {}
      },
      "source": [
        "# consolidate all current readings into 1 main dictionary\n",
        "\n",
        "dataDict = {'2103': {'rt': df_2103_rt.values[790:1790]/15, \n",
        "                     '1bar': df_2103_1bar.values[790:1790]/15, \n",
        "                     '2bar': df_2103_2bar.values[790:1790]/15, \n",
        "                     '4bar': df_2103_4bar.values[790:1790]/15, \n",
        "                     '6bar': df_2103_6bar.values[790:1790]/15, \n",
        "                     '05deg': (df_2103_05deg.values[790:1790]/15)[:, :80], \n",
        "                     '15deg': (df_2103_15deg.values[790:1790]/15)[:, :80], \n",
        "                     '25deg': (df_2103_25deg.values[790:1790]/15)[:, :80], \n",
        "                     '35deg': (df_2103_35deg.values[790:1790]/15)[:, :80], \n",
        "                     '45deg': (df_2103_45deg.values[790:1790]/15)[:, :80]}, \n",
        "           '2105': {'rt': df_2105_rt.values[790:1790]/15, \n",
        "                     '1bar': df_2105_1bar.values[790:1790]/15, \n",
        "                     '2bar': df_2105_2bar.values[790:1790]/15, \n",
        "                     '4bar': df_2105_4bar.values[790:1790]/15, \n",
        "                     '6bar': df_2105_6bar.values[790:1790]/15, \n",
        "                     '05deg': (df_2105_05deg.values[790:1790]/15)[:, :80], \n",
        "                     '15deg': (df_2105_15deg.values[790:1790]/15)[:, :80], \n",
        "                     '25deg': (df_2105_25deg.values[790:1790]/15)[:, :80], \n",
        "                     '35deg': (df_2105_35deg.values[790:1790]/15)[:, :80], \n",
        "                     '45deg': (df_2105_45deg.values[790:1790]/15)[:, :80]},\n",
        "            '2115': {'rt': df_2115_rt.values[790:1790]/15, \n",
        "                     '1bar': df_2115_1bar.values[790:1790]/15, \n",
        "                     '2bar': df_2115_2bar.values[790:1790]/15, \n",
        "                     '4bar': df_2115_4bar.values[790:1790]/15, \n",
        "                     '6bar': df_2115_6bar.values[790:1790]/15, \n",
        "                     '05deg': (df_2115_05deg.values[790:1790]/15)[:, :80], \n",
        "                     '15deg': (df_2115_15deg.values[790:1790]/15)[:, :80], \n",
        "                     '25deg': (df_2115_25deg.values[790:1790]/15)[:, :80], \n",
        "                     '35deg': (df_2115_35deg.values[790:1790]/15)[:, :80], \n",
        "                     '45deg': (df_2115_45deg.values[790:1790]/15)[:, :80]}, \n",
        "            '2117': {'rt': df_2117_rt.values[790:1790]/15, \n",
        "                     '1bar': df_2117_1bar.values[790:1790]/15, \n",
        "                     '2bar': df_2117_2bar.values[790:1790]/15, \n",
        "                     '4bar': df_2117_4bar.values[790:1790]/15, \n",
        "                     '6bar': df_2117_6bar.values[790:1790]/15, \n",
        "                     '05deg': (df_2117_05deg.values[790:1790]/15)[:, :80], \n",
        "                     '15deg': (df_2117_15deg.values[790:1790]/15)[:, :80], \n",
        "                     '25deg': (df_2117_25deg.values[790:1790]/15)[:, :80], \n",
        "                     '35deg': (df_2117_35deg.values[790:1790]/15)[:, :80], \n",
        "                     '45deg': (df_2117_45deg.values[790:1790]/15)[:, :80]},\n",
        "            '2007': {'rt': df_2007_rt.values[790:1790]/15, \n",
        "                     '1bar': df_2007_1bar.values[790:1790]/15, \n",
        "                     '2bar': df_2007_2bar.values[790:1790]/15, \n",
        "                     '3bar': df_2007_3bar.values[790:1790]/15, \n",
        "                     '4bar': df_2007_4bar.values[790:1790]/15, \n",
        "                     '05deg': (df_2007_05deg.values[790:1790]/15)[:, :80], \n",
        "                     '15deg': (df_2007_15deg.values[790:1790]/15)[:, :80], \n",
        "                     '25deg': (df_2007_25deg.values[790:1790]/15)[:, :80], \n",
        "                     '35deg': (df_2007_35deg.values[790:1790]/15)[:, :80], \n",
        "                     '45deg': (df_2007_45deg.values[790:1790]/15)[:, :80]},\n",
        "            '2010': {'rt': df_2010_rt.values[790:1790]/15, \n",
        "                     '1bar': df_2010_1bar.values[790:1790]/15, \n",
        "                     '2bar': df_2010_2bar.values[790:1790]/15, \n",
        "                     '3bar': df_2010_3bar.values[790:1790]/15, \n",
        "                     '4bar': df_2010_4bar.values[790:1790]/15, \n",
        "                     '05deg': (df_2010_05deg.values[790:1790]/15)[:, :80], \n",
        "                     '15deg': (df_2010_15deg.values[790:1790]/15)[:, :80], \n",
        "                     '25deg': (df_2010_25deg.values[790:1790]/15)[:, :80], \n",
        "                     '35deg': (df_2010_35deg.values[790:1790]/15)[:, :80], \n",
        "                     '45deg': (df_2010_45deg.values[790:1790]/15)[:, :80]},\n",
        "            '2016': {'rt': df_2016_rt.values[790:1790]/15, \n",
        "                     '1bar': df_2016_1bar.values[790:1790]/15, \n",
        "                     '2bar': df_2016_2bar.values[790:1790]/15, \n",
        "                     '3bar': df_2016_3bar.values[790:1790]/15, \n",
        "                     '4bar': df_2016_4bar.values[790:1790]/15, \n",
        "                     '05deg': (df_2016_05deg.values[790:1790]/15)[:, :80], \n",
        "                     '15deg': (df_2016_15deg.values[790:1790]/15)[:, :80], \n",
        "                     '25deg': (df_2016_25deg.values[790:1790]/15)[:, :80], \n",
        "                     '35deg': (df_2016_35deg.values[790:1790]/15)[:, :80], \n",
        "                     '45deg': (df_2016_45deg.values[790:1790]/15)[:, :80]},\n",
        "            '2017': {'rt': df_2017_rt.values[790:1790]/15, \n",
        "                     '1bar': df_2017_1bar.values[790:1790]/15, \n",
        "                     '2bar': df_2017_2bar.values[790:1790]/15, \n",
        "                     '3bar': df_2017_3bar.values[790:1790]/15, \n",
        "                     '4bar': df_2017_4bar.values[790:1790]/15, \n",
        "                     '05deg': (df_2017_05deg.values[790:1790]/15)[:, :80], \n",
        "                     '15deg': (df_2017_15deg.values[790:1790]/15)[:, :80], \n",
        "                     '25deg': (df_2017_25deg.values[790:1790]/15)[:, :80], \n",
        "                     '35deg': (df_2017_35deg.values[790:1790]/15)[:, :80], \n",
        "                     '45deg': (df_2017_45deg.values[790:1790]/15)[:, :80]},\n",
        "            '2021': {'rt': df_2021_rt.values[790:1790]/15, \n",
        "                     '1bar': df_2021_1bar.values[790:1790]/15, \n",
        "                     '2bar': df_2021_2bar.values[790:1790]/15, \n",
        "                     '3bar': df_2021_3bar.values[790:1790]/15, \n",
        "                     '4bar': df_2021_4bar.values[790:1790]/15, \n",
        "                     '05deg': (df_2021_05deg.values[790:1790]/15)[:, :80], \n",
        "                     '15deg': (df_2021_15deg.values[790:1790]/15)[:, :80], \n",
        "                     '25deg': (df_2021_25deg.values[790:1790]/15)[:, :80], \n",
        "                     '35deg': (df_2021_35deg.values[790:1790]/15)[:, :80], \n",
        "                     '45deg': (df_2021_45deg.values[790:1790]/15)[:, :80]},\n",
        "            '2008': {'rt': df_2008_rt.values[790:1790]/4, \n",
        "                     '1bar': df_2008_1bar.values[790:1790]/4, \n",
        "                     '2bar': df_2008_2bar.values[790:1790]/4, \n",
        "                     '3bar': df_2008_3bar.values[790:1790]/4, \n",
        "                     '4bar': df_2008_4bar.values[790:1790]/4, \n",
        "                     '05deg': (df_2008_05deg.values[790:1790]/4)[:, :80], \n",
        "                     '15deg': (df_2008_15deg.values[790:1790]/4)[:, :80], \n",
        "                     '25deg': (df_2008_25deg.values[790:1790]/4)[:, :80], \n",
        "                     '35deg': (df_2008_35deg.values[790:1790]/4)[:, :80], \n",
        "                     '45deg': (df_2008_45deg.values[790:1790]/4)[:, :80]},\n",
        "            '2009': {'rt': df_2009_rt.values[790:1790]/4, \n",
        "                     '1bar': df_2009_1bar.values[790:1790]/4, \n",
        "                     '2bar': df_2009_2bar.values[790:1790]/4, \n",
        "                     '3bar': df_2009_3bar.values[790:1790]/4, \n",
        "                     '4bar': df_2009_4bar.values[790:1790]/4, \n",
        "                     '05deg': (df_2009_05deg.values[790:1790]/4)[:, :80], \n",
        "                     '15deg': (df_2009_15deg.values[790:1790]/4)[:, :80], \n",
        "                     '25deg': (df_2009_25deg.values[790:1790]/4)[:, :80], \n",
        "                     '35deg': (df_2009_35deg.values[790:1790]/4)[:, :80], \n",
        "                     '45deg': (df_2009_45deg.values[790:1790]/4)[:, :80]}\n",
        "           }"
      ],
      "execution_count": null,
      "outputs": []
    },
    {
      "cell_type": "markdown",
      "metadata": {
        "id": "dv_1jS5rba5_",
        "colab_type": "text"
      },
      "source": [
        "# Define labels for all the classes"
      ]
    },
    {
      "cell_type": "code",
      "metadata": {
        "id": "r-Q-xWKSsane",
        "colab_type": "code",
        "colab": {}
      },
      "source": [
        "# dict for valve labels \n",
        "label_dict = {'2103': 0, \n",
        "              '2105': 1, \n",
        "              '2115': 2, \n",
        "              '2117': 3, \n",
        "              '2007': 4, \n",
        "              '2010': 5, \n",
        "              '2016': 6, \n",
        "              '2017': 7, \n",
        "              '2021': 8, \n",
        "              '2008': 9, \n",
        "              '2009': 10}"
      ],
      "execution_count": null,
      "outputs": []
    },
    {
      "cell_type": "markdown",
      "metadata": {
        "id": "yB6_3Pvcx8rc",
        "colab_type": "text"
      },
      "source": [
        "# Without added Gaussian noise"
      ]
    },
    {
      "cell_type": "code",
      "metadata": {
        "id": "c8fhgPmFsanh",
        "colab_type": "code",
        "colab": {}
      },
      "source": [
        " # Preparing the training and validation sets\n",
        " \n",
        "training_data = []\n",
        "training_labels = []\n",
        "param_temperature = []\n",
        "param_pressure = []\n",
        "val_param_temp = []\n",
        "val_param_press = []\n",
        "validation_data = []\n",
        "validation_labels = []\n",
        "for i in range(0, 100):\n",
        "    for valve in dataDict.keys():\n",
        "        for param in dataDict[valve].keys():\n",
        "            if 'deg' in param:\n",
        "                t_str = param.split('d')[0]\n",
        "                if (i<50):\n",
        "                    training_data.append(dataDict[valve][param][:,i])\n",
        "                    param_temperature.append(int(t_str))\n",
        "                    param_pressure.append(1.01)\n",
        "                    training_labels.append(label_dict[valve])\n",
        "                elif (i<80):\n",
        "                    validation_data.append(dataDict[valve][param][:,i])\n",
        "                    val_param_temp.append(int(t_str))\n",
        "                    val_param_press.append(1.01)\n",
        "                    validation_labels.append(label_dict[valve])\n",
        "                else: \n",
        "                    pass\n",
        "            else:\n",
        "                if 'bar' in param:\n",
        "                    p_str = param.split('b')[0]\n",
        "                elif 'rt' in param:\n",
        "                    p_str = '1.01'\n",
        "                else:\n",
        "                    pass\n",
        "                if (i<70):\n",
        "                    training_data.append(dataDict[valve][param][:,i])\n",
        "                    param_temperature.append(22)\n",
        "                    param_pressure.append(float(p_str))\n",
        "                    training_labels.append(label_dict[valve])\n",
        "                else:\n",
        "                    validation_data.append(dataDict[valve][param][:,i])\n",
        "                    val_param_temp.append(22)\n",
        "                    val_param_press.append(float(p_str))\n",
        "                    validation_labels.append(label_dict[valve])"
      ],
      "execution_count": null,
      "outputs": []
    },
    {
      "cell_type": "markdown",
      "metadata": {
        "id": "BB7RM1UAx_mR",
        "colab_type": "text"
      },
      "source": [
        "# With added Gaussian noise"
      ]
    },
    {
      "cell_type": "code",
      "metadata": {
        "id": "j3S65FbivPcT",
        "colab_type": "code",
        "colab": {}
      },
      "source": [
        "def add_noise():\n",
        "    mul_factor = 0.002\n",
        "    # with window => 1000, without window => 2000\n",
        "    noise = mul_factor * np.random.normal(0,1,1000)\n",
        "    return noise\n",
        "\n",
        "# Preparing the training and validation sets\n",
        "training_data = []\n",
        "training_labels = []\n",
        "param_temperature = []\n",
        "param_pressure = []\n",
        "val_param_temp = []\n",
        "val_param_press = []\n",
        "validation_data = []\n",
        "validation_labels = []\n",
        "for i in range(0, 100):\n",
        "    for valve in dataDict.keys():\n",
        "        for param in dataDict[valve].keys():\n",
        "            if 'deg' in param:\n",
        "                t_str = param.split('d')[0]\n",
        "                if (i<50):\n",
        "                    training_data.append(dataDict[valve][param][:,i] + add_noise())\n",
        "                    param_temperature.append(int(t_str))\n",
        "                    param_pressure.append(1.01)\n",
        "                    training_labels.append(label_dict[valve])\n",
        "                elif (i<80):\n",
        "                    validation_data.append(dataDict[valve][param][:,i] + add_noise())\n",
        "                    val_param_temp.append(int(t_str))\n",
        "                    val_param_press.append(1.01)\n",
        "                    validation_labels.append(label_dict[valve])\n",
        "                else: \n",
        "                    pass\n",
        "            else:\n",
        "                if 'bar' in param:\n",
        "                    p_str = param.split('b')[0]\n",
        "                elif 'rt' in param:\n",
        "                    p_str = '1.01'\n",
        "                else:\n",
        "                    pass\n",
        "                if (i<70):\n",
        "                    training_data.append(dataDict[valve][param][:,i] + add_noise())\n",
        "                    param_temperature.append(22)\n",
        "                    param_pressure.append(float(p_str))\n",
        "                    training_labels.append(label_dict[valve])\n",
        "                else:\n",
        "                    validation_data.append(dataDict[valve][param][:,i] + add_noise())\n",
        "                    val_param_temp.append(22)\n",
        "                    val_param_press.append(float(p_str))\n",
        "                    validation_labels.append(label_dict[valve])"
      ],
      "execution_count": null,
      "outputs": []
    },
    {
      "cell_type": "markdown",
      "metadata": {
        "id": "p76sSis2b0UM",
        "colab_type": "text"
      },
      "source": [
        "# Continue with data organization"
      ]
    },
    {
      "cell_type": "code",
      "metadata": {
        "id": "Y7ngXldq8ONl",
        "colab_type": "code",
        "colab": {}
      },
      "source": [
        "param_temperature = np.array(param_temperature)\n",
        "param_pressure = np.array(param_pressure)\n",
        "val_param_temp = np.array(val_param_temp)\n",
        "val_param_press = np.array(val_param_press)\n",
        "param_pressure = np.reshape(param_pressure,(param_pressure.shape[0], 1))\n",
        "param_temperature = np.reshape(param_temperature, (param_temperature.shape[0], 1))\n",
        "val_param_press = np.reshape(val_param_press, (val_param_press.shape[0], 1))\n",
        "val_param_temp = np.reshape(val_param_temp, (val_param_temp.shape[0], 1))"
      ],
      "execution_count": null,
      "outputs": []
    },
    {
      "cell_type": "code",
      "metadata": {
        "id": "Mlu4Leoesanl",
        "colab_type": "code",
        "colab": {}
      },
      "source": [
        "X_train = np.array(training_data, dtype='float')\n",
        "y_train = np.array(training_labels)\n",
        "y_train = to_categorical(y_train, num_classes=11)\n",
        "\n",
        "X_val = np.array(validation_data, dtype='float')\n",
        "y_val = np.array(validation_labels)\n",
        "y_val = to_categorical(y_val, num_classes=11)\n",
        "\n",
        "# change shape for conv1D\n",
        "X_train = np.reshape(X_train, (X_train.shape[0], X_train.shape[1],1))\n",
        "X_val = np.reshape(X_val, (X_val.shape[0], X_val.shape[1],1))"
      ],
      "execution_count": null,
      "outputs": []
    },
    {
      "cell_type": "code",
      "metadata": {
        "id": "zMcuxm2osan1",
        "colab_type": "code",
        "colab": {}
      },
      "source": [
        "#shuffle randomly\n",
        "train_indices = np.arange(X_train.shape[0])\n",
        "np.random.shuffle(train_indices)\n",
        "X_train = X_train[train_indices]\n",
        "y_train = y_train[train_indices]\n",
        "param_temperature = param_temperature[train_indices]\n",
        "param_pressure = param_pressure[train_indices]\n",
        "\n",
        "valid_indices = np.arange(X_val.shape[0])\n",
        "np.random.shuffle(valid_indices)\n",
        "X_val = X_val[valid_indices]\n",
        "y_val = y_val[valid_indices]\n",
        "val_param_press = val_param_press[valid_indices]\n",
        "val_param_temp = val_param_temp[valid_indices]"
      ],
      "execution_count": null,
      "outputs": []
    },
    {
      "cell_type": "markdown",
      "metadata": {
        "id": "hLHMqBv9cDPF",
        "colab_type": "text"
      },
      "source": [
        "# Define model and start training"
      ]
    },
    {
      "cell_type": "code",
      "metadata": {
        "id": "3_GvCs7tsan5",
        "colab_type": "code",
        "colab": {
          "base_uri": "https://localhost:8080/",
          "height": 1000
        },
        "outputId": "cfef8e6b-99ca-45d7-fb7d-3d5490a206ae"
      },
      "source": [
        "# Defining the model with Functional API\n",
        "opt = Adam(learning_rate=0.0008, decay = 1e-3)\n",
        "\n",
        "main_input = tf.keras.Input(shape=(1000,1), name='main_input')\n",
        "pressure_input = tf.keras.Input(shape=(1,), name='pressure_input')\n",
        "temperature_input = tf.keras.Input(shape=(1,), name='temperature_input')\n",
        "\n",
        "x = Conv1D(filters=32, kernel_size=8, activation='relu', input_shape=(X_train.shape[1], 1))(main_input)\n",
        "x = Conv1D(filters=64, kernel_size=4, activation='relu')(x)\n",
        "x = MaxPooling1D(pool_size=2)(x)\n",
        "x = Conv1D(filters=64, kernel_size=4, activation='relu')(x)\n",
        "x = MaxPooling1D(pool_size=2)(x)\n",
        "conv_out1 = Flatten()(x)\n",
        "\n",
        "x = tf.keras.layers.concatenate([conv_out1, pressure_input, temperature_input])\n",
        "\n",
        "x = Dense(32, activation='relu')(x)\n",
        "x = Dense(16, activation = 'relu')(x)\n",
        "outputs = Dense(11, activation='softmax')(x)\n",
        "\n",
        "model = tf.keras.Model(inputs=[main_input, pressure_input, temperature_input], outputs=outputs)\n",
        "\n",
        "earlyStopping = EarlyStopping(monitor='val_loss',min_delta=0, patience=10, mode='auto')\n",
        "\n",
        "model.compile(optimizer=opt, loss='categorical_crossentropy', metrics=['accuracy'])\n",
        "model.summary()\n",
        "\n",
        "history = model.fit(x=[X_train, param_pressure, param_temperature], y=y_train, epochs=200, \n",
        "                    validation_data=([X_val, val_param_press, val_param_temp], y_val), batch_size = 128, \n",
        "                    verbose = 2, callbacks=[earlyStopping])"
      ],
      "execution_count": null,
      "outputs": [
        {
          "output_type": "stream",
          "text": [
            "WARNING:tensorflow:From /usr/local/lib/python3.6/dist-packages/tensorflow_core/python/ops/resource_variable_ops.py:1630: calling BaseResourceVariable.__init__ (from tensorflow.python.ops.resource_variable_ops) with constraint is deprecated and will be removed in a future version.\n",
            "Instructions for updating:\n",
            "If using Keras pass *_constraint arguments to layers.\n",
            "Model: \"model\"\n",
            "__________________________________________________________________________________________________\n",
            "Layer (type)                    Output Shape         Param #     Connected to                     \n",
            "==================================================================================================\n",
            "main_input (InputLayer)         [(None, 1000, 1)]    0                                            \n",
            "__________________________________________________________________________________________________\n",
            "conv1d (Conv1D)                 (None, 993, 32)      288         main_input[0][0]                 \n",
            "__________________________________________________________________________________________________\n",
            "conv1d_1 (Conv1D)               (None, 990, 64)      8256        conv1d[0][0]                     \n",
            "__________________________________________________________________________________________________\n",
            "max_pooling1d (MaxPooling1D)    (None, 495, 64)      0           conv1d_1[0][0]                   \n",
            "__________________________________________________________________________________________________\n",
            "conv1d_2 (Conv1D)               (None, 492, 64)      16448       max_pooling1d[0][0]              \n",
            "__________________________________________________________________________________________________\n",
            "max_pooling1d_1 (MaxPooling1D)  (None, 246, 64)      0           conv1d_2[0][0]                   \n",
            "__________________________________________________________________________________________________\n",
            "flatten (Flatten)               (None, 15744)        0           max_pooling1d_1[0][0]            \n",
            "__________________________________________________________________________________________________\n",
            "pressure_input (InputLayer)     [(None, 1)]          0                                            \n",
            "__________________________________________________________________________________________________\n",
            "temperature_input (InputLayer)  [(None, 1)]          0                                            \n",
            "__________________________________________________________________________________________________\n",
            "concatenate (Concatenate)       (None, 15746)        0           flatten[0][0]                    \n",
            "                                                                 pressure_input[0][0]             \n",
            "                                                                 temperature_input[0][0]          \n",
            "__________________________________________________________________________________________________\n",
            "dense (Dense)                   (None, 32)           503904      concatenate[0][0]                \n",
            "__________________________________________________________________________________________________\n",
            "dense_1 (Dense)                 (None, 16)           528         dense[0][0]                      \n",
            "__________________________________________________________________________________________________\n",
            "dense_2 (Dense)                 (None, 11)           187         dense_1[0][0]                    \n",
            "==================================================================================================\n",
            "Total params: 529,611\n",
            "Trainable params: 529,611\n",
            "Non-trainable params: 0\n",
            "__________________________________________________________________________________________________\n",
            "Train on 6600 samples, validate on 3300 samples\n",
            "Epoch 1/200\n",
            "6600/6600 - 5s - loss: 2.2038 - acc: 0.1711 - val_loss: 1.9334 - val_acc: 0.2079\n",
            "Epoch 2/200\n",
            "6600/6600 - 2s - loss: 1.7609 - acc: 0.3023 - val_loss: 1.5695 - val_acc: 0.3727\n",
            "Epoch 3/200\n",
            "6600/6600 - 2s - loss: 1.4248 - acc: 0.4285 - val_loss: 1.2575 - val_acc: 0.4703\n",
            "Epoch 4/200\n",
            "6600/6600 - 2s - loss: 1.1958 - acc: 0.5291 - val_loss: 1.1831 - val_acc: 0.5242\n",
            "Epoch 5/200\n",
            "6600/6600 - 2s - loss: 1.0549 - acc: 0.5961 - val_loss: 1.0243 - val_acc: 0.6061\n",
            "Epoch 6/200\n",
            "6600/6600 - 2s - loss: 0.9765 - acc: 0.6274 - val_loss: 0.8736 - val_acc: 0.6670\n",
            "Epoch 7/200\n",
            "6600/6600 - 2s - loss: 0.8550 - acc: 0.6933 - val_loss: 0.7624 - val_acc: 0.7079\n",
            "Epoch 8/200\n",
            "6600/6600 - 2s - loss: 0.8088 - acc: 0.6986 - val_loss: 0.7981 - val_acc: 0.7373\n",
            "Epoch 9/200\n",
            "6600/6600 - 2s - loss: 0.7392 - acc: 0.7389 - val_loss: 0.6936 - val_acc: 0.7642\n",
            "Epoch 10/200\n",
            "6600/6600 - 2s - loss: 0.6794 - acc: 0.7644 - val_loss: 0.7089 - val_acc: 0.7245\n",
            "Epoch 11/200\n",
            "6600/6600 - 2s - loss: 0.6138 - acc: 0.7915 - val_loss: 0.4932 - val_acc: 0.8624\n",
            "Epoch 12/200\n",
            "6600/6600 - 2s - loss: 0.5424 - acc: 0.8259 - val_loss: 0.4781 - val_acc: 0.8515\n",
            "Epoch 13/200\n",
            "6600/6600 - 2s - loss: 0.4989 - acc: 0.8229 - val_loss: 0.5398 - val_acc: 0.7709\n",
            "Epoch 14/200\n",
            "6600/6600 - 2s - loss: 0.4699 - acc: 0.8473 - val_loss: 0.4176 - val_acc: 0.8391\n",
            "Epoch 15/200\n",
            "6600/6600 - 2s - loss: 0.4072 - acc: 0.8777 - val_loss: 0.4053 - val_acc: 0.8591\n",
            "Epoch 16/200\n",
            "6600/6600 - 2s - loss: 0.3930 - acc: 0.8727 - val_loss: 0.3375 - val_acc: 0.8994\n",
            "Epoch 17/200\n",
            "6600/6600 - 2s - loss: 0.3490 - acc: 0.8924 - val_loss: 0.2711 - val_acc: 0.9330\n",
            "Epoch 18/200\n",
            "6600/6600 - 2s - loss: 0.3388 - acc: 0.8888 - val_loss: 0.3210 - val_acc: 0.8930\n",
            "Epoch 19/200\n",
            "6600/6600 - 2s - loss: 0.2737 - acc: 0.9248 - val_loss: 0.2262 - val_acc: 0.9409\n",
            "Epoch 20/200\n",
            "6600/6600 - 2s - loss: 0.2733 - acc: 0.9170 - val_loss: 0.2782 - val_acc: 0.8997\n",
            "Epoch 21/200\n",
            "6600/6600 - 2s - loss: 0.2530 - acc: 0.9258 - val_loss: 0.2319 - val_acc: 0.9352\n",
            "Epoch 22/200\n",
            "6600/6600 - 2s - loss: 0.2552 - acc: 0.9162 - val_loss: 0.1959 - val_acc: 0.9494\n",
            "Epoch 23/200\n",
            "6600/6600 - 2s - loss: 0.2298 - acc: 0.9298 - val_loss: 0.1828 - val_acc: 0.9421\n",
            "Epoch 24/200\n",
            "6600/6600 - 2s - loss: 0.2369 - acc: 0.9217 - val_loss: 0.1981 - val_acc: 0.9491\n",
            "Epoch 25/200\n",
            "6600/6600 - 2s - loss: 0.1987 - acc: 0.9376 - val_loss: 0.2091 - val_acc: 0.9303\n",
            "Epoch 26/200\n",
            "6600/6600 - 2s - loss: 0.2021 - acc: 0.9342 - val_loss: 0.1843 - val_acc: 0.9497\n",
            "Epoch 27/200\n",
            "6600/6600 - 2s - loss: 0.1861 - acc: 0.9421 - val_loss: 0.1899 - val_acc: 0.9406\n",
            "Epoch 28/200\n",
            "6600/6600 - 2s - loss: 0.1920 - acc: 0.9397 - val_loss: 0.1646 - val_acc: 0.9436\n",
            "Epoch 29/200\n",
            "6600/6600 - 2s - loss: 0.1614 - acc: 0.9567 - val_loss: 0.1295 - val_acc: 0.9721\n",
            "Epoch 30/200\n",
            "6600/6600 - 2s - loss: 0.1586 - acc: 0.9548 - val_loss: 0.1402 - val_acc: 0.9642\n",
            "Epoch 31/200\n",
            "6600/6600 - 2s - loss: 0.1517 - acc: 0.9556 - val_loss: 0.1179 - val_acc: 0.9679\n",
            "Epoch 32/200\n",
            "6600/6600 - 2s - loss: 0.1504 - acc: 0.9541 - val_loss: 0.1175 - val_acc: 0.9594\n",
            "Epoch 33/200\n",
            "6600/6600 - 2s - loss: 0.1331 - acc: 0.9670 - val_loss: 0.1194 - val_acc: 0.9652\n",
            "Epoch 34/200\n",
            "6600/6600 - 2s - loss: 0.1505 - acc: 0.9517 - val_loss: 0.1449 - val_acc: 0.9324\n",
            "Epoch 35/200\n",
            "6600/6600 - 2s - loss: 0.1287 - acc: 0.9617 - val_loss: 0.1114 - val_acc: 0.9685\n",
            "Epoch 36/200\n",
            "6600/6600 - 2s - loss: 0.1283 - acc: 0.9592 - val_loss: 0.1316 - val_acc: 0.9455\n",
            "Epoch 37/200\n",
            "6600/6600 - 2s - loss: 0.1337 - acc: 0.9592 - val_loss: 0.1180 - val_acc: 0.9479\n",
            "Epoch 38/200\n",
            "6600/6600 - 2s - loss: 0.1310 - acc: 0.9571 - val_loss: 0.0999 - val_acc: 0.9830\n",
            "Epoch 39/200\n",
            "6600/6600 - 2s - loss: 0.1267 - acc: 0.9580 - val_loss: 0.1549 - val_acc: 0.9209\n",
            "Epoch 40/200\n",
            "6600/6600 - 2s - loss: 0.1237 - acc: 0.9633 - val_loss: 0.1096 - val_acc: 0.9685\n",
            "Epoch 41/200\n",
            "6600/6600 - 2s - loss: 0.1164 - acc: 0.9664 - val_loss: 0.0972 - val_acc: 0.9579\n",
            "Epoch 42/200\n",
            "6600/6600 - 2s - loss: 0.1078 - acc: 0.9688 - val_loss: 0.1083 - val_acc: 0.9576\n",
            "Epoch 43/200\n",
            "6600/6600 - 2s - loss: 0.1115 - acc: 0.9656 - val_loss: 0.1545 - val_acc: 0.9142\n",
            "Epoch 44/200\n",
            "6600/6600 - 2s - loss: 0.1152 - acc: 0.9638 - val_loss: 0.0914 - val_acc: 0.9800\n",
            "Epoch 45/200\n",
            "6600/6600 - 2s - loss: 0.1255 - acc: 0.9533 - val_loss: 0.1647 - val_acc: 0.9076\n",
            "Epoch 46/200\n",
            "6600/6600 - 2s - loss: 0.1128 - acc: 0.9639 - val_loss: 0.0814 - val_acc: 0.9836\n",
            "Epoch 47/200\n",
            "6600/6600 - 2s - loss: 0.0972 - acc: 0.9742 - val_loss: 0.0832 - val_acc: 0.9858\n",
            "Epoch 48/200\n",
            "6600/6600 - 2s - loss: 0.1059 - acc: 0.9685 - val_loss: 0.0771 - val_acc: 0.9885\n",
            "Epoch 49/200\n",
            "6600/6600 - 2s - loss: 0.0911 - acc: 0.9795 - val_loss: 0.1275 - val_acc: 0.9370\n",
            "Epoch 50/200\n",
            "6600/6600 - 2s - loss: 0.0910 - acc: 0.9798 - val_loss: 0.0855 - val_acc: 0.9591\n",
            "Epoch 51/200\n",
            "6600/6600 - 2s - loss: 0.0960 - acc: 0.9758 - val_loss: 0.0872 - val_acc: 0.9524\n",
            "Epoch 52/200\n",
            "6600/6600 - 2s - loss: 0.0810 - acc: 0.9870 - val_loss: 0.0816 - val_acc: 0.9718\n",
            "Epoch 53/200\n",
            "6600/6600 - 2s - loss: 0.0802 - acc: 0.9868 - val_loss: 0.0760 - val_acc: 0.9855\n",
            "Epoch 54/200\n",
            "6600/6600 - 2s - loss: 0.0735 - acc: 0.9912 - val_loss: 0.0799 - val_acc: 0.9770\n",
            "Epoch 55/200\n",
            "6600/6600 - 2s - loss: 0.0768 - acc: 0.9844 - val_loss: 0.0724 - val_acc: 0.9839\n",
            "Epoch 56/200\n",
            "6600/6600 - 2s - loss: 0.0832 - acc: 0.9802 - val_loss: 0.0645 - val_acc: 0.9927\n",
            "Epoch 57/200\n",
            "6600/6600 - 2s - loss: 0.0726 - acc: 0.9865 - val_loss: 0.0783 - val_acc: 0.9821\n",
            "Epoch 58/200\n",
            "6600/6600 - 2s - loss: 0.0829 - acc: 0.9744 - val_loss: 0.0919 - val_acc: 0.9797\n",
            "Epoch 59/200\n",
            "6600/6600 - 2s - loss: 0.0859 - acc: 0.9759 - val_loss: 0.0714 - val_acc: 0.9903\n",
            "Epoch 60/200\n",
            "6600/6600 - 2s - loss: 0.0706 - acc: 0.9871 - val_loss: 0.0656 - val_acc: 0.9861\n",
            "Epoch 61/200\n",
            "6600/6600 - 2s - loss: 0.0646 - acc: 0.9886 - val_loss: 0.0701 - val_acc: 0.9842\n",
            "Epoch 62/200\n",
            "6600/6600 - 2s - loss: 0.0641 - acc: 0.9861 - val_loss: 0.0736 - val_acc: 0.9824\n",
            "Epoch 63/200\n",
            "6600/6600 - 2s - loss: 0.0593 - acc: 0.9912 - val_loss: 0.0764 - val_acc: 0.9845\n",
            "Epoch 64/200\n",
            "6600/6600 - 2s - loss: 0.0632 - acc: 0.9879 - val_loss: 0.0596 - val_acc: 0.9924\n",
            "Epoch 65/200\n",
            "6600/6600 - 2s - loss: 0.0575 - acc: 0.9923 - val_loss: 0.0716 - val_acc: 0.9742\n",
            "Epoch 66/200\n",
            "6600/6600 - 2s - loss: 0.0803 - acc: 0.9729 - val_loss: 0.0791 - val_acc: 0.9767\n",
            "Epoch 67/200\n",
            "6600/6600 - 2s - loss: 0.0538 - acc: 0.9930 - val_loss: 0.0537 - val_acc: 0.9924\n",
            "Epoch 68/200\n",
            "6600/6600 - 2s - loss: 0.0787 - acc: 0.9752 - val_loss: 0.0573 - val_acc: 0.9900\n",
            "Epoch 69/200\n",
            "6600/6600 - 2s - loss: 0.0508 - acc: 0.9950 - val_loss: 0.0663 - val_acc: 0.9870\n",
            "Epoch 70/200\n",
            "6600/6600 - 2s - loss: 0.0523 - acc: 0.9927 - val_loss: 0.0558 - val_acc: 0.9918\n",
            "Epoch 71/200\n",
            "6600/6600 - 2s - loss: 0.0512 - acc: 0.9938 - val_loss: 0.0582 - val_acc: 0.9918\n",
            "Epoch 72/200\n",
            "6600/6600 - 2s - loss: 0.0505 - acc: 0.9948 - val_loss: 0.0538 - val_acc: 0.9918\n",
            "Epoch 73/200\n",
            "6600/6600 - 2s - loss: 0.0459 - acc: 0.9958 - val_loss: 0.0556 - val_acc: 0.9918\n",
            "Epoch 74/200\n",
            "6600/6600 - 2s - loss: 0.0490 - acc: 0.9932 - val_loss: 0.0641 - val_acc: 0.9891\n",
            "Epoch 75/200\n",
            "6600/6600 - 2s - loss: 0.0556 - acc: 0.9873 - val_loss: 0.0504 - val_acc: 0.9921\n",
            "Epoch 76/200\n",
            "6600/6600 - 2s - loss: 0.0421 - acc: 0.9973 - val_loss: 0.0629 - val_acc: 0.9779\n",
            "Epoch 77/200\n",
            "6600/6600 - 2s - loss: 0.0529 - acc: 0.9891 - val_loss: 0.0472 - val_acc: 0.9921\n",
            "Epoch 78/200\n",
            "6600/6600 - 2s - loss: 0.0581 - acc: 0.9876 - val_loss: 0.0455 - val_acc: 0.9924\n",
            "Epoch 79/200\n",
            "6600/6600 - 2s - loss: 0.0416 - acc: 0.9959 - val_loss: 0.0523 - val_acc: 0.9900\n",
            "Epoch 80/200\n",
            "6600/6600 - 2s - loss: 0.0413 - acc: 0.9948 - val_loss: 0.0521 - val_acc: 0.9921\n",
            "Epoch 81/200\n",
            "6600/6600 - 2s - loss: 0.0469 - acc: 0.9898 - val_loss: 0.0465 - val_acc: 0.9927\n",
            "Epoch 82/200\n",
            "6600/6600 - 2s - loss: 0.0399 - acc: 0.9958 - val_loss: 0.0591 - val_acc: 0.9897\n",
            "Epoch 83/200\n",
            "6600/6600 - 2s - loss: 0.0354 - acc: 0.9970 - val_loss: 0.0602 - val_acc: 0.9891\n",
            "Epoch 84/200\n",
            "6600/6600 - 2s - loss: 0.0424 - acc: 0.9944 - val_loss: 0.0464 - val_acc: 0.9921\n",
            "Epoch 85/200\n",
            "6600/6600 - 2s - loss: 0.0373 - acc: 0.9961 - val_loss: 0.0490 - val_acc: 0.9924\n",
            "Epoch 86/200\n",
            "6600/6600 - 2s - loss: 0.0335 - acc: 0.9982 - val_loss: 0.0519 - val_acc: 0.9915\n",
            "Epoch 87/200\n",
            "6600/6600 - 2s - loss: 0.0342 - acc: 0.9976 - val_loss: 0.0650 - val_acc: 0.9888\n",
            "Epoch 88/200\n",
            "6600/6600 - 2s - loss: 0.0315 - acc: 0.9985 - val_loss: 0.0509 - val_acc: 0.9924\n"
          ],
          "name": "stdout"
        }
      ]
    },
    {
      "cell_type": "markdown",
      "metadata": {
        "id": "Cz1IEciLH4sn",
        "colab_type": "text"
      },
      "source": [
        "# Plot metrics"
      ]
    },
    {
      "cell_type": "code",
      "metadata": {
        "id": "pw-Bcv_4san9",
        "colab_type": "code",
        "colab": {
          "base_uri": "https://localhost:8080/",
          "height": 901
        },
        "outputId": "d6fc5932-1518-49a8-edb7-028f8b77297a"
      },
      "source": [
        "# Plot Metrics\n",
        "import matplotlib.pyplot as plt\n",
        "plt.figure(figsize = (20,15))\n",
        "plt.subplot(2,1,1)\n",
        "plt.plot(history.history['acc'])\n",
        "plt.plot(history.history['val_acc'])\n",
        "plt.title('model accuracy')\n",
        "plt.ylabel('accuracy')\n",
        "plt.xlabel('epochs')\n",
        "plt.legend(['training', 'validation'], loc='upper left')\n",
        "plt.show()\n",
        "\n",
        "# summarize history for loss\n",
        "plt.figure(figsize = (20,15))\n",
        "plt.subplot(2,1,2)\n",
        "plt.plot(history.history['loss'])\n",
        "plt.plot(history.history['val_loss'])\n",
        "plt.title('model loss')\n",
        "plt.ylabel('loss')\n",
        "plt.xlabel('epochs')\n",
        "plt.legend(['training', 'validation'], loc='lower left')\n",
        "plt.show()"
      ],
      "execution_count": null,
      "outputs": [
        {
          "output_type": "display_data",
          "data": {
            "image/png": "[encoded data removed]",
            "text/plain": [
              "<Figure size 1440x1080 with 1 Axes>"
            ]
          },
          "metadata": {
            "tags": []
          }
        },
        {
          "output_type": "display_data",
          "data": {
            "image/png": "[encoded data removed]",
            "text/plain": [
              "<Figure size 1440x1080 with 1 Axes>"
            ]
          },
          "metadata": {
            "tags": []
          }
        }
      ]
    },
    {
      "cell_type": "markdown",
      "metadata": {
        "id": "TVyMy_hiclnj",
        "colab_type": "text"
      },
      "source": [
        "# Prepare test data"
      ]
    },
    {
      "cell_type": "code",
      "metadata": {
        "id": "zn6kNx8zsaoC",
        "colab_type": "code",
        "colab": {}
      },
      "source": [
        "# to predict: \n",
        "\n",
        "base_test_path = \"master_thesis_dataset/testData/\"\n",
        "\n",
        "t_cols = [i for i in range(1, 12)]\n",
        "tdf_2007_rt = pd.read_csv(base_test_path + '1020-07_10readings.csv', index_col=0, usecols=t_cols)\n",
        "tdf_2010_rt = pd.read_csv(base_test_path + '1020-10_10readings.csv', index_col=0, usecols=t_cols)\n",
        "tdf_2016_rt = pd.read_csv(base_test_path + '1020-16_10readings.csv', index_col=0, usecols=t_cols)\n",
        "tdf_2017_rt = pd.read_csv(base_test_path + '1020-17_10readings.csv', index_col=0, usecols=t_cols)\n",
        "tdf_2021_rt = pd.read_csv(base_test_path + '1020-21_10readings.csv', index_col=0, usecols=t_cols)\n",
        "tdf_2103_rt = pd.read_csv(base_test_path + '1021-03_10readings.csv', index_col=0, usecols=t_cols)\n",
        "tdf_2105_rt = pd.read_csv(base_test_path + '1021-05_10readings.csv', index_col=0, usecols=t_cols)\n",
        "tdf_2115_rt = pd.read_csv(base_test_path + '1021-15_10readings.csv', index_col=0, usecols=t_cols)\n",
        "tdf_2117_rt = pd.read_csv(base_test_path + '1021-17_10readings.csv', index_col=0, usecols=t_cols)\n",
        "tdf_2008_rt = pd.read_csv(base_test_path + '1020-08_10readings.csv', index_col=0, usecols=t_cols)\n",
        "tdf_2009_rt = pd.read_csv(base_test_path + '1020-09_10readings.csv', index_col=0, usecols=t_cols)\n",
        "\n",
        "test_path_pressure = \"master_thesis_dataset/pressureData/testData_pressure/\"\n",
        "\n",
        "# for 1bar :\n",
        "tdf_2103_1bar = pd.read_csv(test_path_pressure + '1021-03_1bar_20readings.csv', index_col=0, usecols=t_cols) \n",
        "tdf_2105_1bar = pd.read_csv(test_path_pressure + '1021-05_1bar_20readings.csv', index_col=0, usecols=t_cols)\n",
        "tdf_2115_1bar = pd.read_csv(test_path_pressure + '1021-15_1bar_20readings.csv', index_col=0, usecols=t_cols)\n",
        "tdf_2117_1bar = pd.read_csv(test_path_pressure + '1021-17_1bar_20readings.csv', index_col=0, usecols=t_cols)\n",
        "tdf_2007_1bar = pd.read_csv(test_path_pressure + '1020-07_1bar_20readings.csv', index_col=0, usecols=t_cols)\n",
        "tdf_2010_1bar = pd.read_csv(test_path_pressure + '1020-10_1bar_20readings.csv', index_col=0, usecols=t_cols)\n",
        "tdf_2016_1bar = pd.read_csv(test_path_pressure + '1020-16_1bar_20readings.csv', index_col=0, usecols=t_cols)\n",
        "tdf_2017_1bar = pd.read_csv(test_path_pressure + '1020-17_1bar_20readings.csv', index_col=0, usecols=t_cols)\n",
        "tdf_2021_1bar = pd.read_csv(test_path_pressure + '1020-21_1bar_20readings.csv', index_col=0, usecols=t_cols)\n",
        "tdf_2008_1bar = pd.read_csv(test_path_pressure + '1020-08_1bar_20readings.csv', index_col=0, usecols=t_cols)\n",
        "tdf_2009_1bar = pd.read_csv(test_path_pressure + '1020-09_1bar_20readings.csv', index_col=0, usecols=t_cols)\n",
        "\n",
        "# for 2 bar :\n",
        "tdf_2103_2bar = pd.read_csv(test_path_pressure + '1021-03_2bar_20readings.csv', index_col=0, usecols=t_cols) \n",
        "tdf_2105_2bar = pd.read_csv(test_path_pressure + '1021-05_2bar_20readings.csv', index_col=0, usecols=t_cols)\n",
        "tdf_2115_2bar = pd.read_csv(test_path_pressure + '1021-15_2bar_20readings.csv', index_col=0, usecols=t_cols)\n",
        "tdf_2117_2bar = pd.read_csv(test_path_pressure + '1021-17_2bar_20readings.csv', index_col=0, usecols=t_cols)\n",
        "tdf_2007_2bar = pd.read_csv(test_path_pressure + '1020-07_2bar_20readings.csv', index_col=0, usecols=t_cols)\n",
        "tdf_2010_2bar = pd.read_csv(test_path_pressure + '1020-10_2bar_20readings.csv', index_col=0, usecols=t_cols)\n",
        "tdf_2016_2bar = pd.read_csv(test_path_pressure + '1020-16_2bar_20readings.csv', index_col=0, usecols=t_cols)\n",
        "tdf_2017_2bar = pd.read_csv(test_path_pressure + '1020-17_2bar_20readings.csv', index_col=0, usecols=t_cols)\n",
        "tdf_2021_2bar = pd.read_csv(test_path_pressure + '1020-21_2bar_20readings.csv', index_col=0, usecols=t_cols)\n",
        "tdf_2008_2bar = pd.read_csv(test_path_pressure + '1020-08_2bar_20readings.csv', index_col=0, usecols=t_cols)\n",
        "tdf_2009_2bar = pd.read_csv(test_path_pressure + '1020-09_2bar_20readings.csv', index_col=0, usecols=t_cols)\n",
        "\n",
        "# for 3 bar :\n",
        "tdf_2007_3bar = pd.read_csv(test_path_pressure + '1020-07_3bar_20readings.csv', index_col=0, usecols=t_cols)\n",
        "tdf_2010_3bar = pd.read_csv(test_path_pressure + '1020-10_3bar_20readings.csv', index_col=0, usecols=t_cols)\n",
        "tdf_2016_3bar = pd.read_csv(test_path_pressure + '1020-16_3bar_20readings.csv', index_col=0, usecols=t_cols)\n",
        "tdf_2017_3bar = pd.read_csv(test_path_pressure + '1020-17_3bar_20readings.csv', index_col=0, usecols=t_cols)\n",
        "tdf_2021_3bar = pd.read_csv(test_path_pressure + '1020-21_3bar_20readings.csv', index_col=0, usecols=t_cols)\n",
        "tdf_2008_3bar = pd.read_csv(test_path_pressure + '1020-08_3bar_20readings.csv', index_col=0, usecols=t_cols)\n",
        "tdf_2009_3bar = pd.read_csv(test_path_pressure + '1020-09_3bar_20readings.csv', index_col=0, usecols=t_cols)\n",
        "\n",
        "# for 4 bar :\n",
        "tdf_2103_4bar = pd.read_csv(test_path_pressure + '1021-03_4bar_20readings.csv', index_col=0, usecols=t_cols)\n",
        "tdf_2105_4bar = pd.read_csv(test_path_pressure + '1021-05_4bar_20readings.csv', index_col=0, usecols=t_cols)\n",
        "tdf_2115_4bar = pd.read_csv(test_path_pressure + '1021-15_4bar_20readings.csv', index_col=0, usecols=t_cols)\n",
        "tdf_2117_4bar = pd.read_csv(test_path_pressure + '1021-17_4bar_20readings.csv', index_col=0, usecols=t_cols)\n",
        "tdf_2007_4bar = pd.read_csv(test_path_pressure + '1020-07_4bar_20readings.csv', index_col=0, usecols=t_cols)\n",
        "tdf_2010_4bar = pd.read_csv(test_path_pressure + '1020-10_4bar_20readings.csv', index_col=0, usecols=t_cols)\n",
        "tdf_2016_4bar = pd.read_csv(test_path_pressure + '1020-16_4bar_20readings.csv', index_col=0, usecols=t_cols)\n",
        "tdf_2017_4bar = pd.read_csv(test_path_pressure + '1020-17_4bar_20readings.csv', index_col=0, usecols=t_cols)\n",
        "tdf_2021_4bar = pd.read_csv(test_path_pressure + '1020-21_4bar_20readings.csv', index_col=0, usecols=t_cols)\n",
        "tdf_2008_4bar = pd.read_csv(test_path_pressure + '1020-08_4bar_20readings.csv', index_col=0, usecols=t_cols)\n",
        "tdf_2009_4bar = pd.read_csv(test_path_pressure + '1020-09_4bar_20readings.csv', index_col=0, usecols=t_cols)\n",
        "\n",
        "# for 6 bar :\n",
        "tdf_2103_6bar = pd.read_csv(test_path_pressure + '1021-03_6bar_20readings.csv', index_col=0, usecols=t_cols) \n",
        "tdf_2105_6bar = pd.read_csv(test_path_pressure + '1021-05_6bar_20readings.csv', index_col=0, usecols=t_cols)\n",
        "tdf_2115_6bar = pd.read_csv(test_path_pressure + '1021-15_6bar_20readings.csv', index_col=0, usecols=t_cols)\n",
        "tdf_2117_6bar = pd.read_csv(test_path_pressure + '1021-17_6bar_20readings.csv', index_col=0, usecols=t_cols)"
      ],
      "execution_count": null,
      "outputs": []
    },
    {
      "cell_type": "markdown",
      "metadata": {
        "id": "BXuykHr4saoG",
        "colab_type": "text"
      },
      "source": [
        "# Test data without window of inflection concept"
      ]
    },
    {
      "cell_type": "code",
      "metadata": {
        "id": "z0Lh5gP6saoH",
        "colab_type": "code",
        "colab": {}
      },
      "source": [
        "# preparing test data dictionary\n",
        "testData_dict = {'2103': {'rt': tdf_2103_rt.values/15, \n",
        "                          '1bar': tdf_2103_1bar.values/15, \n",
        "                          '2bar': tdf_2103_2bar.values/15, \n",
        "                          '4bar': tdf_2103_4bar.values/15, \n",
        "                          '6bar': tdf_2103_6bar.values/15,\n",
        "                          '05deg': (df_2103_05deg.values/15)[:, 80:],\n",
        "                          '15deg': (df_2103_15deg.values/15)[:, 80:], \n",
        "                          '25deg': (df_2103_25deg.values/15)[:, 80:], \n",
        "                          '35deg': (df_2103_35deg.values/15)[:, 80:], \n",
        "                          '45deg': (df_2103_45deg.values/15)[:, 80:]},\n",
        "                 '2105': {'rt': tdf_2105_rt.values/15, \n",
        "                          '1bar': tdf_2105_1bar.values/15, \n",
        "                          '2bar': tdf_2105_2bar.values/15, \n",
        "                          '4bar': tdf_2105_4bar.values/15, \n",
        "                          '6bar': tdf_2105_6bar.values/15,\n",
        "                          '05deg': (df_2105_05deg.values/15)[:, 80:],\n",
        "                          '15deg': (df_2105_15deg.values/15)[:, 80:], \n",
        "                          '25deg': (df_2105_25deg.values/15)[:, 80:], \n",
        "                          '35deg': (df_2105_35deg.values/15)[:, 80:], \n",
        "                          '45deg': (df_2105_45deg.values/15)[:, 80:]},\n",
        "                 '2115': {'rt': tdf_2115_rt.values/15, \n",
        "                          '1bar': tdf_2115_1bar.values/15, \n",
        "                          '2bar': tdf_2115_2bar.values/15, \n",
        "                          '4bar': tdf_2115_4bar.values/15, \n",
        "                          '6bar': tdf_2115_6bar.values/15,\n",
        "                          '05deg': (df_2115_05deg.values/15)[:, 80:],\n",
        "                          '15deg': (df_2115_15deg.values/15)[:, 80:], \n",
        "                          '25deg': (df_2115_25deg.values/15)[:, 80:], \n",
        "                          '35deg': (df_2115_35deg.values/15)[:, 80:], \n",
        "                          '45deg': (df_2115_45deg.values/15)[:, 80:]},\n",
        "                 '2117': {'rt': tdf_2117_rt.values/15, \n",
        "                          '1bar': tdf_2117_1bar.values/15, \n",
        "                          '2bar': tdf_2117_2bar.values/15, \n",
        "                          '4bar': tdf_2117_4bar.values/15, \n",
        "                          '6bar': tdf_2117_6bar.values/15,\n",
        "                          '05deg': (df_2117_05deg.values/15)[:, 80:],\n",
        "                          '15deg': (df_2117_15deg.values/15)[:, 80:], \n",
        "                          '25deg': (df_2117_25deg.values/15)[:, 80:], \n",
        "                          '35deg': (df_2117_35deg.values/15)[:, 80:], \n",
        "                          '45deg': (df_2117_45deg.values/15)[:, 80:]},\n",
        "                 '2007': {'rt': tdf_2007_rt.values/15, \n",
        "                          '1bar': tdf_2007_1bar.values/15, \n",
        "                          '2bar': tdf_2007_2bar.values/15, \n",
        "                          '3bar': tdf_2007_3bar.values/15, \n",
        "                          '4bar': tdf_2007_4bar.values/15,\n",
        "                          '05deg': (df_2007_05deg.values/15)[:, 80:],\n",
        "                          '15deg': (df_2007_15deg.values/15)[:, 80:], \n",
        "                          '25deg': (df_2007_25deg.values/15)[:, 80:], \n",
        "                          '35deg': (df_2007_35deg.values/15)[:, 80:], \n",
        "                          '45deg': (df_2007_45deg.values/15)[:, 80:]},\n",
        "                 '2010': {'rt': tdf_2010_rt.values/15, \n",
        "                          '1bar': tdf_2010_1bar.values/15, \n",
        "                          '2bar': tdf_2010_2bar.values/15, \n",
        "                          '3bar': tdf_2010_3bar.values/15, \n",
        "                          '4bar': tdf_2010_4bar.values/15,\n",
        "                          '05deg': (df_2010_05deg.values/15)[:, 80:],\n",
        "                          '15deg': (df_2010_15deg.values/15)[:, 80:], \n",
        "                          '25deg': (df_2010_25deg.values/15)[:, 80:], \n",
        "                          '35deg': (df_2010_35deg.values/15)[:, 80:], \n",
        "                          '45deg': (df_2010_45deg.values/15)[:, 80:]},\n",
        "                 '2016': {'rt': tdf_2016_rt.values/15, \n",
        "                          '1bar': tdf_2016_1bar.values/15, \n",
        "                          '2bar': tdf_2016_2bar.values/15, \n",
        "                          '3bar': tdf_2016_3bar.values/15, \n",
        "                          '4bar': tdf_2016_4bar.values/15,\n",
        "                          '05deg': (df_2016_05deg.values/15)[:, 80:],\n",
        "                          '15deg': (df_2016_15deg.values/15)[:, 80:], \n",
        "                          '25deg': (df_2016_25deg.values/15)[:, 80:], \n",
        "                          '35deg': (df_2016_35deg.values/15)[:, 80:], \n",
        "                          '45deg': (df_2016_45deg.values/15)[:, 80:]},\n",
        "                 '2017': {'rt': tdf_2017_rt.values/15, \n",
        "                          '1bar': tdf_2017_1bar.values/15, \n",
        "                          '2bar': tdf_2017_2bar.values/15, \n",
        "                          '3bar': tdf_2017_3bar.values/15, \n",
        "                          '4bar': tdf_2017_4bar.values/15,\n",
        "                          '05deg': (df_2017_05deg.values/15)[:, 80:],\n",
        "                          '15deg': (df_2017_15deg.values/15)[:, 80:], \n",
        "                          '25deg': (df_2017_25deg.values/15)[:, 80:], \n",
        "                          '35deg': (df_2017_35deg.values/15)[:, 80:], \n",
        "                          '45deg': (df_2017_45deg.values/15)[:, 80:]},\n",
        "                 '2021': {'rt': tdf_2021_rt.values/15, \n",
        "                          '1bar': tdf_2021_1bar.values/15, \n",
        "                          '2bar': tdf_2021_2bar.values/15, \n",
        "                          '3bar': tdf_2021_3bar.values/15, \n",
        "                          '4bar': tdf_2021_4bar.values/15,\n",
        "                          '05deg': (df_2021_05deg.values/15)[:, 80:],\n",
        "                          '15deg': (df_2021_15deg.values/15)[:, 80:], \n",
        "                          '25deg': (df_2021_25deg.values/15)[:, 80:], \n",
        "                          '35deg': (df_2021_35deg.values/15)[:, 80:], \n",
        "                          '45deg': (df_2021_45deg.values/15)[:, 80:]},\n",
        "                 '2008': {'rt': tdf_2008_rt.values/4, \n",
        "                          '1bar': tdf_2008_1bar.values/4, \n",
        "                          '2bar': tdf_2008_2bar.values/4, \n",
        "                          '3bar': tdf_2008_3bar.values/4, \n",
        "                          '4bar': tdf_2008_4bar.values/4,\n",
        "                          '05deg': (df_2008_05deg.values/4)[:, 80:],\n",
        "                          '15deg': (df_2008_15deg.values/4)[:, 80:], \n",
        "                          '25deg': (df_2008_25deg.values/4)[:, 80:], \n",
        "                          '35deg': (df_2008_35deg.values/4)[:, 80:], \n",
        "                          '45deg': (df_2008_45deg.values/4)[:, 80:]},\n",
        "                 '2009': {'rt': tdf_2009_rt.values/4, \n",
        "                          '1bar': tdf_2009_1bar.values/4, \n",
        "                          '2bar': tdf_2009_2bar.values/4, \n",
        "                          '3bar': tdf_2009_3bar.values/4, \n",
        "                          '4bar': tdf_2009_4bar.values/4,\n",
        "                          '05deg': (df_2009_05deg.values/4)[:, 80:],\n",
        "                          '15deg': (df_2009_15deg.values/4)[:, 80:], \n",
        "                          '25deg': (df_2009_25deg.values/4)[:, 80:], \n",
        "                          '35deg': (df_2009_35deg.values/4)[:, 80:], \n",
        "                          '45deg': (df_2009_45deg.values/4)[:, 80:]}\n",
        "                }"
      ],
      "execution_count": null,
      "outputs": []
    },
    {
      "cell_type": "markdown",
      "metadata": {
        "id": "mlpPunaJsaoK",
        "colab_type": "text"
      },
      "source": [
        "# Test data with window of inflection concept"
      ]
    },
    {
      "cell_type": "code",
      "metadata": {
        "id": "u4WN8hHXsaoL",
        "colab_type": "code",
        "colab": {}
      },
      "source": [
        "# preparing test data dictionary\n",
        "testData_dict = {'2103': {'rt': tdf_2103_rt.values[790:1790]/15, \n",
        "                          '1bar': tdf_2103_1bar.values[790:1790]/15, \n",
        "                          '2bar': tdf_2103_2bar.values[790:1790]/15, \n",
        "                          '4bar': tdf_2103_4bar.values[790:1790]/15, \n",
        "                          '6bar': tdf_2103_6bar.values[790:1790]/15,\n",
        "                          '05deg': (df_2103_05deg.values[790:1790]/15)[:, 80:],\n",
        "                          '15deg': (df_2103_15deg.values[790:1790]/15)[:, 80:], \n",
        "                          '25deg': (df_2103_25deg.values[790:1790]/15)[:, 80:], \n",
        "                          '35deg': (df_2103_35deg.values[790:1790]/15)[:, 80:], \n",
        "                          '45deg': (df_2103_45deg.values[790:1790]/15)[:, 80:]},\n",
        "                 '2105': {'rt': tdf_2105_rt.values[790:1790]/15, \n",
        "                          '1bar': tdf_2105_1bar.values[790:1790]/15, \n",
        "                          '2bar': tdf_2105_2bar.values[790:1790]/15, \n",
        "                          '4bar': tdf_2105_4bar.values[790:1790]/15, \n",
        "                          '6bar': tdf_2105_6bar.values[790:1790]/15,\n",
        "                          '05deg': (df_2105_05deg.values[790:1790]/15)[:, 80:],\n",
        "                          '15deg': (df_2105_15deg.values[790:1790]/15)[:, 80:], \n",
        "                          '25deg': (df_2105_25deg.values[790:1790]/15)[:, 80:], \n",
        "                          '35deg': (df_2105_35deg.values[790:1790]/15)[:, 80:], \n",
        "                          '45deg': (df_2105_45deg.values[790:1790]/15)[:, 80:]},\n",
        "                 '2115': {'rt': tdf_2115_rt.values[790:1790]/15, \n",
        "                          '1bar': tdf_2115_1bar.values[790:1790]/15, \n",
        "                          '2bar': tdf_2115_2bar.values[790:1790]/15, \n",
        "                          '4bar': tdf_2115_4bar.values[790:1790]/15, \n",
        "                          '6bar': tdf_2115_6bar.values[790:1790]/15,\n",
        "                          '05deg': (df_2115_05deg.values[790:1790]/15)[:, 80:],\n",
        "                          '15deg': (df_2115_15deg.values[790:1790]/15)[:, 80:], \n",
        "                          '25deg': (df_2115_25deg.values[790:1790]/15)[:, 80:], \n",
        "                          '35deg': (df_2115_35deg.values[790:1790]/15)[:, 80:], \n",
        "                          '45deg': (df_2115_45deg.values[790:1790]/15)[:, 80:]},\n",
        "                 '2117': {'rt': tdf_2117_rt.values[790:1790]/15, \n",
        "                          '1bar': tdf_2117_1bar.values[790:1790]/15, \n",
        "                          '2bar': tdf_2117_2bar.values[790:1790]/15, \n",
        "                          '4bar': tdf_2117_4bar.values[790:1790]/15, \n",
        "                          '6bar': tdf_2117_6bar.values[790:1790]/15,\n",
        "                          '05deg': (df_2117_05deg.values[790:1790]/15)[:, 80:],\n",
        "                          '15deg': (df_2117_15deg.values[790:1790]/15)[:, 80:], \n",
        "                          '25deg': (df_2117_25deg.values[790:1790]/15)[:, 80:], \n",
        "                          '35deg': (df_2117_35deg.values[790:1790]/15)[:, 80:], \n",
        "                          '45deg': (df_2117_45deg.values[790:1790]/15)[:, 80:]},\n",
        "                 '2007': {'rt': tdf_2007_rt.values[790:1790]/15, \n",
        "                          '1bar': tdf_2007_1bar.values[790:1790]/15, \n",
        "                          '2bar': tdf_2007_2bar.values[790:1790]/15, \n",
        "                          '3bar': tdf_2007_3bar.values[790:1790]/15, \n",
        "                          '4bar': tdf_2007_4bar.values[790:1790]/15,\n",
        "                          '05deg': (df_2007_05deg.values[790:1790]/15)[:, 80:],\n",
        "                          '15deg': (df_2007_15deg.values[790:1790]/15)[:, 80:], \n",
        "                          '25deg': (df_2007_25deg.values[790:1790]/15)[:, 80:], \n",
        "                          '35deg': (df_2007_35deg.values[790:1790]/15)[:, 80:], \n",
        "                          '45deg': (df_2007_45deg.values[790:1790]/15)[:, 80:]},\n",
        "                 '2010': {'rt': tdf_2010_rt.values[790:1790]/15, \n",
        "                          '1bar': tdf_2010_1bar.values[790:1790]/15, \n",
        "                          '2bar': tdf_2010_2bar.values[790:1790]/15, \n",
        "                          '3bar': tdf_2010_3bar.values[790:1790]/15, \n",
        "                          '4bar': tdf_2010_4bar.values[790:1790]/15,\n",
        "                          '05deg': (df_2010_05deg.values[790:1790]/15)[:, 80:],\n",
        "                          '15deg': (df_2010_15deg.values[790:1790]/15)[:, 80:], \n",
        "                          '25deg': (df_2010_25deg.values[790:1790]/15)[:, 80:], \n",
        "                          '35deg': (df_2010_35deg.values[790:1790]/15)[:, 80:], \n",
        "                          '45deg': (df_2010_45deg.values[790:1790]/15)[:, 80:]},\n",
        "                 '2016': {'rt': tdf_2016_rt.values[790:1790]/15, \n",
        "                          '1bar': tdf_2016_1bar.values[790:1790]/15, \n",
        "                          '2bar': tdf_2016_2bar.values[790:1790]/15, \n",
        "                          '3bar': tdf_2016_3bar.values[790:1790]/15, \n",
        "                          '4bar': tdf_2016_4bar.values[790:1790]/15,\n",
        "                          '05deg': (df_2016_05deg.values[790:1790]/15)[:, 80:],\n",
        "                          '15deg': (df_2016_15deg.values[790:1790]/15)[:, 80:], \n",
        "                          '25deg': (df_2016_25deg.values[790:1790]/15)[:, 80:], \n",
        "                          '35deg': (df_2016_35deg.values[790:1790]/15)[:, 80:], \n",
        "                          '45deg': (df_2016_45deg.values[790:1790]/15)[:, 80:]},\n",
        "                 '2017': {'rt': tdf_2017_rt.values[790:1790]/15, \n",
        "                          '1bar': tdf_2017_1bar.values[790:1790]/15, \n",
        "                          '2bar': tdf_2017_2bar.values[790:1790]/15, \n",
        "                          '3bar': tdf_2017_3bar.values[790:1790]/15, \n",
        "                          '4bar': tdf_2017_4bar.values[790:1790]/15,\n",
        "                          '05deg': (df_2017_05deg.values[790:1790]/15)[:, 80:],\n",
        "                          '15deg': (df_2017_15deg.values[790:1790]/15)[:, 80:], \n",
        "                          '25deg': (df_2017_25deg.values[790:1790]/15)[:, 80:], \n",
        "                          '35deg': (df_2017_35deg.values[790:1790]/15)[:, 80:], \n",
        "                          '45deg': (df_2017_45deg.values[790:1790]/15)[:, 80:]},\n",
        "                 '2021': {'rt': tdf_2021_rt.values[790:1790]/15, \n",
        "                          '1bar': tdf_2021_1bar.values[790:1790]/15, \n",
        "                          '2bar': tdf_2021_2bar.values[790:1790]/15, \n",
        "                          '3bar': tdf_2021_3bar.values[790:1790]/15, \n",
        "                          '4bar': tdf_2021_4bar.values[790:1790]/15,\n",
        "                          '05deg': (df_2021_05deg.values[790:1790]/15)[:, 80:],\n",
        "                          '15deg': (df_2021_15deg.values[790:1790]/15)[:, 80:], \n",
        "                          '25deg': (df_2021_25deg.values[790:1790]/15)[:, 80:], \n",
        "                          '35deg': (df_2021_35deg.values[790:1790]/15)[:, 80:], \n",
        "                          '45deg': (df_2021_45deg.values[790:1790]/15)[:, 80:]},\n",
        "                 '2008': {'rt': tdf_2008_rt.values[790:1790]/4, \n",
        "                          '1bar': tdf_2008_1bar.values[790:1790]/4, \n",
        "                          '2bar': tdf_2008_2bar.values[790:1790]/4, \n",
        "                          '3bar': tdf_2008_3bar.values[790:1790]/4, \n",
        "                          '4bar': tdf_2008_4bar.values[790:1790]/4,\n",
        "                          '05deg': (df_2008_05deg.values[790:1790]/4)[:, 80:],\n",
        "                          '15deg': (df_2008_15deg.values[790:1790]/4)[:, 80:], \n",
        "                          '25deg': (df_2008_25deg.values[790:1790]/4)[:, 80:], \n",
        "                          '35deg': (df_2008_35deg.values[790:1790]/4)[:, 80:], \n",
        "                          '45deg': (df_2008_45deg.values[790:1790]/4)[:, 80:]},\n",
        "                 '2009': {'rt': tdf_2009_rt.values[790:1790]/4, \n",
        "                          '1bar': tdf_2009_1bar.values[790:1790]/4, \n",
        "                          '2bar': tdf_2009_2bar.values[790:1790]/4, \n",
        "                          '3bar': tdf_2009_3bar.values[790:1790]/4, \n",
        "                          '4bar': tdf_2009_4bar.values[790:1790]/4,\n",
        "                          '05deg': (df_2009_05deg.values[790:1790]/4)[:, 80:],\n",
        "                          '15deg': (df_2009_15deg.values[790:1790]/4)[:, 80:], \n",
        "                          '25deg': (df_2009_25deg.values[790:1790]/4)[:, 80:], \n",
        "                          '35deg': (df_2009_35deg.values[790:1790]/4)[:, 80:], \n",
        "                          '45deg': (df_2009_45deg.values[790:1790]/4)[:, 80:]}\n",
        "                }"
      ],
      "execution_count": null,
      "outputs": []
    },
    {
      "cell_type": "markdown",
      "metadata": {
        "id": "ffz_q8FidCXM",
        "colab_type": "text"
      },
      "source": [
        "# Continue test data preparation"
      ]
    },
    {
      "cell_type": "code",
      "metadata": {
        "id": "0BWDue4isaoQ",
        "colab_type": "code",
        "colab": {}
      },
      "source": [
        "test_data = []\n",
        "test_labels = []\n",
        "test_param_press = []\n",
        "test_param_temp = []\n",
        "for i in range(0, 10):\n",
        "    for valve in testData_dict.keys():\n",
        "        for param in testData_dict[valve].keys():\n",
        "            test_data.append(testData_dict[valve][param][:,i])\n",
        "            test_labels.append(label_dict[valve])\n",
        "            if 'bar' in param:\n",
        "                tp_str = param.split('b')[0]\n",
        "                test_param_press.append(int(tp_str))\n",
        "                test_param_temp.append(22)\n",
        "            elif 'deg' in param:\n",
        "                tt_str = param.split('d')[0]\n",
        "                test_param_press.append(1.01)\n",
        "                test_param_temp.append(int(tt_str))\n",
        "            else:\n",
        "                test_param_press.append(1.01)\n",
        "                test_param_temp.append(22)"
      ],
      "execution_count": null,
      "outputs": []
    },
    {
      "cell_type": "code",
      "metadata": {
        "id": "iNa9wtDpGnkQ",
        "colab_type": "code",
        "colab": {}
      },
      "source": [
        "X_test = np.array(test_data, dtype='float')\n",
        "y_test = np.array(test_labels)\n",
        "y_test_categorical = to_categorical(y_test, num_classes=11)\n",
        "\n",
        "# change shape for conv1D\n",
        "X_test = np.reshape(X_test, (X_test.shape[0], X_test.shape[1],1))\n",
        "\n",
        "test_param_press = np.array(test_param_press)\n",
        "test_param_press = np.reshape(test_param_press, (test_param_press.shape[0], 1))\n",
        "test_param_temp = np.array(test_param_temp)\n",
        "test_param_temp = np.reshape(test_param_temp, (test_param_temp.shape[0], 1))"
      ],
      "execution_count": null,
      "outputs": []
    },
    {
      "cell_type": "markdown",
      "metadata": {
        "id": "JtSf8qwNdNA1",
        "colab_type": "text"
      },
      "source": [
        "# Evaluate and predict"
      ]
    },
    {
      "cell_type": "code",
      "metadata": {
        "id": "meU0RtMvsaoT",
        "colab_type": "code",
        "colab": {
          "base_uri": "https://localhost:8080/",
          "height": 68
        },
        "outputId": "6d74fb18-d7c7-45b9-8a7e-18217e90ab05"
      },
      "source": [
        "results = model.evaluate(x=[X_test, test_param_press, test_param_temp], y=y_test_categorical, batch_size=32)\n",
        "print('test loss, test accuracy:', results)\n",
        "\n",
        "predictions = model.predict(x=[X_test, test_param_press, test_param_temp])\n",
        "print('predictions shape:', predictions.shape)"
      ],
      "execution_count": null,
      "outputs": [
        {
          "output_type": "stream",
          "text": [
            "1100/1100 [==============================] - 0s 269us/sample - loss: 0.0542 - acc: 0.9764\n",
            "test loss, test accuracy: [0.05423836991899986, 0.97636366]\n",
            "predictions shape: (1100, 11)\n"
          ],
          "name": "stdout"
        }
      ]
    },
    {
      "cell_type": "code",
      "metadata": {
        "id": "nN2OBr_UlLf0",
        "colab_type": "code",
        "colab": {
          "base_uri": "https://localhost:8080/",
          "height": 34
        },
        "outputId": "79a3ad2f-ff25-4fcf-cc40-85260b81f896"
      },
      "source": [
        "class_labels = np.argmax(predictions, axis=1)\n",
        "class_labels"
      ],
      "execution_count": null,
      "outputs": [
        {
          "output_type": "execute_result",
          "data": {
            "text/plain": [
              "array([ 0,  0,  0, ..., 10, 10, 10])"
            ]
          },
          "metadata": {
            "tags": []
          },
          "execution_count": 30
        }
      ]
    },
    {
      "cell_type": "markdown",
      "metadata": {
        "id": "4n7fjqxrdTVa",
        "colab_type": "text"
      },
      "source": [
        "# Plot confusion matrix"
      ]
    },
    {
      "cell_type": "code",
      "metadata": {
        "id": "cH8GEvNHsaoe",
        "colab_type": "code",
        "colab": {}
      },
      "source": [
        "def plot_confusion_matrix(cm, classes,\n",
        "                          normalize=False,\n",
        "                          title='Confusion matrix',\n",
        "                          cmap=plt.cm.Blues):\n",
        "    \"\"\"\n",
        "    This function prints and plots the confusion matrix.\n",
        "    Normalization can be applied by setting `normalize=True`.\n",
        "    \"\"\"\n",
        "    import itertools\n",
        "    if normalize:\n",
        "        cm = cm.astype('float') / cm.sum(axis=1)[:, np.newaxis]\n",
        "        print(\"Normalized confusion matrix\")\n",
        "    else:\n",
        "        print('Confusion matrix, without normalization')\n",
        "\n",
        "    print(cm)\n",
        "\n",
        "    fig = plt.figure(figsize=(10,10))\n",
        "    plt.imshow(cm, interpolation='nearest', cmap=cmap)\n",
        "    plt.title(title)\n",
        "    plt.colorbar()\n",
        "    tick_marks = np.arange(len(classes))\n",
        "    plt.xticks(tick_marks, classes, rotation=45)\n",
        "    plt.yticks(tick_marks, classes)\n",
        "\n",
        "    fmt = '.2f' if normalize else 'd'\n",
        "    thresh = cm.max() / 2.\n",
        "    for i, j in itertools.product(range(cm.shape[0]), range(cm.shape[1])):\n",
        "        plt.text(j, i, format(cm[i, j], fmt),\n",
        "                 horizontalalignment=\"center\",\n",
        "                 color=\"white\" if cm[i, j] > thresh else \"black\")\n",
        "\n",
        "    plt.ylabel('True label')\n",
        "    plt.xlabel('Predicted label')\n",
        "    plt.tight_layout()"
      ],
      "execution_count": null,
      "outputs": []
    },
    {
      "cell_type": "code",
      "metadata": {
        "id": "ct0MdwTHsaol",
        "colab_type": "code",
        "colab": {}
      },
      "source": [
        "from sklearn.metrics import confusion_matrix\n",
        "conf_matrix = confusion_matrix(y_true=y_test, y_pred=class_labels, labels=[0,1,2,3,4,5,6,7,8,9,10])"
      ],
      "execution_count": null,
      "outputs": []
    },
    {
      "cell_type": "code",
      "metadata": {
        "id": "GGQ1ZM1ysaoq",
        "colab_type": "code",
        "colab": {
          "base_uri": "https://localhost:8080/",
          "height": 950
        },
        "outputId": "21743d39-fd68-46a6-89cd-4e363dea0127"
      },
      "source": [
        "# Plot non-normalized confusion matrix\n",
        "plt.figure()\n",
        "plot_confusion_matrix(conf_matrix, classes=['2103', '2105', '2115', '2117', \n",
        "                                            '2007', '2010', '2016', '2017', \n",
        "                                            '2021', '2008', '2009'],\n",
        "                      title='Confusion matrix, without normalization')"
      ],
      "execution_count": null,
      "outputs": [
        {
          "output_type": "stream",
          "text": [
            "Confusion matrix, without normalization\n",
            "[[100   0   0   0   0   0   0   0   0   0   0]\n",
            " [  0  90   0   0   0  10   0   0   0   0   0]\n",
            " [  0   0  99   0   0   0   0   1   0   0   0]\n",
            " [  0   0   0 100   0   0   0   0   0   0   0]\n",
            " [  0   0   0   0  99   1   0   0   0   0   0]\n",
            " [  0   7   0   0   0  93   0   0   0   0   0]\n",
            " [  0   0   0   0   0   0 100   0   0   0   0]\n",
            " [  1   0   0   0   0   0   0  99   0   0   0]\n",
            " [  0   0   0   0   0   0  22   0  78   0   0]\n",
            " [  0   0   0   0   0   0   0   0   0  99   1]\n",
            " [  0   0   0   0   0   0   0   0   0   0 100]]\n"
          ],
          "name": "stdout"
        },
        {
          "output_type": "display_data",
          "data": {
            "text/plain": [
              "<Figure size 432x288 with 0 Axes>"
            ]
          },
          "metadata": {
            "tags": []
          }
        },
        {
          "output_type": "display_data",
          "data": {
            "image/png": "[encoded data removed]",
            "text/plain": [
              "<Figure size 720x720 with 2 Axes>"
            ]
          },
          "metadata": {
            "tags": []
          }
        }
      ]
    },
    {
      "cell_type": "markdown",
      "metadata": {
        "id": "Lew_RSOTu99g",
        "colab_type": "text"
      },
      "source": [
        "# Save model and other results"
      ]
    },
    {
      "cell_type": "code",
      "metadata": {
        "id": "sGP4nMW7saoz",
        "colab_type": "code",
        "colab": {}
      },
      "source": [
        "# To save a model (model's architecture, weights, and training configuration stored in a file/folder)\n",
        "model.save('conv1D/conv1D_withWindow_noNoise')"
      ],
      "execution_count": null,
      "outputs": []
    },
    {
      "cell_type": "code",
      "metadata": {
        "id": "m7gY41b9sao5",
        "colab_type": "code",
        "colab": {}
      },
      "source": [
        "# to save loss and acc matrices to plot later\n",
        "import pickle\n",
        "with open('conv1D/conv1D_withWindow_noNoise_metrics.pickle', 'wb') as handle:\n",
        "    pickle.dump(history.history, handle, protocol=pickle.HIGHEST_PROTOCOL)\n",
        "    \n",
        "# to read the saved file:\n",
        "#with open('<filename>', 'rb') as handle:\n",
        "    #h_dict = pickle.load(handle)"
      ],
      "execution_count": null,
      "outputs": []
    },
    {
      "cell_type": "code",
      "metadata": {
        "id": "2dhm1DBzsao_",
        "colab_type": "code",
        "colab": {}
      },
      "source": [
        "# to save confusion matrix:\n",
        "with open('conv1D/conv1D_withWindow_noNoise_confMatrix.pickle', 'wb') as f:\n",
        "    pickle.dump(conf_matrix, f, protocol=pickle.HIGHEST_PROTOCOL)\n",
        "\n",
        "# to load from file:\n",
        "#with open('<filename>', 'rb') as f:\n",
        "    #conf_matrix = pickle.load(f)"
      ],
      "execution_count": null,
      "outputs": []
    },
    {
      "cell_type": "code",
      "metadata": {
        "id": "nwalSg5DHsc0",
        "colab_type": "code",
        "colab": {
          "base_uri": "https://localhost:8080/",
          "height": 238
        },
        "outputId": "980e0506-c21d-4a69-dca4-ac1e62c98e8e"
      },
      "source": [
        "# to zip saved model and pickle files\n",
        "!zip -r /content/conv1D.zip /content/conv1D"
      ],
      "execution_count": null,
      "outputs": [
        {
          "output_type": "stream",
          "text": [
            "  adding: content/conv1D/ (stored 0%)\n",
            "  adding: content/conv1D/conv1D_withWindow_noNoise_metrics.pickle (deflated 70%)\n",
            "  adding: content/conv1D/conv1D_noWindow_withNoise (deflated 36%)\n",
            "  adding: content/conv1D/conv1D_withWindow_withNoise (deflated 33%)\n",
            "  adding: content/conv1D/conv1D_noWindow_noNoise_confMatrix.pickle (deflated 84%)\n",
            "  adding: content/conv1D/conv1D_withWindow_noNoise_confMatrix.pickle (deflated 83%)\n",
            "  adding: content/conv1D/conv1D_withWindow_withNoise_metrics.pickle (deflated 69%)\n",
            "  adding: content/conv1D/conv1D_noWindow_noNoise (deflated 27%)\n",
            "  adding: content/conv1D/conv1D_noWindow_withNoise_confMatrix.pickle (deflated 83%)\n",
            "  adding: content/conv1D/conv1D_noWindow_withNoise_metrics.pickle (deflated 69%)\n",
            "  adding: content/conv1D/conv1D_noWindow_noNoise_metrics.pickle (deflated 66%)\n",
            "  adding: content/conv1D/conv1D_withWindow_noNoise (deflated 35%)\n",
            "  adding: content/conv1D/conv1D_withWindow_withNoise_confMatrix.pickle (deflated 84%)\n"
          ],
          "name": "stdout"
        }
      ]
    },
    {
      "cell_type": "code",
      "metadata": {
        "id": "SiCYQ3XqHtd7",
        "colab_type": "code",
        "colab": {}
      },
      "source": [
        "# to download the zipped files\n",
        "from google.colab import files\n",
        "files.download(\"/content/conv1D.zip\")"
      ],
      "execution_count": null,
      "outputs": []
    },
    {
      "cell_type": "markdown",
      "metadata": {
        "id": "Xcoxi8ulueQv",
        "colab_type": "text"
      },
      "source": [
        "# Load saved model and predict\n",
        "check if you get same values"
      ]
    },
    {
      "cell_type": "code",
      "metadata": {
        "id": "OgnEoZD-vFvz",
        "colab_type": "code",
        "colab": {}
      },
      "source": [
        "loaded_model = tf.keras.models.load_model('results/model1')"
      ],
      "execution_count": null,
      "outputs": []
    },
    {
      "cell_type": "code",
      "metadata": {
        "id": "2Xs-7aCnulW8",
        "colab_type": "code",
        "colab": {}
      },
      "source": [
        "results = loaded_model.evaluate(x=[X_test, test_param_press, test_param_temp], y=y_test_categorical, batch_size=32)\n",
        "print('test loss, test accuracy:', results)\n",
        "\n",
        "predictions = loaded_model.predict(x=[X_test, test_param_press, test_param_temp])\n",
        "print('predictions shape:', predictions.shape)"
      ],
      "execution_count": null,
      "outputs": []
    }
  ]
}